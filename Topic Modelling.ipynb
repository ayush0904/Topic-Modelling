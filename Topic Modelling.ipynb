{
 "cells": [
  {
   "cell_type": "markdown",
   "id": "9fa183fc",
   "metadata": {},
   "source": [
    "Topic Modelling\n",
    "1- Used to get information from a very last dataset corpus without reading the actual text\n",
    "2- eg: from a big criminal dataset we can get the information in which reason the crime is happening more etc.\n",
    "\n",
    "Drawback of Kmeans:\n",
    "1- Every document will have only 1 topic, they cannot have multiple topics. To overcome this, LDA came into picture. LDA can have multiple  \n"
   ]
  },
  {
   "cell_type": "code",
   "execution_count": 17,
   "id": "078cf06e",
   "metadata": {},
   "outputs": [],
   "source": [
    "import pandas as pd\n",
    "from sklearn.metrics import adjusted_rand_score\n",
    "import string\n",
    "from nltk.corpus import stopwords\n",
    "import json \n",
    "import glob\n",
    "import re\n",
    "from sklearn.feature_extraction.text import TfidfVectorizer\n",
    "from sklearn.cluster import KMeans"
   ]
  },
  {
   "cell_type": "code",
   "execution_count": 18,
   "id": "710a335b",
   "metadata": {},
   "outputs": [],
   "source": [
    "def load_data(file):\n",
    "    with open(file,\"r\",encoding=\"utf-8\") as f:\n",
    "        data = json.load(f)\n",
    "    return (data)"
   ]
  },
  {
   "cell_type": "code",
   "execution_count": 20,
   "id": "5298909f",
   "metadata": {},
   "outputs": [],
   "source": [
    "def write_data(file,data):\n",
    "    with open(file,\"w\",encoding=\"utf-8\") as f:\n",
    "        json.dump(data,f,indent=4)\n",
    "    "
   ]
  },
  {
   "cell_type": "code",
   "execution_count": 27,
   "id": "72b2c993",
   "metadata": {},
   "outputs": [],
   "source": [
    "def remove_stops(text,stops):\n",
    "    text = re.sub(r\"AC\\/\\d{1,4}\\/\\d{1,4}\", \"\", text) #remove all of the AC numbers\n",
    "    words = text.split()\n",
    "    final = []\n",
    "    for word in words:\n",
    "        if word not in stops: #remove stops\n",
    "            final.append(word)\n",
    "    final = \" \".join(final)\n",
    "    final = final.translate(str.maketrans(\"\",\"\",string.punctuation)) #remove punctuations\n",
    "    final = \"\".join([i for i in final if not i.isdigit()]) #remove digit\n",
    "    while \"  \" in final:\n",
    "        final = final.replace(\"  \",\" \") # remove double space with single space\n",
    "    return (final)\n",
    "    "
   ]
  },
  {
   "cell_type": "code",
   "execution_count": 26,
   "id": "4bce1c57",
   "metadata": {},
   "outputs": [],
   "source": [
    "def clean_docs(docs):\n",
    "    #list of desc\n",
    "    stops = stopwords.words(\"english\")\n",
    "    months = load_data(\"data/months.json\")\n",
    "    stops = stops + months\n",
    "    final = []\n",
    "    for doc in docs:\n",
    "        clean_doc = remove_stops(doc,stops)\n",
    "        final.append(clean_doc)\n",
    "    return (final)\n"
   ]
  },
  {
   "cell_type": "code",
   "execution_count": 28,
   "id": "8ab4c22f",
   "metadata": {},
   "outputs": [],
   "source": [
    "descriptions = load_data(\"data/trc_dn.json\")[\"descriptions\"]\n",
    "names = load_data(\"data/trc_dn.json\")[\"names\"]"
   ]
  },
  {
   "cell_type": "code",
   "execution_count": 29,
   "id": "f63afc23",
   "metadata": {},
   "outputs": [],
   "source": [
    "cleaned_docs = clean_docs(descriptions)"
   ]
  },
  {
   "cell_type": "code",
   "execution_count": 30,
   "id": "a294db35",
   "metadata": {},
   "outputs": [
    {
     "data": {
      "text/plain": [
       "'An ANCYL member shot severely injured SAP members Lephoi Bethulie Orange Free State OFS Police opened fire gathering ANC supporters house following dispute two neighbours one linked ANC SAP councillor'"
      ]
     },
     "execution_count": 30,
     "metadata": {},
     "output_type": "execute_result"
    }
   ],
   "source": [
    "cleaned_docs[0]"
   ]
  },
  {
   "cell_type": "code",
   "execution_count": 31,
   "id": "70e7854d",
   "metadata": {},
   "outputs": [
    {
     "name": "stdout",
     "output_type": "stream",
     "text": [
      "An ANCYL member who was shot and severely injured by SAP members at Lephoi, Bethulie, Orange Free State (OFS) on 17 April 1991. Police opened fire on a gathering at an ANC supporter's house following a dispute between two neighbours, one of whom was linked to the ANC and the other to the SAP and a councillor.\n",
      "['anc', 'anc supporters', 'house', 'injured', 'member', 'members', 'police', 'sap', 'severely', 'shot', 'supporters']\n"
     ]
    }
   ],
   "source": [
    "vectorizer = TfidfVectorizer(\n",
    "                                lowercase=True,\n",
    "                                max_features=100,\n",
    "                                max_df=0.8, #words that occurs more than 80% in all documents delete it\n",
    "                                min_df=5, #less than 5 remove\n",
    "                                ngram_range = (1,3), #1,2,3 gram all 3 will run\n",
    "                                stop_words = \"english\"\n",
    "                            )\n",
    "\n",
    "vectors = vectorizer.fit_transform(cleaned_docs)\n",
    "feature_names = vectorizer.get_feature_names()\n",
    "dense = vectors.todense()\n",
    "denselist = dense.tolist()\n",
    "\n",
    "all_keywords = []\n",
    "\n",
    "for description in denselist:\n",
    "    x=0\n",
    "    keywords = []\n",
    "    for word in description:\n",
    "        if word > 0:\n",
    "            keywords.append(feature_names[x])\n",
    "        x=x+1\n",
    "    all_keywords.append(keywords)\n",
    "    \n",
    "print (descriptions[0])\n",
    "print (all_keywords[0])\n",
    "\n"
   ]
  },
  {
   "cell_type": "code",
   "execution_count": 33,
   "id": "72f08a84",
   "metadata": {},
   "outputs": [],
   "source": [
    "true_k = 20\n",
    "model = KMeans(n_clusters=true_k, init=\"k-means++\", max_iter=100, n_init=1)\n",
    "\n",
    "model.fit(vectors)\n",
    "\n",
    "order_centroids = model.cluster_centers_.argsort()[:, ::-1]\n",
    "terms = vectorizer.get_feature_names()\n",
    "\n",
    "with open (\"data/trc_results.txt\", \"w\", encoding=\"utf-8\") as f:\n",
    "    for i in range(true_k):\n",
    "        f.write(f\"Cluster {i}\")\n",
    "        f.write(\"\\n\")\n",
    "        for ind in order_centroids[i, :10]:\n",
    "            f.write (' %s' % terms[ind],)\n",
    "            f.write(\"\\n\")\n",
    "        f.write(\"\\n\")\n",
    "        f.write(\"\\n\")\n"
   ]
  },
  {
   "cell_type": "code",
   "execution_count": null,
   "id": "8f13304a",
   "metadata": {},
   "outputs": [],
   "source": []
  }
 ],
 "metadata": {
  "kernelspec": {
   "display_name": "Python 3 (ipykernel)",
   "language": "python",
   "name": "python3"
  },
  "language_info": {
   "codemirror_mode": {
    "name": "ipython",
    "version": 3
   },
   "file_extension": ".py",
   "mimetype": "text/x-python",
   "name": "python",
   "nbconvert_exporter": "python",
   "pygments_lexer": "ipython3",
   "version": "3.9.7"
  }
 },
 "nbformat": 4,
 "nbformat_minor": 5
}
