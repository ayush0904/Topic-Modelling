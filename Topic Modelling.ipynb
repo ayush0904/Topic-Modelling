{
 "cells": [
  {
   "cell_type": "markdown",
   "id": "4fad0727",
   "metadata": {},
   "source": [
    "# Importing The Libraries"
   ]
  },
  {
   "cell_type": "code",
   "execution_count": 316,
   "id": "1b0eedb1",
   "metadata": {},
   "outputs": [],
   "source": [
    "import json\n",
    "import requests\n",
    "import pandas as pd\n",
    "import numpy as np\n",
    "import emoji\n",
    "import regex\n",
    "import re\n",
    "import string\n",
    "from collections import Counter\n",
    "\n",
    "#Visualizations\n",
    "import plotly.express as px\n",
    "import seaborn as sns\n",
    "import matplotlib.pyplot as plt \n",
    "import pyLDAvis.gensim_models as gensimvis\n",
    "import chart_studio\n",
    "import chart_studio.plotly as py \n",
    "import chart_studio.tools as tls\n",
    "\n",
    "#Natural Language Processing (NLP)\n",
    "import spacy\n",
    "import gensim\n",
    "from spacy.tokenizer import Tokenizer\n",
    "from gensim.corpora import Dictionary\n",
    "from gensim.models.ldamulticore import LdaMulticore\n",
    "from gensim.models.coherencemodel import CoherenceModel\n",
    "from gensim.parsing.preprocessing import STOPWORDS as SW\n",
    "from sklearn.decomposition import LatentDirichletAllocation, TruncatedSVD\n",
    "from sklearn.feature_extraction.text import CountVectorizer, TfidfVectorizer\n",
    "from sklearn.model_selection import GridSearchCV\n",
    "from pprint import pprint\n",
    "from nltk.corpus import stopwords\n",
    "stopwords = stopwords.words(\"english\")\n",
    "import time\n",
    "nlp = spacy.load('en_core_web_lg')\n",
    "import pyLDAvis\n",
    "import pyLDAvis.gensim_models as gensimvis\n",
    "pyLDAvis.enable_notebook()"
   ]
  },
  {
   "cell_type": "markdown",
   "id": "e9b4addd",
   "metadata": {},
   "source": [
    "# Reading And Preprocessing The DataSet"
   ]
  },
  {
   "cell_type": "code",
   "execution_count": 359,
   "id": "d9b016ab",
   "metadata": {},
   "outputs": [
    {
     "data": {
      "text/html": [
       "<div>\n",
       "<style scoped>\n",
       "    .dataframe tbody tr th:only-of-type {\n",
       "        vertical-align: middle;\n",
       "    }\n",
       "\n",
       "    .dataframe tbody tr th {\n",
       "        vertical-align: top;\n",
       "    }\n",
       "\n",
       "    .dataframe thead th {\n",
       "        text-align: right;\n",
       "    }\n",
       "</style>\n",
       "<table border=\"1\" class=\"dataframe\">\n",
       "  <thead>\n",
       "    <tr style=\"text-align: right;\">\n",
       "      <th></th>\n",
       "      <th>raw_tweets</th>\n",
       "    </tr>\n",
       "  </thead>\n",
       "  <tbody>\n",
       "    <tr>\n",
       "      <th>0</th>\n",
       "      <td>Climate Lite personified. Hayhoe is a total fa...</td>\n",
       "    </tr>\n",
       "    <tr>\n",
       "      <th>2</th>\n",
       "      <td>last I check, thanks to the ChinaVirus, ther...</td>\n",
       "    </tr>\n",
       "    <tr>\n",
       "      <th>4</th>\n",
       "      <td>He presented what you asked for,  but it's no...</td>\n",
       "    </tr>\n",
       "    <tr>\n",
       "      <th>6</th>\n",
       "      <td>Wow, that is shockingly stupid</td>\n",
       "    </tr>\n",
       "    <tr>\n",
       "      <th>9</th>\n",
       "      <td>I feel like \"ok doomer\" is the appropriate res...</td>\n",
       "    </tr>\n",
       "  </tbody>\n",
       "</table>\n",
       "</div>"
      ],
      "text/plain": [
       "                                          raw_tweets\n",
       "0  Climate Lite personified. Hayhoe is a total fa...\n",
       "2    last I check, thanks to the ChinaVirus, ther...\n",
       "4   He presented what you asked for,  but it's no...\n",
       "6                     Wow, that is shockingly stupid\n",
       "9  I feel like \"ok doomer\" is the appropriate res..."
      ]
     },
     "execution_count": 359,
     "metadata": {},
     "output_type": "execute_result"
    }
   ],
   "source": [
    "raw_data = pd.read_csv('MTurk-Labels-20201022.csv')\n",
    "tweet_data = raw_data[['Input.text']].copy()\n",
    "tweet_data = tweet_data.rename(columns={'Input.text': 'raw_tweets'})\n",
    "tweet_data = tweet_data.drop_duplicates(subset = [\"raw_tweets\"])\n",
    "tweet_data.head()"
   ]
  },
  {
   "cell_type": "markdown",
   "id": "f050e401",
   "metadata": {},
   "source": [
    "#### Since we have duplicate rows "
   ]
  },
  {
   "cell_type": "markdown",
   "id": "14efa71f",
   "metadata": {},
   "source": [
    "# Data Cleaning and Preprocessing"
   ]
  },
  {
   "cell_type": "code",
   "execution_count": 360,
   "id": "5f0b706b",
   "metadata": {},
   "outputs": [],
   "source": [
    "\"\"\"\n",
    "Remove the Emoticons and Url from the tweets\n",
    "\"\"\"\n",
    "def give_emoji_url_free_text(text):\n",
    "    #Removing Emoji\n",
    "    emoji_list = [c for c in text if c in emoji.UNICODE_EMOJI]\n",
    "    clean_text = ' '.join([str for str in text.split() if not any(i in str for i in emoji_list)])\n",
    "    #Removing URL\n",
    "    clean_text = re.sub(r'http\\S+', '', clean_text)\n",
    "    return clean_text"
   ]
  },
  {
   "cell_type": "code",
   "execution_count": 361,
   "id": "968c8859",
   "metadata": {},
   "outputs": [],
   "source": [
    "\"\"\"\n",
    "Create the StopWords list from Gensim, NLTK, and Custom Stopwords\n",
    "\"\"\"\n",
    "def create_stopwords():\n",
    "    # Provided in the File\n",
    "    with open(\"stopwords.txt\") as f:\n",
    "        custom_stopwords = f.read().splitlines() \n",
    "        \n",
    "    more_custom_stopwords = ['hi','\\n','\\n\\n', '&amp;', ' ', '.', '-', 'got', \"it's\", 'it’s', \"i'm\", 'i’m', 'im', 'want', 'like', '$', '@']\n",
    "    all_stopwords = nlp.Defaults.stop_words.union(custom_stopwords).union(SW).union(stopwords).union(more_custom_stopwords)\n",
    "    return all_stopwords"
   ]
  },
  {
   "cell_type": "code",
   "execution_count": 362,
   "id": "3fc19d1d",
   "metadata": {},
   "outputs": [],
   "source": [
    "\"\"\"\n",
    "Creating the tokens, and removing stopwords\n",
    "and punctuations\n",
    "\"\"\"\n",
    "def tokenization():\n",
    "    tokenizer = Tokenizer(nlp.vocab)\n",
    "    all_stopwords = create_stopwords()\n",
    "    tokens = []\n",
    "    for doc in tokenizer.pipe(tweet_data['url_emoji_url_free_tweets'], batch_size=500):\n",
    "        doc_tokens = []    \n",
    "        for token in doc: \n",
    "            if token.text.lower() not in all_stopwords and token.text.lower() not in string.punctuation:\n",
    "                doc_tokens.append(token.text.lower())   \n",
    "        tokens.append(doc_tokens)\n",
    "    # Makes tokens column\n",
    "    return tokens\n"
   ]
  },
  {
   "cell_type": "code",
   "execution_count": 363,
   "id": "d7716ed8",
   "metadata": {},
   "outputs": [],
   "source": [
    "\"\"\"\n",
    "Applying the lemmatization\n",
    "\"\"\"\n",
    "def lemmatization(text):\n",
    "    lemmas = []\n",
    "    doc = nlp(text)\n",
    "    for token in doc: \n",
    "        if ((token.is_stop == False) and (token.is_punct == False)) and (token.pos_ not in 'PRON'): # [\"NOUN\",\"ADJ\",\"VERB\",\"ADV\"]\n",
    "            lemmas.append(token.lemma_)\n",
    "    return lemmas"
   ]
  },
  {
   "cell_type": "code",
   "execution_count": 364,
   "id": "0e144168",
   "metadata": {},
   "outputs": [
    {
     "data": {
      "text/html": [
       "<div>\n",
       "<style scoped>\n",
       "    .dataframe tbody tr th:only-of-type {\n",
       "        vertical-align: middle;\n",
       "    }\n",
       "\n",
       "    .dataframe tbody tr th {\n",
       "        vertical-align: top;\n",
       "    }\n",
       "\n",
       "    .dataframe thead th {\n",
       "        text-align: right;\n",
       "    }\n",
       "</style>\n",
       "<table border=\"1\" class=\"dataframe\">\n",
       "  <thead>\n",
       "    <tr style=\"text-align: right;\">\n",
       "      <th></th>\n",
       "      <th>raw_tweets</th>\n",
       "      <th>url_emoji_url_free_tweets</th>\n",
       "      <th>tokens</th>\n",
       "      <th>tokens_back_to_text</th>\n",
       "      <th>lemma_tokens</th>\n",
       "      <th>lemmas_back_to_text</th>\n",
       "    </tr>\n",
       "  </thead>\n",
       "  <tbody>\n",
       "    <tr>\n",
       "      <th>0</th>\n",
       "      <td>Climate Lite personified. Hayhoe is a total fa...</td>\n",
       "      <td>Climate Lite personified. Hayhoe is a total fa...</td>\n",
       "      <td>[climate, lite, personified., hayhoe, total, f...</td>\n",
       "      <td>climate lite personified. hayhoe total fake. d...</td>\n",
       "      <td>[climate, lite, personify, hayhoe, total, fake...</td>\n",
       "      <td>climate lite personify hayhoe total fake deep ...</td>\n",
       "    </tr>\n",
       "    <tr>\n",
       "      <th>2</th>\n",
       "      <td>last I check, thanks to the ChinaVirus, ther...</td>\n",
       "      <td>last I check, thanks to the ChinaVirus, there'...</td>\n",
       "      <td>[check,, chinavirus,, lot, carbon, atmosphere....</td>\n",
       "      <td>check, chinavirus, lot carbon atmosphere...or ...</td>\n",
       "      <td>[check, chinavirus, lot, carbon, atmosphere, w...</td>\n",
       "      <td>check chinavirus lot carbon atmosphere watch news</td>\n",
       "    </tr>\n",
       "    <tr>\n",
       "      <th>4</th>\n",
       "      <td>He presented what you asked for,  but it's no...</td>\n",
       "      <td>He presented what you asked for, but it's not ...</td>\n",
       "      <td>[presented, asked, for,, good, you,, \"almighty...</td>\n",
       "      <td>presented asked for, good you, \"almighty\" agw-...</td>\n",
       "      <td>[present, ask, good, almighty, agw, alarmist, ...</td>\n",
       "      <td>present ask good almighty agw alarmist truth u...</td>\n",
       "    </tr>\n",
       "    <tr>\n",
       "      <th>6</th>\n",
       "      <td>Wow, that is shockingly stupid</td>\n",
       "      <td>Wow, that is shockingly stupid</td>\n",
       "      <td>[wow,, shockingly, stupid]</td>\n",
       "      <td>wow, shockingly stupid</td>\n",
       "      <td>[wow, shockingly, stupid]</td>\n",
       "      <td>wow shockingly stupid</td>\n",
       "    </tr>\n",
       "    <tr>\n",
       "      <th>9</th>\n",
       "      <td>I feel like \"ok doomer\" is the appropriate res...</td>\n",
       "      <td>I feel like \"ok doomer\" is the appropriate res...</td>\n",
       "      <td>[feel, \"ok, doomer\", response]</td>\n",
       "      <td>feel \"ok doomer\" response</td>\n",
       "      <td>[feel, ok, doomer, response]</td>\n",
       "      <td>feel ok doomer response</td>\n",
       "    </tr>\n",
       "  </tbody>\n",
       "</table>\n",
       "</div>"
      ],
      "text/plain": [
       "                                          raw_tweets  \\\n",
       "0  Climate Lite personified. Hayhoe is a total fa...   \n",
       "2    last I check, thanks to the ChinaVirus, ther...   \n",
       "4   He presented what you asked for,  but it's no...   \n",
       "6                     Wow, that is shockingly stupid   \n",
       "9  I feel like \"ok doomer\" is the appropriate res...   \n",
       "\n",
       "                           url_emoji_url_free_tweets  \\\n",
       "0  Climate Lite personified. Hayhoe is a total fa...   \n",
       "2  last I check, thanks to the ChinaVirus, there'...   \n",
       "4  He presented what you asked for, but it's not ...   \n",
       "6                     Wow, that is shockingly stupid   \n",
       "9  I feel like \"ok doomer\" is the appropriate res...   \n",
       "\n",
       "                                              tokens  \\\n",
       "0  [climate, lite, personified., hayhoe, total, f...   \n",
       "2  [check,, chinavirus,, lot, carbon, atmosphere....   \n",
       "4  [presented, asked, for,, good, you,, \"almighty...   \n",
       "6                         [wow,, shockingly, stupid]   \n",
       "9                     [feel, \"ok, doomer\", response]   \n",
       "\n",
       "                                 tokens_back_to_text  \\\n",
       "0  climate lite personified. hayhoe total fake. d...   \n",
       "2  check, chinavirus, lot carbon atmosphere...or ...   \n",
       "4  presented asked for, good you, \"almighty\" agw-...   \n",
       "6                             wow, shockingly stupid   \n",
       "9                          feel \"ok doomer\" response   \n",
       "\n",
       "                                        lemma_tokens  \\\n",
       "0  [climate, lite, personify, hayhoe, total, fake...   \n",
       "2  [check, chinavirus, lot, carbon, atmosphere, w...   \n",
       "4  [present, ask, good, almighty, agw, alarmist, ...   \n",
       "6                          [wow, shockingly, stupid]   \n",
       "9                       [feel, ok, doomer, response]   \n",
       "\n",
       "                                 lemmas_back_to_text  \n",
       "0  climate lite personify hayhoe total fake deep ...  \n",
       "2  check chinavirus lot carbon atmosphere watch news  \n",
       "4  present ask good almighty agw alarmist truth u...  \n",
       "6                              wow shockingly stupid  \n",
       "9                            feel ok doomer response  "
      ]
     },
     "execution_count": 364,
     "metadata": {},
     "output_type": "execute_result"
    }
   ],
   "source": [
    "\"\"\"\n",
    "Data Cleaning \n",
    "\"\"\"\n",
    "def data_cleaning():\n",
    "    tweet_data['url_emoji_url_free_tweets'] = tweet_data['raw_tweets'].apply(lambda x: give_emoji_url_free_text(x))\n",
    "    tweet_data['tokens'] = tokenization()\n",
    "    tweet_data['tokens_back_to_text'] = [' '.join(map(str, l)) for l in tweet_data['tokens']]\n",
    "    tweet_data['lemma_tokens'] = tweet_data['tokens_back_to_text'].apply(lemmatization)\n",
    "    tweet_data['lemmas_back_to_text'] = [' '.join(map(str, l)) for l in tweet_data['lemma_tokens']]\n",
    "    tweet_data.head()\n",
    "data_cleaning()\n",
    "tweet_data.head()"
   ]
  },
  {
   "cell_type": "markdown",
   "id": "44e61fea",
   "metadata": {},
   "source": [
    "# Creating the Bigram and Trigrams"
   ]
  },
  {
   "cell_type": "markdown",
   "id": "bdc2d80d",
   "metadata": {},
   "source": [
    "Hyperparameters\n",
    "min_count = 3\n",
    "threshold=10"
   ]
  },
  {
   "cell_type": "code",
   "execution_count": 365,
   "id": "babbd801",
   "metadata": {},
   "outputs": [
    {
     "name": "stdout",
     "output_type": "stream",
     "text": [
      "['climate', 'lite', 'personify', 'hayhoe', 'total', 'fake', 'deep', 'swamp', 'elevate', 'celebrity', 'status', 'claim', 'extreme', 'weather', 'event', 'increase', 'ipcc']\n"
     ]
    }
   ],
   "source": [
    "data_words = tweet_data['lemma_tokens'].tolist()\n",
    "#BIGRAMS AND TRIGRAMS\n",
    "bigram_phrases = gensim.models.Phrases(data_words, min_count=3, threshold=10)\n",
    "trigram_phrases = gensim.models.Phrases(bigram_phrases[data_words], threshold=10)\n",
    "\n",
    "bigram = gensim.models.phrases.Phraser(bigram_phrases)\n",
    "trigram = gensim.models.phrases.Phraser(trigram_phrases)\n",
    "\n",
    "def make_bigrams(texts):\n",
    "    return([bigram[doc] for doc in texts])\n",
    "\n",
    "def make_trigrams(texts):\n",
    "    return ([trigram[bigram[doc]] for doc in texts])\n",
    "\n",
    "data_bigrams = make_bigrams(data_words)\n",
    "data_bigrams_trigrams = make_trigrams(data_bigrams)\n",
    "\n",
    "print (data_bigrams_trigrams[0][0:20])"
   ]
  },
  {
   "cell_type": "code",
   "execution_count": 366,
   "id": "9b545fce",
   "metadata": {},
   "outputs": [
    {
     "name": "stdout",
     "output_type": "stream",
     "text": [
      "1330\n",
      "343\n"
     ]
    }
   ],
   "source": [
    "id2word = Dictionary(data_bigrams_trigrams)\n",
    "print(len(id2word))\n",
    "id2word.filter_extremes(no_below=2, no_above=.99)\n",
    "print(len(id2word))\n",
    "corpus = [id2word.doc2bow(d) for d in data_bigrams_trigrams]"
   ]
  },
  {
   "cell_type": "markdown",
   "id": "f7c0e183",
   "metadata": {},
   "source": [
    "### Corpus is ready"
   ]
  },
  {
   "cell_type": "markdown",
   "id": "cd08a5bc",
   "metadata": {},
   "source": [
    "# Grid Search"
   ]
  },
  {
   "cell_type": "code",
   "execution_count": 367,
   "id": "7bb8a54a",
   "metadata": {},
   "outputs": [
    {
     "name": "stdout",
     "output_type": "stream",
     "text": [
      "<class 'str'>\n"
     ]
    }
   ],
   "source": [
    "lemmas_df = tweet_data['lemmas_back_to_text']\n",
    "print(type(lemmas_df[0]))\n"
   ]
  },
  {
   "cell_type": "code",
   "execution_count": 368,
   "id": "678d0e15",
   "metadata": {},
   "outputs": [],
   "source": [
    "vectorizer = CountVectorizer(ngram_range = (1,3))\n",
    "data_vectorized = vectorizer.fit_transform(tweet_data['lemmas_back_to_text'])"
   ]
  },
  {
   "cell_type": "code",
   "execution_count": 369,
   "id": "e950b6d1",
   "metadata": {},
   "outputs": [],
   "source": [
    "gs_start_time = time.time()\n",
    "\n",
    "# Define Search Param\n",
    "search_params = {'n_components': [10], 'learning_decay': [.5]}\n",
    "\n",
    "# Init the Model\n",
    "lda = LatentDirichletAllocation()\n",
    "\n",
    "# Init Grid Search Class\n",
    "model = GridSearchCV(lda, param_grid=search_params)\n",
    "\n",
    "# Do the Grid Search\n",
    "model.fit(data_vectorized)\n",
    "GridSearchCV(cv=None, error_score='raise',\n",
    "             estimator=LatentDirichletAllocation(batch_size=128, \n",
    "                                                 doc_topic_prior=None,\n",
    "                                                 evaluate_every=-1, \n",
    "                                                 learning_decay=0.7, \n",
    "                                                 learning_method=None,\n",
    "                                                 learning_offset=10.0, \n",
    "                                                 max_doc_update_iter=100, \n",
    "                                                 max_iter=10,\n",
    "                                                 mean_change_tol=0.001, \n",
    "                                                 n_components=10, \n",
    "                                                 n_jobs=1,\n",
    "                                                 perp_tol=0.1, \n",
    "                                                 random_state=None,\n",
    "                                                 topic_word_prior=None, \n",
    "                                                 total_samples=1000000.0, \n",
    "                                                 verbose=0),\n",
    "              n_jobs=1,\n",
    "             param_grid={'n_topics': [10], \n",
    "                         'learning_decay': [0.5]},\n",
    "             pre_dispatch='2*n_jobs', refit=True, return_train_score='warn',\n",
    "             scoring=None, verbose=0)\n",
    "\n",
    "gs_end_time = time.time()\n"
   ]
  },
  {
   "cell_type": "code",
   "execution_count": 370,
   "id": "417f5790",
   "metadata": {},
   "outputs": [
    {
     "name": "stdout",
     "output_type": "stream",
     "text": [
      "1.1320929527282715 seconds to finish\n"
     ]
    }
   ],
   "source": [
    "print(gs_end_time - gs_start_time, \"seconds to finish\")"
   ]
  },
  {
   "cell_type": "code",
   "execution_count": 371,
   "id": "cebbe0a6",
   "metadata": {},
   "outputs": [
    {
     "name": "stdout",
     "output_type": "stream",
     "text": [
      "Best Model's Params:  {'learning_decay': 0.5, 'n_components': 10}\n",
      "Best Log Likelihood Score:  -26775.472060155735\n",
      "Model Perplexity:  8005.459218766658\n"
     ]
    }
   ],
   "source": [
    "# Best Model\n",
    "best_lda_model = model.best_estimator_\n",
    "\n",
    "# Model Parameters\n",
    "print(\"Best Model's Params: \", model.best_params_)\n",
    "\n",
    "# Log Likelihood Score\n",
    "print(\"Best Log Likelihood Score: \", model.best_score_)\n",
    "\n",
    "# Perplexity\n",
    "print(\"Model Perplexity: \", best_lda_model.perplexity(data_vectorized))"
   ]
  },
  {
   "cell_type": "markdown",
   "id": "8245227e",
   "metadata": {},
   "source": [
    "### The issue with grid search is it does not work with Model Coherence, it works with perplexity only\n"
   ]
  },
  {
   "cell_type": "markdown",
   "id": "efc2c4c3",
   "metadata": {},
   "source": [
    "### Need to figure out how to hypertune parameters, for now done manually"
   ]
  },
  {
   "cell_type": "markdown",
   "id": "dbee33d6",
   "metadata": {},
   "source": [
    "# Experimenting Different Models With Different Params"
   ]
  },
  {
   "cell_type": "code",
   "execution_count": 338,
   "id": "c1336c41",
   "metadata": {},
   "outputs": [],
   "source": [
    "def trainingLDAModel(corpus,id2word,num_topics,chunksize,passes):\n",
    "    \n",
    "    model = LdaMulticore(corpus=corpus,\n",
    "                       id2word=id2word,\n",
    "                       num_topics=num_topics,\n",
    "                       random_state=42,\n",
    "                       chunksize=chunksize,\n",
    "                       passes=passes)\n",
    "    return model\n",
    "    "
   ]
  },
  {
   "cell_type": "code",
   "execution_count": 339,
   "id": "b4112d20",
   "metadata": {},
   "outputs": [],
   "source": [
    "def getCoherenceAndPerplexity(model,corpus):\n",
    "    model_perplexity = model.log_perplexity(corpus)\n",
    "    print('\\nPerplexity: ', model_perplexity) \n",
    "    coherence_model = CoherenceModel(model=model, texts=data_bigrams_trigrams, \n",
    "                                       dictionary=id2word, coherence='c_v')\n",
    "    model_coherence = coherence_model.get_coherence()\n",
    "    print('\\nCoherence Score: ', model_coherence)\n",
    "    return model_perplexity,model_coherence"
   ]
  },
  {
   "cell_type": "code",
   "execution_count": 340,
   "id": "fc44df8d",
   "metadata": {},
   "outputs": [],
   "source": [
    "def getTopics(model):\n",
    "    # Filtering for words \n",
    "    words = [re.findall(r'\"([^\"]*)\"',t[1]) for t in model.print_topics()]\n",
    "    # Create Topics\n",
    "    topics = [' '.join(t[0:10]) for t in words]\n",
    "    # Getting the topics\n",
    "#     for id, t in enumerate(topics): \n",
    "#         print(f\"------ Topic {id} ------\")\n",
    "#         print(t, end=\"\\n\\n\")\n",
    "    return words, topics"
   ]
  },
  {
   "cell_type": "code",
   "execution_count": 341,
   "id": "d9aa5552",
   "metadata": {},
   "outputs": [
    {
     "name": "stdout",
     "output_type": "stream",
     "text": [
      "\n",
      "Perplexity:  -6.210330137173361\n",
      "\n",
      "Coherence Score:  0.4537877581627042\n"
     ]
    }
   ],
   "source": [
    "model_1_0_start_time = time.time()\n",
    "model_1_0 = trainingLDAModel(corpus,id2word,5,2000,10)\n",
    "model_1_0_end_time = time.time()\n",
    "model_1_0_runtime = round(model_1_0_end_time - model_1_0_start_time, 2)\n",
    "words_1_0,topics_1_0 =  getTopics(model_1_0)\n",
    "model_1_0_perplexity,coherence_lda_model_1_0 = getCoherenceAndPerplexity(model_1_0,corpus)"
   ]
  },
  {
   "cell_type": "code",
   "execution_count": 343,
   "id": "e75b3d6a",
   "metadata": {},
   "outputs": [
    {
     "name": "stdout",
     "output_type": "stream",
     "text": [
      "\n",
      "Perplexity:  -6.492891231853672\n",
      "\n",
      "Coherence Score:  0.4781788094022691\n"
     ]
    }
   ],
   "source": [
    "model_1_1_start_time = time.time()\n",
    "model_1_1 = trainingLDAModel(corpus,id2word,10,2000,10)\n",
    "model_1_1_end_time = time.time()\n",
    "model_1_1_runtime = round(model_1_1_end_time - model_1_1_start_time, 2)\n",
    "words_1_1,topics_1_1 =  getTopics(model_1_1)\n",
    "model_1_1_perplexity,coherence_lda_model_1_1 = getCoherenceAndPerplexity(model_1_1,corpus)"
   ]
  },
  {
   "cell_type": "code",
   "execution_count": 344,
   "id": "e653a570",
   "metadata": {},
   "outputs": [
    {
     "name": "stdout",
     "output_type": "stream",
     "text": [
      "\n",
      "Perplexity:  -6.590829690469389\n",
      "\n",
      "Coherence Score:  0.4119105030747734\n"
     ]
    }
   ],
   "source": [
    "model_1_2_start_time = time.time()\n",
    "model_1_2 = trainingLDAModel(corpus,id2word,15,2000,10)\n",
    "model_1_2_end_time = time.time()\n",
    "model_1_2_runtime = round(model_1_2_end_time - model_1_2_start_time, 2)\n",
    "words_1_2,topics_1_1 =  getTopics(model_1_2)\n",
    "model_1_2_perplexity,coherence_lda_model_1_2 = getCoherenceAndPerplexity(model_1_2,corpus)"
   ]
  },
  {
   "cell_type": "markdown",
   "id": "63ccd6a2",
   "metadata": {},
   "source": [
    "# Running LDA Models With Different Values Of Number Of Topics"
   ]
  },
  {
   "cell_type": "code",
   "execution_count": 372,
   "id": "17ca3104",
   "metadata": {},
   "outputs": [],
   "source": [
    "def compute_coherence_values_topics(dictionary, corpus, texts, limit, start=2, step=3):\n",
    "    coherence_values_topic = []\n",
    "    model_list_topic = []\n",
    "    for num_topics in range(start, limit, step):\n",
    "        model = LdaMulticore(corpus=corpus, num_topics=num_topics, id2word=id2word,random_state=42,chunksize=2000)\n",
    "        model_list_topic.append(model)\n",
    "        coherencemodel = CoherenceModel(model=model, texts=texts, dictionary=dictionary, coherence='c_v')\n",
    "        coherence_values_topic.append(coherencemodel.get_coherence())\n",
    "\n",
    "    return model_list_topic, coherence_values_topic    "
   ]
  },
  {
   "cell_type": "code",
   "execution_count": 373,
   "id": "031d04cc",
   "metadata": {},
   "outputs": [],
   "source": [
    "model_list_topic, coherence_values_topic = compute_coherence_values_topics(dictionary=id2word,\n",
    "                                                        corpus=corpus,\n",
    "                                                        texts=data_bigrams_trigrams,\n",
    "                                                        start=2, limit=200, step=3)\n"
   ]
  },
  {
   "cell_type": "code",
   "execution_count": 374,
   "id": "f5628176",
   "metadata": {},
   "outputs": [
    {
     "data": {
      "application/vnd.plotly.v1+json": {
       "config": {
        "plotlyServerURL": "https://plot.ly"
       },
       "data": [
        {
         "hovertemplate": "number_of_topics=%{x}<br>coherence_value=%{y}<extra></extra>",
         "legendgroup": "",
         "line": {
          "color": "#636efa",
          "dash": "solid"
         },
         "marker": {
          "symbol": "circle"
         },
         "mode": "lines",
         "name": "",
         "orientation": "v",
         "showlegend": false,
         "type": "scatter",
         "x": [
          2,
          5,
          8,
          11,
          14,
          17,
          20,
          23,
          26,
          29,
          32,
          35,
          38,
          41,
          44,
          47,
          50,
          53,
          56,
          59,
          62,
          65,
          68,
          71,
          74,
          77,
          80,
          83,
          86,
          89,
          92,
          95,
          98,
          101,
          104,
          107,
          110,
          113,
          116,
          119,
          122,
          125,
          128,
          131,
          134,
          137,
          140,
          143,
          146,
          149,
          152,
          155,
          158,
          161,
          164,
          167,
          170,
          173,
          176,
          179,
          182,
          185,
          188,
          191,
          194,
          197
         ],
         "xaxis": "x",
         "y": [
          0.4815997730602808,
          0.5093743889627805,
          0.47840389718201304,
          0.4704125529052781,
          0.47724580752085977,
          0.478183854440422,
          0.4613572970221127,
          0.46438165984579466,
          0.4349710302411788,
          0.47276320552204415,
          0.4442758462975016,
          0.4300707178432679,
          0.4522211958105812,
          0.4478289745393748,
          0.42540321800378217,
          0.4371497765879318,
          0.4454565834144798,
          0.4430295955874628,
          0.44556413876714934,
          0.4604810878797849,
          0.4576169733988311,
          0.4364236380194278,
          0.46448226616865246,
          0.4398894785608873,
          0.464723429920577,
          0.4649662668666924,
          0.4709885053281135,
          0.46927373904493597,
          0.4640691299227979,
          0.4737710616885261,
          0.4764248406512169,
          0.4704351608373379,
          0.4840801209825335,
          0.48562844920939946,
          0.4878536056455897,
          0.48524863147214786,
          0.48603673612869597,
          0.5004305374591859,
          0.4930699204931251,
          0.4873792836500102,
          0.49378696086085927,
          0.5068673550447804,
          0.4977604569305984,
          0.5051499014599752,
          0.5119977227761667,
          0.5095083806866907,
          0.5123139759714754,
          0.5119747526685817,
          0.5056854669205668,
          0.5173135628515755,
          0.5102587945765437,
          0.5191683007260222,
          0.5197192986146218,
          0.5231184375389569,
          0.5136932178033532,
          0.5239662182311389,
          0.5262027455082068,
          0.5224465949523709,
          0.525948625378717,
          0.5305106403636751,
          0.5335590052310225,
          0.5287828776711856,
          0.5327009888229752,
          0.533435277070642,
          0.5320968371804115,
          0.5385783492732859
         ],
         "yaxis": "y"
        }
       ],
       "layout": {
        "legend": {
         "tracegroupgap": 0
        },
        "margin": {
         "t": 60
        },
        "template": {
         "data": {
          "bar": [
           {
            "error_x": {
             "color": "#2a3f5f"
            },
            "error_y": {
             "color": "#2a3f5f"
            },
            "marker": {
             "line": {
              "color": "#E5ECF6",
              "width": 0.5
             },
             "pattern": {
              "fillmode": "overlay",
              "size": 10,
              "solidity": 0.2
             }
            },
            "type": "bar"
           }
          ],
          "barpolar": [
           {
            "marker": {
             "line": {
              "color": "#E5ECF6",
              "width": 0.5
             },
             "pattern": {
              "fillmode": "overlay",
              "size": 10,
              "solidity": 0.2
             }
            },
            "type": "barpolar"
           }
          ],
          "carpet": [
           {
            "aaxis": {
             "endlinecolor": "#2a3f5f",
             "gridcolor": "white",
             "linecolor": "white",
             "minorgridcolor": "white",
             "startlinecolor": "#2a3f5f"
            },
            "baxis": {
             "endlinecolor": "#2a3f5f",
             "gridcolor": "white",
             "linecolor": "white",
             "minorgridcolor": "white",
             "startlinecolor": "#2a3f5f"
            },
            "type": "carpet"
           }
          ],
          "choropleth": [
           {
            "colorbar": {
             "outlinewidth": 0,
             "ticks": ""
            },
            "type": "choropleth"
           }
          ],
          "contour": [
           {
            "colorbar": {
             "outlinewidth": 0,
             "ticks": ""
            },
            "colorscale": [
             [
              0,
              "#0d0887"
             ],
             [
              0.1111111111111111,
              "#46039f"
             ],
             [
              0.2222222222222222,
              "#7201a8"
             ],
             [
              0.3333333333333333,
              "#9c179e"
             ],
             [
              0.4444444444444444,
              "#bd3786"
             ],
             [
              0.5555555555555556,
              "#d8576b"
             ],
             [
              0.6666666666666666,
              "#ed7953"
             ],
             [
              0.7777777777777778,
              "#fb9f3a"
             ],
             [
              0.8888888888888888,
              "#fdca26"
             ],
             [
              1,
              "#f0f921"
             ]
            ],
            "type": "contour"
           }
          ],
          "contourcarpet": [
           {
            "colorbar": {
             "outlinewidth": 0,
             "ticks": ""
            },
            "type": "contourcarpet"
           }
          ],
          "heatmap": [
           {
            "colorbar": {
             "outlinewidth": 0,
             "ticks": ""
            },
            "colorscale": [
             [
              0,
              "#0d0887"
             ],
             [
              0.1111111111111111,
              "#46039f"
             ],
             [
              0.2222222222222222,
              "#7201a8"
             ],
             [
              0.3333333333333333,
              "#9c179e"
             ],
             [
              0.4444444444444444,
              "#bd3786"
             ],
             [
              0.5555555555555556,
              "#d8576b"
             ],
             [
              0.6666666666666666,
              "#ed7953"
             ],
             [
              0.7777777777777778,
              "#fb9f3a"
             ],
             [
              0.8888888888888888,
              "#fdca26"
             ],
             [
              1,
              "#f0f921"
             ]
            ],
            "type": "heatmap"
           }
          ],
          "heatmapgl": [
           {
            "colorbar": {
             "outlinewidth": 0,
             "ticks": ""
            },
            "colorscale": [
             [
              0,
              "#0d0887"
             ],
             [
              0.1111111111111111,
              "#46039f"
             ],
             [
              0.2222222222222222,
              "#7201a8"
             ],
             [
              0.3333333333333333,
              "#9c179e"
             ],
             [
              0.4444444444444444,
              "#bd3786"
             ],
             [
              0.5555555555555556,
              "#d8576b"
             ],
             [
              0.6666666666666666,
              "#ed7953"
             ],
             [
              0.7777777777777778,
              "#fb9f3a"
             ],
             [
              0.8888888888888888,
              "#fdca26"
             ],
             [
              1,
              "#f0f921"
             ]
            ],
            "type": "heatmapgl"
           }
          ],
          "histogram": [
           {
            "marker": {
             "pattern": {
              "fillmode": "overlay",
              "size": 10,
              "solidity": 0.2
             }
            },
            "type": "histogram"
           }
          ],
          "histogram2d": [
           {
            "colorbar": {
             "outlinewidth": 0,
             "ticks": ""
            },
            "colorscale": [
             [
              0,
              "#0d0887"
             ],
             [
              0.1111111111111111,
              "#46039f"
             ],
             [
              0.2222222222222222,
              "#7201a8"
             ],
             [
              0.3333333333333333,
              "#9c179e"
             ],
             [
              0.4444444444444444,
              "#bd3786"
             ],
             [
              0.5555555555555556,
              "#d8576b"
             ],
             [
              0.6666666666666666,
              "#ed7953"
             ],
             [
              0.7777777777777778,
              "#fb9f3a"
             ],
             [
              0.8888888888888888,
              "#fdca26"
             ],
             [
              1,
              "#f0f921"
             ]
            ],
            "type": "histogram2d"
           }
          ],
          "histogram2dcontour": [
           {
            "colorbar": {
             "outlinewidth": 0,
             "ticks": ""
            },
            "colorscale": [
             [
              0,
              "#0d0887"
             ],
             [
              0.1111111111111111,
              "#46039f"
             ],
             [
              0.2222222222222222,
              "#7201a8"
             ],
             [
              0.3333333333333333,
              "#9c179e"
             ],
             [
              0.4444444444444444,
              "#bd3786"
             ],
             [
              0.5555555555555556,
              "#d8576b"
             ],
             [
              0.6666666666666666,
              "#ed7953"
             ],
             [
              0.7777777777777778,
              "#fb9f3a"
             ],
             [
              0.8888888888888888,
              "#fdca26"
             ],
             [
              1,
              "#f0f921"
             ]
            ],
            "type": "histogram2dcontour"
           }
          ],
          "mesh3d": [
           {
            "colorbar": {
             "outlinewidth": 0,
             "ticks": ""
            },
            "type": "mesh3d"
           }
          ],
          "parcoords": [
           {
            "line": {
             "colorbar": {
              "outlinewidth": 0,
              "ticks": ""
             }
            },
            "type": "parcoords"
           }
          ],
          "pie": [
           {
            "automargin": true,
            "type": "pie"
           }
          ],
          "scatter": [
           {
            "marker": {
             "colorbar": {
              "outlinewidth": 0,
              "ticks": ""
             }
            },
            "type": "scatter"
           }
          ],
          "scatter3d": [
           {
            "line": {
             "colorbar": {
              "outlinewidth": 0,
              "ticks": ""
             }
            },
            "marker": {
             "colorbar": {
              "outlinewidth": 0,
              "ticks": ""
             }
            },
            "type": "scatter3d"
           }
          ],
          "scattercarpet": [
           {
            "marker": {
             "colorbar": {
              "outlinewidth": 0,
              "ticks": ""
             }
            },
            "type": "scattercarpet"
           }
          ],
          "scattergeo": [
           {
            "marker": {
             "colorbar": {
              "outlinewidth": 0,
              "ticks": ""
             }
            },
            "type": "scattergeo"
           }
          ],
          "scattergl": [
           {
            "marker": {
             "colorbar": {
              "outlinewidth": 0,
              "ticks": ""
             }
            },
            "type": "scattergl"
           }
          ],
          "scattermapbox": [
           {
            "marker": {
             "colorbar": {
              "outlinewidth": 0,
              "ticks": ""
             }
            },
            "type": "scattermapbox"
           }
          ],
          "scatterpolar": [
           {
            "marker": {
             "colorbar": {
              "outlinewidth": 0,
              "ticks": ""
             }
            },
            "type": "scatterpolar"
           }
          ],
          "scatterpolargl": [
           {
            "marker": {
             "colorbar": {
              "outlinewidth": 0,
              "ticks": ""
             }
            },
            "type": "scatterpolargl"
           }
          ],
          "scatterternary": [
           {
            "marker": {
             "colorbar": {
              "outlinewidth": 0,
              "ticks": ""
             }
            },
            "type": "scatterternary"
           }
          ],
          "surface": [
           {
            "colorbar": {
             "outlinewidth": 0,
             "ticks": ""
            },
            "colorscale": [
             [
              0,
              "#0d0887"
             ],
             [
              0.1111111111111111,
              "#46039f"
             ],
             [
              0.2222222222222222,
              "#7201a8"
             ],
             [
              0.3333333333333333,
              "#9c179e"
             ],
             [
              0.4444444444444444,
              "#bd3786"
             ],
             [
              0.5555555555555556,
              "#d8576b"
             ],
             [
              0.6666666666666666,
              "#ed7953"
             ],
             [
              0.7777777777777778,
              "#fb9f3a"
             ],
             [
              0.8888888888888888,
              "#fdca26"
             ],
             [
              1,
              "#f0f921"
             ]
            ],
            "type": "surface"
           }
          ],
          "table": [
           {
            "cells": {
             "fill": {
              "color": "#EBF0F8"
             },
             "line": {
              "color": "white"
             }
            },
            "header": {
             "fill": {
              "color": "#C8D4E3"
             },
             "line": {
              "color": "white"
             }
            },
            "type": "table"
           }
          ]
         },
         "layout": {
          "annotationdefaults": {
           "arrowcolor": "#2a3f5f",
           "arrowhead": 0,
           "arrowwidth": 1
          },
          "autotypenumbers": "strict",
          "coloraxis": {
           "colorbar": {
            "outlinewidth": 0,
            "ticks": ""
           }
          },
          "colorscale": {
           "diverging": [
            [
             0,
             "#8e0152"
            ],
            [
             0.1,
             "#c51b7d"
            ],
            [
             0.2,
             "#de77ae"
            ],
            [
             0.3,
             "#f1b6da"
            ],
            [
             0.4,
             "#fde0ef"
            ],
            [
             0.5,
             "#f7f7f7"
            ],
            [
             0.6,
             "#e6f5d0"
            ],
            [
             0.7,
             "#b8e186"
            ],
            [
             0.8,
             "#7fbc41"
            ],
            [
             0.9,
             "#4d9221"
            ],
            [
             1,
             "#276419"
            ]
           ],
           "sequential": [
            [
             0,
             "#0d0887"
            ],
            [
             0.1111111111111111,
             "#46039f"
            ],
            [
             0.2222222222222222,
             "#7201a8"
            ],
            [
             0.3333333333333333,
             "#9c179e"
            ],
            [
             0.4444444444444444,
             "#bd3786"
            ],
            [
             0.5555555555555556,
             "#d8576b"
            ],
            [
             0.6666666666666666,
             "#ed7953"
            ],
            [
             0.7777777777777778,
             "#fb9f3a"
            ],
            [
             0.8888888888888888,
             "#fdca26"
            ],
            [
             1,
             "#f0f921"
            ]
           ],
           "sequentialminus": [
            [
             0,
             "#0d0887"
            ],
            [
             0.1111111111111111,
             "#46039f"
            ],
            [
             0.2222222222222222,
             "#7201a8"
            ],
            [
             0.3333333333333333,
             "#9c179e"
            ],
            [
             0.4444444444444444,
             "#bd3786"
            ],
            [
             0.5555555555555556,
             "#d8576b"
            ],
            [
             0.6666666666666666,
             "#ed7953"
            ],
            [
             0.7777777777777778,
             "#fb9f3a"
            ],
            [
             0.8888888888888888,
             "#fdca26"
            ],
            [
             1,
             "#f0f921"
            ]
           ]
          },
          "colorway": [
           "#636efa",
           "#EF553B",
           "#00cc96",
           "#ab63fa",
           "#FFA15A",
           "#19d3f3",
           "#FF6692",
           "#B6E880",
           "#FF97FF",
           "#FECB52"
          ],
          "font": {
           "color": "#2a3f5f"
          },
          "geo": {
           "bgcolor": "white",
           "lakecolor": "white",
           "landcolor": "#E5ECF6",
           "showlakes": true,
           "showland": true,
           "subunitcolor": "white"
          },
          "hoverlabel": {
           "align": "left"
          },
          "hovermode": "closest",
          "mapbox": {
           "style": "light"
          },
          "paper_bgcolor": "white",
          "plot_bgcolor": "#E5ECF6",
          "polar": {
           "angularaxis": {
            "gridcolor": "white",
            "linecolor": "white",
            "ticks": ""
           },
           "bgcolor": "#E5ECF6",
           "radialaxis": {
            "gridcolor": "white",
            "linecolor": "white",
            "ticks": ""
           }
          },
          "scene": {
           "xaxis": {
            "backgroundcolor": "#E5ECF6",
            "gridcolor": "white",
            "gridwidth": 2,
            "linecolor": "white",
            "showbackground": true,
            "ticks": "",
            "zerolinecolor": "white"
           },
           "yaxis": {
            "backgroundcolor": "#E5ECF6",
            "gridcolor": "white",
            "gridwidth": 2,
            "linecolor": "white",
            "showbackground": true,
            "ticks": "",
            "zerolinecolor": "white"
           },
           "zaxis": {
            "backgroundcolor": "#E5ECF6",
            "gridcolor": "white",
            "gridwidth": 2,
            "linecolor": "white",
            "showbackground": true,
            "ticks": "",
            "zerolinecolor": "white"
           }
          },
          "shapedefaults": {
           "line": {
            "color": "#2a3f5f"
           }
          },
          "ternary": {
           "aaxis": {
            "gridcolor": "white",
            "linecolor": "white",
            "ticks": ""
           },
           "baxis": {
            "gridcolor": "white",
            "linecolor": "white",
            "ticks": ""
           },
           "bgcolor": "#E5ECF6",
           "caxis": {
            "gridcolor": "white",
            "linecolor": "white",
            "ticks": ""
           }
          },
          "title": {
           "x": 0.05
          },
          "xaxis": {
           "automargin": true,
           "gridcolor": "white",
           "linecolor": "white",
           "ticks": "",
           "title": {
            "standoff": 15
           },
           "zerolinecolor": "white",
           "zerolinewidth": 2
          },
          "yaxis": {
           "automargin": true,
           "gridcolor": "white",
           "linecolor": "white",
           "ticks": "",
           "title": {
            "standoff": 15
           },
           "zerolinecolor": "white",
           "zerolinewidth": 2
          }
         }
        },
        "xaxis": {
         "anchor": "y",
         "domain": [
          0,
          1
         ],
         "title": {
          "text": "number_of_topics"
         }
        },
        "yaxis": {
         "anchor": "x",
         "domain": [
          0,
          1
         ],
         "title": {
          "text": "coherence_value"
         }
        }
       }
      },
      "text/html": [
       "<div>                            <div id=\"53c800d6-8499-4cd6-9fa7-62477f32dab9\" class=\"plotly-graph-div\" style=\"height:525px; width:100%;\"></div>            <script type=\"text/javascript\">                require([\"plotly\"], function(Plotly) {                    window.PLOTLYENV=window.PLOTLYENV || {};                                    if (document.getElementById(\"53c800d6-8499-4cd6-9fa7-62477f32dab9\")) {                    Plotly.newPlot(                        \"53c800d6-8499-4cd6-9fa7-62477f32dab9\",                        [{\"hovertemplate\":\"number_of_topics=%{x}<br>coherence_value=%{y}<extra></extra>\",\"legendgroup\":\"\",\"line\":{\"color\":\"#636efa\",\"dash\":\"solid\"},\"marker\":{\"symbol\":\"circle\"},\"mode\":\"lines\",\"name\":\"\",\"orientation\":\"v\",\"showlegend\":false,\"x\":[2,5,8,11,14,17,20,23,26,29,32,35,38,41,44,47,50,53,56,59,62,65,68,71,74,77,80,83,86,89,92,95,98,101,104,107,110,113,116,119,122,125,128,131,134,137,140,143,146,149,152,155,158,161,164,167,170,173,176,179,182,185,188,191,194,197],\"xaxis\":\"x\",\"y\":[0.4815997730602808,0.5093743889627805,0.47840389718201304,0.4704125529052781,0.47724580752085977,0.478183854440422,0.4613572970221127,0.46438165984579466,0.4349710302411788,0.47276320552204415,0.4442758462975016,0.4300707178432679,0.4522211958105812,0.4478289745393748,0.42540321800378217,0.4371497765879318,0.4454565834144798,0.4430295955874628,0.44556413876714934,0.4604810878797849,0.4576169733988311,0.4364236380194278,0.46448226616865246,0.4398894785608873,0.464723429920577,0.4649662668666924,0.4709885053281135,0.46927373904493597,0.4640691299227979,0.4737710616885261,0.4764248406512169,0.4704351608373379,0.4840801209825335,0.48562844920939946,0.4878536056455897,0.48524863147214786,0.48603673612869597,0.5004305374591859,0.4930699204931251,0.4873792836500102,0.49378696086085927,0.5068673550447804,0.4977604569305984,0.5051499014599752,0.5119977227761667,0.5095083806866907,0.5123139759714754,0.5119747526685817,0.5056854669205668,0.5173135628515755,0.5102587945765437,0.5191683007260222,0.5197192986146218,0.5231184375389569,0.5136932178033532,0.5239662182311389,0.5262027455082068,0.5224465949523709,0.525948625378717,0.5305106403636751,0.5335590052310225,0.5287828776711856,0.5327009888229752,0.533435277070642,0.5320968371804115,0.5385783492732859],\"yaxis\":\"y\",\"type\":\"scatter\"}],                        {\"template\":{\"data\":{\"bar\":[{\"error_x\":{\"color\":\"#2a3f5f\"},\"error_y\":{\"color\":\"#2a3f5f\"},\"marker\":{\"line\":{\"color\":\"#E5ECF6\",\"width\":0.5},\"pattern\":{\"fillmode\":\"overlay\",\"size\":10,\"solidity\":0.2}},\"type\":\"bar\"}],\"barpolar\":[{\"marker\":{\"line\":{\"color\":\"#E5ECF6\",\"width\":0.5},\"pattern\":{\"fillmode\":\"overlay\",\"size\":10,\"solidity\":0.2}},\"type\":\"barpolar\"}],\"carpet\":[{\"aaxis\":{\"endlinecolor\":\"#2a3f5f\",\"gridcolor\":\"white\",\"linecolor\":\"white\",\"minorgridcolor\":\"white\",\"startlinecolor\":\"#2a3f5f\"},\"baxis\":{\"endlinecolor\":\"#2a3f5f\",\"gridcolor\":\"white\",\"linecolor\":\"white\",\"minorgridcolor\":\"white\",\"startlinecolor\":\"#2a3f5f\"},\"type\":\"carpet\"}],\"choropleth\":[{\"colorbar\":{\"outlinewidth\":0,\"ticks\":\"\"},\"type\":\"choropleth\"}],\"contour\":[{\"colorbar\":{\"outlinewidth\":0,\"ticks\":\"\"},\"colorscale\":[[0.0,\"#0d0887\"],[0.1111111111111111,\"#46039f\"],[0.2222222222222222,\"#7201a8\"],[0.3333333333333333,\"#9c179e\"],[0.4444444444444444,\"#bd3786\"],[0.5555555555555556,\"#d8576b\"],[0.6666666666666666,\"#ed7953\"],[0.7777777777777778,\"#fb9f3a\"],[0.8888888888888888,\"#fdca26\"],[1.0,\"#f0f921\"]],\"type\":\"contour\"}],\"contourcarpet\":[{\"colorbar\":{\"outlinewidth\":0,\"ticks\":\"\"},\"type\":\"contourcarpet\"}],\"heatmap\":[{\"colorbar\":{\"outlinewidth\":0,\"ticks\":\"\"},\"colorscale\":[[0.0,\"#0d0887\"],[0.1111111111111111,\"#46039f\"],[0.2222222222222222,\"#7201a8\"],[0.3333333333333333,\"#9c179e\"],[0.4444444444444444,\"#bd3786\"],[0.5555555555555556,\"#d8576b\"],[0.6666666666666666,\"#ed7953\"],[0.7777777777777778,\"#fb9f3a\"],[0.8888888888888888,\"#fdca26\"],[1.0,\"#f0f921\"]],\"type\":\"heatmap\"}],\"heatmapgl\":[{\"colorbar\":{\"outlinewidth\":0,\"ticks\":\"\"},\"colorscale\":[[0.0,\"#0d0887\"],[0.1111111111111111,\"#46039f\"],[0.2222222222222222,\"#7201a8\"],[0.3333333333333333,\"#9c179e\"],[0.4444444444444444,\"#bd3786\"],[0.5555555555555556,\"#d8576b\"],[0.6666666666666666,\"#ed7953\"],[0.7777777777777778,\"#fb9f3a\"],[0.8888888888888888,\"#fdca26\"],[1.0,\"#f0f921\"]],\"type\":\"heatmapgl\"}],\"histogram\":[{\"marker\":{\"pattern\":{\"fillmode\":\"overlay\",\"size\":10,\"solidity\":0.2}},\"type\":\"histogram\"}],\"histogram2d\":[{\"colorbar\":{\"outlinewidth\":0,\"ticks\":\"\"},\"colorscale\":[[0.0,\"#0d0887\"],[0.1111111111111111,\"#46039f\"],[0.2222222222222222,\"#7201a8\"],[0.3333333333333333,\"#9c179e\"],[0.4444444444444444,\"#bd3786\"],[0.5555555555555556,\"#d8576b\"],[0.6666666666666666,\"#ed7953\"],[0.7777777777777778,\"#fb9f3a\"],[0.8888888888888888,\"#fdca26\"],[1.0,\"#f0f921\"]],\"type\":\"histogram2d\"}],\"histogram2dcontour\":[{\"colorbar\":{\"outlinewidth\":0,\"ticks\":\"\"},\"colorscale\":[[0.0,\"#0d0887\"],[0.1111111111111111,\"#46039f\"],[0.2222222222222222,\"#7201a8\"],[0.3333333333333333,\"#9c179e\"],[0.4444444444444444,\"#bd3786\"],[0.5555555555555556,\"#d8576b\"],[0.6666666666666666,\"#ed7953\"],[0.7777777777777778,\"#fb9f3a\"],[0.8888888888888888,\"#fdca26\"],[1.0,\"#f0f921\"]],\"type\":\"histogram2dcontour\"}],\"mesh3d\":[{\"colorbar\":{\"outlinewidth\":0,\"ticks\":\"\"},\"type\":\"mesh3d\"}],\"parcoords\":[{\"line\":{\"colorbar\":{\"outlinewidth\":0,\"ticks\":\"\"}},\"type\":\"parcoords\"}],\"pie\":[{\"automargin\":true,\"type\":\"pie\"}],\"scatter\":[{\"marker\":{\"colorbar\":{\"outlinewidth\":0,\"ticks\":\"\"}},\"type\":\"scatter\"}],\"scatter3d\":[{\"line\":{\"colorbar\":{\"outlinewidth\":0,\"ticks\":\"\"}},\"marker\":{\"colorbar\":{\"outlinewidth\":0,\"ticks\":\"\"}},\"type\":\"scatter3d\"}],\"scattercarpet\":[{\"marker\":{\"colorbar\":{\"outlinewidth\":0,\"ticks\":\"\"}},\"type\":\"scattercarpet\"}],\"scattergeo\":[{\"marker\":{\"colorbar\":{\"outlinewidth\":0,\"ticks\":\"\"}},\"type\":\"scattergeo\"}],\"scattergl\":[{\"marker\":{\"colorbar\":{\"outlinewidth\":0,\"ticks\":\"\"}},\"type\":\"scattergl\"}],\"scattermapbox\":[{\"marker\":{\"colorbar\":{\"outlinewidth\":0,\"ticks\":\"\"}},\"type\":\"scattermapbox\"}],\"scatterpolar\":[{\"marker\":{\"colorbar\":{\"outlinewidth\":0,\"ticks\":\"\"}},\"type\":\"scatterpolar\"}],\"scatterpolargl\":[{\"marker\":{\"colorbar\":{\"outlinewidth\":0,\"ticks\":\"\"}},\"type\":\"scatterpolargl\"}],\"scatterternary\":[{\"marker\":{\"colorbar\":{\"outlinewidth\":0,\"ticks\":\"\"}},\"type\":\"scatterternary\"}],\"surface\":[{\"colorbar\":{\"outlinewidth\":0,\"ticks\":\"\"},\"colorscale\":[[0.0,\"#0d0887\"],[0.1111111111111111,\"#46039f\"],[0.2222222222222222,\"#7201a8\"],[0.3333333333333333,\"#9c179e\"],[0.4444444444444444,\"#bd3786\"],[0.5555555555555556,\"#d8576b\"],[0.6666666666666666,\"#ed7953\"],[0.7777777777777778,\"#fb9f3a\"],[0.8888888888888888,\"#fdca26\"],[1.0,\"#f0f921\"]],\"type\":\"surface\"}],\"table\":[{\"cells\":{\"fill\":{\"color\":\"#EBF0F8\"},\"line\":{\"color\":\"white\"}},\"header\":{\"fill\":{\"color\":\"#C8D4E3\"},\"line\":{\"color\":\"white\"}},\"type\":\"table\"}]},\"layout\":{\"annotationdefaults\":{\"arrowcolor\":\"#2a3f5f\",\"arrowhead\":0,\"arrowwidth\":1},\"autotypenumbers\":\"strict\",\"coloraxis\":{\"colorbar\":{\"outlinewidth\":0,\"ticks\":\"\"}},\"colorscale\":{\"diverging\":[[0,\"#8e0152\"],[0.1,\"#c51b7d\"],[0.2,\"#de77ae\"],[0.3,\"#f1b6da\"],[0.4,\"#fde0ef\"],[0.5,\"#f7f7f7\"],[0.6,\"#e6f5d0\"],[0.7,\"#b8e186\"],[0.8,\"#7fbc41\"],[0.9,\"#4d9221\"],[1,\"#276419\"]],\"sequential\":[[0.0,\"#0d0887\"],[0.1111111111111111,\"#46039f\"],[0.2222222222222222,\"#7201a8\"],[0.3333333333333333,\"#9c179e\"],[0.4444444444444444,\"#bd3786\"],[0.5555555555555556,\"#d8576b\"],[0.6666666666666666,\"#ed7953\"],[0.7777777777777778,\"#fb9f3a\"],[0.8888888888888888,\"#fdca26\"],[1.0,\"#f0f921\"]],\"sequentialminus\":[[0.0,\"#0d0887\"],[0.1111111111111111,\"#46039f\"],[0.2222222222222222,\"#7201a8\"],[0.3333333333333333,\"#9c179e\"],[0.4444444444444444,\"#bd3786\"],[0.5555555555555556,\"#d8576b\"],[0.6666666666666666,\"#ed7953\"],[0.7777777777777778,\"#fb9f3a\"],[0.8888888888888888,\"#fdca26\"],[1.0,\"#f0f921\"]]},\"colorway\":[\"#636efa\",\"#EF553B\",\"#00cc96\",\"#ab63fa\",\"#FFA15A\",\"#19d3f3\",\"#FF6692\",\"#B6E880\",\"#FF97FF\",\"#FECB52\"],\"font\":{\"color\":\"#2a3f5f\"},\"geo\":{\"bgcolor\":\"white\",\"lakecolor\":\"white\",\"landcolor\":\"#E5ECF6\",\"showlakes\":true,\"showland\":true,\"subunitcolor\":\"white\"},\"hoverlabel\":{\"align\":\"left\"},\"hovermode\":\"closest\",\"mapbox\":{\"style\":\"light\"},\"paper_bgcolor\":\"white\",\"plot_bgcolor\":\"#E5ECF6\",\"polar\":{\"angularaxis\":{\"gridcolor\":\"white\",\"linecolor\":\"white\",\"ticks\":\"\"},\"bgcolor\":\"#E5ECF6\",\"radialaxis\":{\"gridcolor\":\"white\",\"linecolor\":\"white\",\"ticks\":\"\"}},\"scene\":{\"xaxis\":{\"backgroundcolor\":\"#E5ECF6\",\"gridcolor\":\"white\",\"gridwidth\":2,\"linecolor\":\"white\",\"showbackground\":true,\"ticks\":\"\",\"zerolinecolor\":\"white\"},\"yaxis\":{\"backgroundcolor\":\"#E5ECF6\",\"gridcolor\":\"white\",\"gridwidth\":2,\"linecolor\":\"white\",\"showbackground\":true,\"ticks\":\"\",\"zerolinecolor\":\"white\"},\"zaxis\":{\"backgroundcolor\":\"#E5ECF6\",\"gridcolor\":\"white\",\"gridwidth\":2,\"linecolor\":\"white\",\"showbackground\":true,\"ticks\":\"\",\"zerolinecolor\":\"white\"}},\"shapedefaults\":{\"line\":{\"color\":\"#2a3f5f\"}},\"ternary\":{\"aaxis\":{\"gridcolor\":\"white\",\"linecolor\":\"white\",\"ticks\":\"\"},\"baxis\":{\"gridcolor\":\"white\",\"linecolor\":\"white\",\"ticks\":\"\"},\"bgcolor\":\"#E5ECF6\",\"caxis\":{\"gridcolor\":\"white\",\"linecolor\":\"white\",\"ticks\":\"\"}},\"title\":{\"x\":0.05},\"xaxis\":{\"automargin\":true,\"gridcolor\":\"white\",\"linecolor\":\"white\",\"ticks\":\"\",\"title\":{\"standoff\":15},\"zerolinecolor\":\"white\",\"zerolinewidth\":2},\"yaxis\":{\"automargin\":true,\"gridcolor\":\"white\",\"linecolor\":\"white\",\"ticks\":\"\",\"title\":{\"standoff\":15},\"zerolinecolor\":\"white\",\"zerolinewidth\":2}}},\"xaxis\":{\"anchor\":\"y\",\"domain\":[0.0,1.0],\"title\":{\"text\":\"number_of_topics\"}},\"yaxis\":{\"anchor\":\"x\",\"domain\":[0.0,1.0],\"title\":{\"text\":\"coherence_value\"}},\"legend\":{\"tracegroupgap\":0},\"margin\":{\"t\":60}},                        {\"responsive\": true}                    ).then(function(){\n",
       "                            \n",
       "var gd = document.getElementById('53c800d6-8499-4cd6-9fa7-62477f32dab9');\n",
       "var x = new MutationObserver(function (mutations, observer) {{\n",
       "        var display = window.getComputedStyle(gd).display;\n",
       "        if (!display || display === 'none') {{\n",
       "            console.log([gd, 'removed!']);\n",
       "            Plotly.purge(gd);\n",
       "            observer.disconnect();\n",
       "        }}\n",
       "}});\n",
       "\n",
       "// Listen for the removal of the full notebook cells\n",
       "var notebookContainer = gd.closest('#notebook-container');\n",
       "if (notebookContainer) {{\n",
       "    x.observe(notebookContainer, {childList: true});\n",
       "}}\n",
       "\n",
       "// Listen for the clearing of the current output cell\n",
       "var outputEl = gd.closest('.output');\n",
       "if (outputEl) {{\n",
       "    x.observe(outputEl, {childList: true});\n",
       "}}\n",
       "\n",
       "                        })                };                });            </script>        </div>"
      ]
     },
     "metadata": {},
     "output_type": "display_data"
    }
   ],
   "source": [
    "limit=200; start=2; step=3;\n",
    "x_topic = range(start, limit, step)\n",
    "topic_ts = {'coherence_value': coherence_values_topic,\n",
    "            'number_of_topics': x_topic}\n",
    "topic_chart = pd.DataFrame(data=topic_ts)\n",
    "topic_fig = px.line(topic_chart, x=\"number_of_topics\", y=\"coherence_value\")\n",
    "topic_fig.show()"
   ]
  },
  {
   "cell_type": "markdown",
   "id": "012c0e14",
   "metadata": {},
   "source": [
    "# Running LDA Models With Different Values Of Number Of Passes"
   ]
  },
  {
   "cell_type": "code",
   "execution_count": 230,
   "id": "54da29f9",
   "metadata": {},
   "outputs": [],
   "source": [
    "#Defining a function to loop over iterations to find an optimal number of tipics\n",
    "def compute_coherence_values_passes(dictionary,corpus,texts,start,limit,step):\n",
    "    coherence_values_its = []\n",
    "    model_list_its = []\n",
    "    for passes in range(start, limit, step):\n",
    "        model = LdaMulticore(corpus=corpus,\n",
    "                       id2word=id2word,\n",
    "                       num_topics=8,# Fixed From First Iterations\n",
    "                       random_state=42,\n",
    "                       chunksize=2000,\n",
    "                       passes=passes)\n",
    "        model_list_its.append(model)\n",
    "        coherencemodel = CoherenceModel(model=model, texts=texts, dictionary=dictionary, coherence='c_v')\n",
    "        coherence_values_its.append(coherencemodel.get_coherence())\n",
    "\n",
    "    return model_list_its, coherence_values_its   "
   ]
  },
  {
   "cell_type": "code",
   "execution_count": 231,
   "id": "5f46b5d4",
   "metadata": {},
   "outputs": [],
   "source": [
    "model_list_its, coherence_values_its = compute_coherence_values_passes(dictionary=id2word,\n",
    "                                                        corpus=corpus,\n",
    "                                                        texts=data_bigrams_trigrams,\n",
    "                                                        start=10, limit=50, step=10)\n"
   ]
  },
  {
   "cell_type": "code",
   "execution_count": 234,
   "id": "c8f58d3e",
   "metadata": {},
   "outputs": [
    {
     "name": "stdout",
     "output_type": "stream",
     "text": [
      "12.95\n"
     ]
    },
    {
     "data": {
      "application/vnd.plotly.v1+json": {
       "config": {
        "plotlyServerURL": "https://plot.ly"
       },
       "data": [
        {
         "hovertemplate": "number_of_passes=%{x}<br>coherence_value=%{y}<extra></extra>",
         "legendgroup": "",
         "line": {
          "color": "#636efa",
          "dash": "solid"
         },
         "marker": {
          "symbol": "circle"
         },
         "mode": "lines",
         "name": "",
         "orientation": "v",
         "showlegend": false,
         "type": "scatter",
         "x": [
          10,
          20,
          30,
          40
         ],
         "xaxis": "x",
         "y": [
          0.46868397878211393,
          0.4758734719721148,
          0.47561976340043766,
          0.47371396201902566
         ],
         "yaxis": "y"
        }
       ],
       "layout": {
        "legend": {
         "tracegroupgap": 0
        },
        "margin": {
         "t": 60
        },
        "template": {
         "data": {
          "bar": [
           {
            "error_x": {
             "color": "#2a3f5f"
            },
            "error_y": {
             "color": "#2a3f5f"
            },
            "marker": {
             "line": {
              "color": "#E5ECF6",
              "width": 0.5
             },
             "pattern": {
              "fillmode": "overlay",
              "size": 10,
              "solidity": 0.2
             }
            },
            "type": "bar"
           }
          ],
          "barpolar": [
           {
            "marker": {
             "line": {
              "color": "#E5ECF6",
              "width": 0.5
             },
             "pattern": {
              "fillmode": "overlay",
              "size": 10,
              "solidity": 0.2
             }
            },
            "type": "barpolar"
           }
          ],
          "carpet": [
           {
            "aaxis": {
             "endlinecolor": "#2a3f5f",
             "gridcolor": "white",
             "linecolor": "white",
             "minorgridcolor": "white",
             "startlinecolor": "#2a3f5f"
            },
            "baxis": {
             "endlinecolor": "#2a3f5f",
             "gridcolor": "white",
             "linecolor": "white",
             "minorgridcolor": "white",
             "startlinecolor": "#2a3f5f"
            },
            "type": "carpet"
           }
          ],
          "choropleth": [
           {
            "colorbar": {
             "outlinewidth": 0,
             "ticks": ""
            },
            "type": "choropleth"
           }
          ],
          "contour": [
           {
            "colorbar": {
             "outlinewidth": 0,
             "ticks": ""
            },
            "colorscale": [
             [
              0,
              "#0d0887"
             ],
             [
              0.1111111111111111,
              "#46039f"
             ],
             [
              0.2222222222222222,
              "#7201a8"
             ],
             [
              0.3333333333333333,
              "#9c179e"
             ],
             [
              0.4444444444444444,
              "#bd3786"
             ],
             [
              0.5555555555555556,
              "#d8576b"
             ],
             [
              0.6666666666666666,
              "#ed7953"
             ],
             [
              0.7777777777777778,
              "#fb9f3a"
             ],
             [
              0.8888888888888888,
              "#fdca26"
             ],
             [
              1,
              "#f0f921"
             ]
            ],
            "type": "contour"
           }
          ],
          "contourcarpet": [
           {
            "colorbar": {
             "outlinewidth": 0,
             "ticks": ""
            },
            "type": "contourcarpet"
           }
          ],
          "heatmap": [
           {
            "colorbar": {
             "outlinewidth": 0,
             "ticks": ""
            },
            "colorscale": [
             [
              0,
              "#0d0887"
             ],
             [
              0.1111111111111111,
              "#46039f"
             ],
             [
              0.2222222222222222,
              "#7201a8"
             ],
             [
              0.3333333333333333,
              "#9c179e"
             ],
             [
              0.4444444444444444,
              "#bd3786"
             ],
             [
              0.5555555555555556,
              "#d8576b"
             ],
             [
              0.6666666666666666,
              "#ed7953"
             ],
             [
              0.7777777777777778,
              "#fb9f3a"
             ],
             [
              0.8888888888888888,
              "#fdca26"
             ],
             [
              1,
              "#f0f921"
             ]
            ],
            "type": "heatmap"
           }
          ],
          "heatmapgl": [
           {
            "colorbar": {
             "outlinewidth": 0,
             "ticks": ""
            },
            "colorscale": [
             [
              0,
              "#0d0887"
             ],
             [
              0.1111111111111111,
              "#46039f"
             ],
             [
              0.2222222222222222,
              "#7201a8"
             ],
             [
              0.3333333333333333,
              "#9c179e"
             ],
             [
              0.4444444444444444,
              "#bd3786"
             ],
             [
              0.5555555555555556,
              "#d8576b"
             ],
             [
              0.6666666666666666,
              "#ed7953"
             ],
             [
              0.7777777777777778,
              "#fb9f3a"
             ],
             [
              0.8888888888888888,
              "#fdca26"
             ],
             [
              1,
              "#f0f921"
             ]
            ],
            "type": "heatmapgl"
           }
          ],
          "histogram": [
           {
            "marker": {
             "pattern": {
              "fillmode": "overlay",
              "size": 10,
              "solidity": 0.2
             }
            },
            "type": "histogram"
           }
          ],
          "histogram2d": [
           {
            "colorbar": {
             "outlinewidth": 0,
             "ticks": ""
            },
            "colorscale": [
             [
              0,
              "#0d0887"
             ],
             [
              0.1111111111111111,
              "#46039f"
             ],
             [
              0.2222222222222222,
              "#7201a8"
             ],
             [
              0.3333333333333333,
              "#9c179e"
             ],
             [
              0.4444444444444444,
              "#bd3786"
             ],
             [
              0.5555555555555556,
              "#d8576b"
             ],
             [
              0.6666666666666666,
              "#ed7953"
             ],
             [
              0.7777777777777778,
              "#fb9f3a"
             ],
             [
              0.8888888888888888,
              "#fdca26"
             ],
             [
              1,
              "#f0f921"
             ]
            ],
            "type": "histogram2d"
           }
          ],
          "histogram2dcontour": [
           {
            "colorbar": {
             "outlinewidth": 0,
             "ticks": ""
            },
            "colorscale": [
             [
              0,
              "#0d0887"
             ],
             [
              0.1111111111111111,
              "#46039f"
             ],
             [
              0.2222222222222222,
              "#7201a8"
             ],
             [
              0.3333333333333333,
              "#9c179e"
             ],
             [
              0.4444444444444444,
              "#bd3786"
             ],
             [
              0.5555555555555556,
              "#d8576b"
             ],
             [
              0.6666666666666666,
              "#ed7953"
             ],
             [
              0.7777777777777778,
              "#fb9f3a"
             ],
             [
              0.8888888888888888,
              "#fdca26"
             ],
             [
              1,
              "#f0f921"
             ]
            ],
            "type": "histogram2dcontour"
           }
          ],
          "mesh3d": [
           {
            "colorbar": {
             "outlinewidth": 0,
             "ticks": ""
            },
            "type": "mesh3d"
           }
          ],
          "parcoords": [
           {
            "line": {
             "colorbar": {
              "outlinewidth": 0,
              "ticks": ""
             }
            },
            "type": "parcoords"
           }
          ],
          "pie": [
           {
            "automargin": true,
            "type": "pie"
           }
          ],
          "scatter": [
           {
            "marker": {
             "colorbar": {
              "outlinewidth": 0,
              "ticks": ""
             }
            },
            "type": "scatter"
           }
          ],
          "scatter3d": [
           {
            "line": {
             "colorbar": {
              "outlinewidth": 0,
              "ticks": ""
             }
            },
            "marker": {
             "colorbar": {
              "outlinewidth": 0,
              "ticks": ""
             }
            },
            "type": "scatter3d"
           }
          ],
          "scattercarpet": [
           {
            "marker": {
             "colorbar": {
              "outlinewidth": 0,
              "ticks": ""
             }
            },
            "type": "scattercarpet"
           }
          ],
          "scattergeo": [
           {
            "marker": {
             "colorbar": {
              "outlinewidth": 0,
              "ticks": ""
             }
            },
            "type": "scattergeo"
           }
          ],
          "scattergl": [
           {
            "marker": {
             "colorbar": {
              "outlinewidth": 0,
              "ticks": ""
             }
            },
            "type": "scattergl"
           }
          ],
          "scattermapbox": [
           {
            "marker": {
             "colorbar": {
              "outlinewidth": 0,
              "ticks": ""
             }
            },
            "type": "scattermapbox"
           }
          ],
          "scatterpolar": [
           {
            "marker": {
             "colorbar": {
              "outlinewidth": 0,
              "ticks": ""
             }
            },
            "type": "scatterpolar"
           }
          ],
          "scatterpolargl": [
           {
            "marker": {
             "colorbar": {
              "outlinewidth": 0,
              "ticks": ""
             }
            },
            "type": "scatterpolargl"
           }
          ],
          "scatterternary": [
           {
            "marker": {
             "colorbar": {
              "outlinewidth": 0,
              "ticks": ""
             }
            },
            "type": "scatterternary"
           }
          ],
          "surface": [
           {
            "colorbar": {
             "outlinewidth": 0,
             "ticks": ""
            },
            "colorscale": [
             [
              0,
              "#0d0887"
             ],
             [
              0.1111111111111111,
              "#46039f"
             ],
             [
              0.2222222222222222,
              "#7201a8"
             ],
             [
              0.3333333333333333,
              "#9c179e"
             ],
             [
              0.4444444444444444,
              "#bd3786"
             ],
             [
              0.5555555555555556,
              "#d8576b"
             ],
             [
              0.6666666666666666,
              "#ed7953"
             ],
             [
              0.7777777777777778,
              "#fb9f3a"
             ],
             [
              0.8888888888888888,
              "#fdca26"
             ],
             [
              1,
              "#f0f921"
             ]
            ],
            "type": "surface"
           }
          ],
          "table": [
           {
            "cells": {
             "fill": {
              "color": "#EBF0F8"
             },
             "line": {
              "color": "white"
             }
            },
            "header": {
             "fill": {
              "color": "#C8D4E3"
             },
             "line": {
              "color": "white"
             }
            },
            "type": "table"
           }
          ]
         },
         "layout": {
          "annotationdefaults": {
           "arrowcolor": "#2a3f5f",
           "arrowhead": 0,
           "arrowwidth": 1
          },
          "autotypenumbers": "strict",
          "coloraxis": {
           "colorbar": {
            "outlinewidth": 0,
            "ticks": ""
           }
          },
          "colorscale": {
           "diverging": [
            [
             0,
             "#8e0152"
            ],
            [
             0.1,
             "#c51b7d"
            ],
            [
             0.2,
             "#de77ae"
            ],
            [
             0.3,
             "#f1b6da"
            ],
            [
             0.4,
             "#fde0ef"
            ],
            [
             0.5,
             "#f7f7f7"
            ],
            [
             0.6,
             "#e6f5d0"
            ],
            [
             0.7,
             "#b8e186"
            ],
            [
             0.8,
             "#7fbc41"
            ],
            [
             0.9,
             "#4d9221"
            ],
            [
             1,
             "#276419"
            ]
           ],
           "sequential": [
            [
             0,
             "#0d0887"
            ],
            [
             0.1111111111111111,
             "#46039f"
            ],
            [
             0.2222222222222222,
             "#7201a8"
            ],
            [
             0.3333333333333333,
             "#9c179e"
            ],
            [
             0.4444444444444444,
             "#bd3786"
            ],
            [
             0.5555555555555556,
             "#d8576b"
            ],
            [
             0.6666666666666666,
             "#ed7953"
            ],
            [
             0.7777777777777778,
             "#fb9f3a"
            ],
            [
             0.8888888888888888,
             "#fdca26"
            ],
            [
             1,
             "#f0f921"
            ]
           ],
           "sequentialminus": [
            [
             0,
             "#0d0887"
            ],
            [
             0.1111111111111111,
             "#46039f"
            ],
            [
             0.2222222222222222,
             "#7201a8"
            ],
            [
             0.3333333333333333,
             "#9c179e"
            ],
            [
             0.4444444444444444,
             "#bd3786"
            ],
            [
             0.5555555555555556,
             "#d8576b"
            ],
            [
             0.6666666666666666,
             "#ed7953"
            ],
            [
             0.7777777777777778,
             "#fb9f3a"
            ],
            [
             0.8888888888888888,
             "#fdca26"
            ],
            [
             1,
             "#f0f921"
            ]
           ]
          },
          "colorway": [
           "#636efa",
           "#EF553B",
           "#00cc96",
           "#ab63fa",
           "#FFA15A",
           "#19d3f3",
           "#FF6692",
           "#B6E880",
           "#FF97FF",
           "#FECB52"
          ],
          "font": {
           "color": "#2a3f5f"
          },
          "geo": {
           "bgcolor": "white",
           "lakecolor": "white",
           "landcolor": "#E5ECF6",
           "showlakes": true,
           "showland": true,
           "subunitcolor": "white"
          },
          "hoverlabel": {
           "align": "left"
          },
          "hovermode": "closest",
          "mapbox": {
           "style": "light"
          },
          "paper_bgcolor": "white",
          "plot_bgcolor": "#E5ECF6",
          "polar": {
           "angularaxis": {
            "gridcolor": "white",
            "linecolor": "white",
            "ticks": ""
           },
           "bgcolor": "#E5ECF6",
           "radialaxis": {
            "gridcolor": "white",
            "linecolor": "white",
            "ticks": ""
           }
          },
          "scene": {
           "xaxis": {
            "backgroundcolor": "#E5ECF6",
            "gridcolor": "white",
            "gridwidth": 2,
            "linecolor": "white",
            "showbackground": true,
            "ticks": "",
            "zerolinecolor": "white"
           },
           "yaxis": {
            "backgroundcolor": "#E5ECF6",
            "gridcolor": "white",
            "gridwidth": 2,
            "linecolor": "white",
            "showbackground": true,
            "ticks": "",
            "zerolinecolor": "white"
           },
           "zaxis": {
            "backgroundcolor": "#E5ECF6",
            "gridcolor": "white",
            "gridwidth": 2,
            "linecolor": "white",
            "showbackground": true,
            "ticks": "",
            "zerolinecolor": "white"
           }
          },
          "shapedefaults": {
           "line": {
            "color": "#2a3f5f"
           }
          },
          "ternary": {
           "aaxis": {
            "gridcolor": "white",
            "linecolor": "white",
            "ticks": ""
           },
           "baxis": {
            "gridcolor": "white",
            "linecolor": "white",
            "ticks": ""
           },
           "bgcolor": "#E5ECF6",
           "caxis": {
            "gridcolor": "white",
            "linecolor": "white",
            "ticks": ""
           }
          },
          "title": {
           "x": 0.05
          },
          "xaxis": {
           "automargin": true,
           "gridcolor": "white",
           "linecolor": "white",
           "ticks": "",
           "title": {
            "standoff": 15
           },
           "zerolinecolor": "white",
           "zerolinewidth": 2
          },
          "yaxis": {
           "automargin": true,
           "gridcolor": "white",
           "linecolor": "white",
           "ticks": "",
           "title": {
            "standoff": 15
           },
           "zerolinecolor": "white",
           "zerolinewidth": 2
          }
         }
        },
        "xaxis": {
         "anchor": "y",
         "domain": [
          0,
          1
         ],
         "title": {
          "text": "number_of_passes"
         }
        },
        "yaxis": {
         "anchor": "x",
         "domain": [
          0,
          1
         ],
         "title": {
          "text": "coherence_value"
         }
        }
       }
      },
      "text/html": [
       "<div>                            <div id=\"5ddeb02a-494f-4cfe-9320-b6998858ae04\" class=\"plotly-graph-div\" style=\"height:525px; width:100%;\"></div>            <script type=\"text/javascript\">                require([\"plotly\"], function(Plotly) {                    window.PLOTLYENV=window.PLOTLYENV || {};                                    if (document.getElementById(\"5ddeb02a-494f-4cfe-9320-b6998858ae04\")) {                    Plotly.newPlot(                        \"5ddeb02a-494f-4cfe-9320-b6998858ae04\",                        [{\"hovertemplate\":\"number_of_passes=%{x}<br>coherence_value=%{y}<extra></extra>\",\"legendgroup\":\"\",\"line\":{\"color\":\"#636efa\",\"dash\":\"solid\"},\"marker\":{\"symbol\":\"circle\"},\"mode\":\"lines\",\"name\":\"\",\"orientation\":\"v\",\"showlegend\":false,\"x\":[10,20,30,40],\"xaxis\":\"x\",\"y\":[0.46868397878211393,0.4758734719721148,0.47561976340043766,0.47371396201902566],\"yaxis\":\"y\",\"type\":\"scatter\"}],                        {\"template\":{\"data\":{\"bar\":[{\"error_x\":{\"color\":\"#2a3f5f\"},\"error_y\":{\"color\":\"#2a3f5f\"},\"marker\":{\"line\":{\"color\":\"#E5ECF6\",\"width\":0.5},\"pattern\":{\"fillmode\":\"overlay\",\"size\":10,\"solidity\":0.2}},\"type\":\"bar\"}],\"barpolar\":[{\"marker\":{\"line\":{\"color\":\"#E5ECF6\",\"width\":0.5},\"pattern\":{\"fillmode\":\"overlay\",\"size\":10,\"solidity\":0.2}},\"type\":\"barpolar\"}],\"carpet\":[{\"aaxis\":{\"endlinecolor\":\"#2a3f5f\",\"gridcolor\":\"white\",\"linecolor\":\"white\",\"minorgridcolor\":\"white\",\"startlinecolor\":\"#2a3f5f\"},\"baxis\":{\"endlinecolor\":\"#2a3f5f\",\"gridcolor\":\"white\",\"linecolor\":\"white\",\"minorgridcolor\":\"white\",\"startlinecolor\":\"#2a3f5f\"},\"type\":\"carpet\"}],\"choropleth\":[{\"colorbar\":{\"outlinewidth\":0,\"ticks\":\"\"},\"type\":\"choropleth\"}],\"contour\":[{\"colorbar\":{\"outlinewidth\":0,\"ticks\":\"\"},\"colorscale\":[[0.0,\"#0d0887\"],[0.1111111111111111,\"#46039f\"],[0.2222222222222222,\"#7201a8\"],[0.3333333333333333,\"#9c179e\"],[0.4444444444444444,\"#bd3786\"],[0.5555555555555556,\"#d8576b\"],[0.6666666666666666,\"#ed7953\"],[0.7777777777777778,\"#fb9f3a\"],[0.8888888888888888,\"#fdca26\"],[1.0,\"#f0f921\"]],\"type\":\"contour\"}],\"contourcarpet\":[{\"colorbar\":{\"outlinewidth\":0,\"ticks\":\"\"},\"type\":\"contourcarpet\"}],\"heatmap\":[{\"colorbar\":{\"outlinewidth\":0,\"ticks\":\"\"},\"colorscale\":[[0.0,\"#0d0887\"],[0.1111111111111111,\"#46039f\"],[0.2222222222222222,\"#7201a8\"],[0.3333333333333333,\"#9c179e\"],[0.4444444444444444,\"#bd3786\"],[0.5555555555555556,\"#d8576b\"],[0.6666666666666666,\"#ed7953\"],[0.7777777777777778,\"#fb9f3a\"],[0.8888888888888888,\"#fdca26\"],[1.0,\"#f0f921\"]],\"type\":\"heatmap\"}],\"heatmapgl\":[{\"colorbar\":{\"outlinewidth\":0,\"ticks\":\"\"},\"colorscale\":[[0.0,\"#0d0887\"],[0.1111111111111111,\"#46039f\"],[0.2222222222222222,\"#7201a8\"],[0.3333333333333333,\"#9c179e\"],[0.4444444444444444,\"#bd3786\"],[0.5555555555555556,\"#d8576b\"],[0.6666666666666666,\"#ed7953\"],[0.7777777777777778,\"#fb9f3a\"],[0.8888888888888888,\"#fdca26\"],[1.0,\"#f0f921\"]],\"type\":\"heatmapgl\"}],\"histogram\":[{\"marker\":{\"pattern\":{\"fillmode\":\"overlay\",\"size\":10,\"solidity\":0.2}},\"type\":\"histogram\"}],\"histogram2d\":[{\"colorbar\":{\"outlinewidth\":0,\"ticks\":\"\"},\"colorscale\":[[0.0,\"#0d0887\"],[0.1111111111111111,\"#46039f\"],[0.2222222222222222,\"#7201a8\"],[0.3333333333333333,\"#9c179e\"],[0.4444444444444444,\"#bd3786\"],[0.5555555555555556,\"#d8576b\"],[0.6666666666666666,\"#ed7953\"],[0.7777777777777778,\"#fb9f3a\"],[0.8888888888888888,\"#fdca26\"],[1.0,\"#f0f921\"]],\"type\":\"histogram2d\"}],\"histogram2dcontour\":[{\"colorbar\":{\"outlinewidth\":0,\"ticks\":\"\"},\"colorscale\":[[0.0,\"#0d0887\"],[0.1111111111111111,\"#46039f\"],[0.2222222222222222,\"#7201a8\"],[0.3333333333333333,\"#9c179e\"],[0.4444444444444444,\"#bd3786\"],[0.5555555555555556,\"#d8576b\"],[0.6666666666666666,\"#ed7953\"],[0.7777777777777778,\"#fb9f3a\"],[0.8888888888888888,\"#fdca26\"],[1.0,\"#f0f921\"]],\"type\":\"histogram2dcontour\"}],\"mesh3d\":[{\"colorbar\":{\"outlinewidth\":0,\"ticks\":\"\"},\"type\":\"mesh3d\"}],\"parcoords\":[{\"line\":{\"colorbar\":{\"outlinewidth\":0,\"ticks\":\"\"}},\"type\":\"parcoords\"}],\"pie\":[{\"automargin\":true,\"type\":\"pie\"}],\"scatter\":[{\"marker\":{\"colorbar\":{\"outlinewidth\":0,\"ticks\":\"\"}},\"type\":\"scatter\"}],\"scatter3d\":[{\"line\":{\"colorbar\":{\"outlinewidth\":0,\"ticks\":\"\"}},\"marker\":{\"colorbar\":{\"outlinewidth\":0,\"ticks\":\"\"}},\"type\":\"scatter3d\"}],\"scattercarpet\":[{\"marker\":{\"colorbar\":{\"outlinewidth\":0,\"ticks\":\"\"}},\"type\":\"scattercarpet\"}],\"scattergeo\":[{\"marker\":{\"colorbar\":{\"outlinewidth\":0,\"ticks\":\"\"}},\"type\":\"scattergeo\"}],\"scattergl\":[{\"marker\":{\"colorbar\":{\"outlinewidth\":0,\"ticks\":\"\"}},\"type\":\"scattergl\"}],\"scattermapbox\":[{\"marker\":{\"colorbar\":{\"outlinewidth\":0,\"ticks\":\"\"}},\"type\":\"scattermapbox\"}],\"scatterpolar\":[{\"marker\":{\"colorbar\":{\"outlinewidth\":0,\"ticks\":\"\"}},\"type\":\"scatterpolar\"}],\"scatterpolargl\":[{\"marker\":{\"colorbar\":{\"outlinewidth\":0,\"ticks\":\"\"}},\"type\":\"scatterpolargl\"}],\"scatterternary\":[{\"marker\":{\"colorbar\":{\"outlinewidth\":0,\"ticks\":\"\"}},\"type\":\"scatterternary\"}],\"surface\":[{\"colorbar\":{\"outlinewidth\":0,\"ticks\":\"\"},\"colorscale\":[[0.0,\"#0d0887\"],[0.1111111111111111,\"#46039f\"],[0.2222222222222222,\"#7201a8\"],[0.3333333333333333,\"#9c179e\"],[0.4444444444444444,\"#bd3786\"],[0.5555555555555556,\"#d8576b\"],[0.6666666666666666,\"#ed7953\"],[0.7777777777777778,\"#fb9f3a\"],[0.8888888888888888,\"#fdca26\"],[1.0,\"#f0f921\"]],\"type\":\"surface\"}],\"table\":[{\"cells\":{\"fill\":{\"color\":\"#EBF0F8\"},\"line\":{\"color\":\"white\"}},\"header\":{\"fill\":{\"color\":\"#C8D4E3\"},\"line\":{\"color\":\"white\"}},\"type\":\"table\"}]},\"layout\":{\"annotationdefaults\":{\"arrowcolor\":\"#2a3f5f\",\"arrowhead\":0,\"arrowwidth\":1},\"autotypenumbers\":\"strict\",\"coloraxis\":{\"colorbar\":{\"outlinewidth\":0,\"ticks\":\"\"}},\"colorscale\":{\"diverging\":[[0,\"#8e0152\"],[0.1,\"#c51b7d\"],[0.2,\"#de77ae\"],[0.3,\"#f1b6da\"],[0.4,\"#fde0ef\"],[0.5,\"#f7f7f7\"],[0.6,\"#e6f5d0\"],[0.7,\"#b8e186\"],[0.8,\"#7fbc41\"],[0.9,\"#4d9221\"],[1,\"#276419\"]],\"sequential\":[[0.0,\"#0d0887\"],[0.1111111111111111,\"#46039f\"],[0.2222222222222222,\"#7201a8\"],[0.3333333333333333,\"#9c179e\"],[0.4444444444444444,\"#bd3786\"],[0.5555555555555556,\"#d8576b\"],[0.6666666666666666,\"#ed7953\"],[0.7777777777777778,\"#fb9f3a\"],[0.8888888888888888,\"#fdca26\"],[1.0,\"#f0f921\"]],\"sequentialminus\":[[0.0,\"#0d0887\"],[0.1111111111111111,\"#46039f\"],[0.2222222222222222,\"#7201a8\"],[0.3333333333333333,\"#9c179e\"],[0.4444444444444444,\"#bd3786\"],[0.5555555555555556,\"#d8576b\"],[0.6666666666666666,\"#ed7953\"],[0.7777777777777778,\"#fb9f3a\"],[0.8888888888888888,\"#fdca26\"],[1.0,\"#f0f921\"]]},\"colorway\":[\"#636efa\",\"#EF553B\",\"#00cc96\",\"#ab63fa\",\"#FFA15A\",\"#19d3f3\",\"#FF6692\",\"#B6E880\",\"#FF97FF\",\"#FECB52\"],\"font\":{\"color\":\"#2a3f5f\"},\"geo\":{\"bgcolor\":\"white\",\"lakecolor\":\"white\",\"landcolor\":\"#E5ECF6\",\"showlakes\":true,\"showland\":true,\"subunitcolor\":\"white\"},\"hoverlabel\":{\"align\":\"left\"},\"hovermode\":\"closest\",\"mapbox\":{\"style\":\"light\"},\"paper_bgcolor\":\"white\",\"plot_bgcolor\":\"#E5ECF6\",\"polar\":{\"angularaxis\":{\"gridcolor\":\"white\",\"linecolor\":\"white\",\"ticks\":\"\"},\"bgcolor\":\"#E5ECF6\",\"radialaxis\":{\"gridcolor\":\"white\",\"linecolor\":\"white\",\"ticks\":\"\"}},\"scene\":{\"xaxis\":{\"backgroundcolor\":\"#E5ECF6\",\"gridcolor\":\"white\",\"gridwidth\":2,\"linecolor\":\"white\",\"showbackground\":true,\"ticks\":\"\",\"zerolinecolor\":\"white\"},\"yaxis\":{\"backgroundcolor\":\"#E5ECF6\",\"gridcolor\":\"white\",\"gridwidth\":2,\"linecolor\":\"white\",\"showbackground\":true,\"ticks\":\"\",\"zerolinecolor\":\"white\"},\"zaxis\":{\"backgroundcolor\":\"#E5ECF6\",\"gridcolor\":\"white\",\"gridwidth\":2,\"linecolor\":\"white\",\"showbackground\":true,\"ticks\":\"\",\"zerolinecolor\":\"white\"}},\"shapedefaults\":{\"line\":{\"color\":\"#2a3f5f\"}},\"ternary\":{\"aaxis\":{\"gridcolor\":\"white\",\"linecolor\":\"white\",\"ticks\":\"\"},\"baxis\":{\"gridcolor\":\"white\",\"linecolor\":\"white\",\"ticks\":\"\"},\"bgcolor\":\"#E5ECF6\",\"caxis\":{\"gridcolor\":\"white\",\"linecolor\":\"white\",\"ticks\":\"\"}},\"title\":{\"x\":0.05},\"xaxis\":{\"automargin\":true,\"gridcolor\":\"white\",\"linecolor\":\"white\",\"ticks\":\"\",\"title\":{\"standoff\":15},\"zerolinecolor\":\"white\",\"zerolinewidth\":2},\"yaxis\":{\"automargin\":true,\"gridcolor\":\"white\",\"linecolor\":\"white\",\"ticks\":\"\",\"title\":{\"standoff\":15},\"zerolinecolor\":\"white\",\"zerolinewidth\":2}}},\"xaxis\":{\"anchor\":\"y\",\"domain\":[0.0,1.0],\"title\":{\"text\":\"number_of_passes\"}},\"yaxis\":{\"anchor\":\"x\",\"domain\":[0.0,1.0],\"title\":{\"text\":\"coherence_value\"}},\"legend\":{\"tracegroupgap\":0},\"margin\":{\"t\":60}},                        {\"responsive\": true}                    ).then(function(){\n",
       "                            \n",
       "var gd = document.getElementById('5ddeb02a-494f-4cfe-9320-b6998858ae04');\n",
       "var x = new MutationObserver(function (mutations, observer) {{\n",
       "        var display = window.getComputedStyle(gd).display;\n",
       "        if (!display || display === 'none') {{\n",
       "            console.log([gd, 'removed!']);\n",
       "            Plotly.purge(gd);\n",
       "            observer.disconnect();\n",
       "        }}\n",
       "}});\n",
       "\n",
       "// Listen for the removal of the full notebook cells\n",
       "var notebookContainer = gd.closest('#notebook-container');\n",
       "if (notebookContainer) {{\n",
       "    x.observe(notebookContainer, {childList: true});\n",
       "}}\n",
       "\n",
       "// Listen for the clearing of the current output cell\n",
       "var outputEl = gd.closest('.output');\n",
       "if (outputEl) {{\n",
       "    x.observe(outputEl, {childList: true});\n",
       "}}\n",
       "\n",
       "                        })                };                });            </script>        </div>"
      ]
     },
     "metadata": {},
     "output_type": "display_data"
    }
   ],
   "source": [
    "#Printing First Model Time\n",
    "limit=50; start=10; step=10;\n",
    "x_2 = range(start, limit, step)\n",
    "\n",
    "its_ts = {'coherence_value': coherence_values_its,\n",
    "            'number_of_passes': x_2}\n",
    "\n",
    "its_track_sheet = pd.DataFrame(data=its_ts)\n",
    "\n",
    "its_fig = px.line(its_track_sheet, x=\"number_of_passes\", y=\"coherence_value\")\n",
    "its_fig.show()"
   ]
  },
  {
   "cell_type": "markdown",
   "id": "96b35154",
   "metadata": {},
   "source": [
    "# Running LDA Models With Different Values Of Number Of Iterations"
   ]
  },
  {
   "cell_type": "code",
   "execution_count": 242,
   "id": "7498cb5e",
   "metadata": {},
   "outputs": [],
   "source": [
    "#Defining a function to loop over iterations to find an optimal number of iterations\n",
    "def compute_coherence_values_iterations(dictionary, corpus, texts, start,limit, step):\n",
    "    coherence_values_its = []\n",
    "    model_list_its = []\n",
    "    for iterations in range(start, limit, step):\n",
    "        model = LdaMulticore(corpus=corpus,\n",
    "                       id2word=id2word,\n",
    "                       num_topics=8,# Fixed From First Iterations\n",
    "                       random_state=42,\n",
    "                       chunksize=2000,\n",
    "                       passes=20,# Fixed From Second Iterations\n",
    "                       iterations=iterations)\n",
    "        model_list_its.append(model)\n",
    "        coherencemodel = CoherenceModel(model=model, texts=texts, dictionary=dictionary, coherence='c_v')\n",
    "        coherence_values_its.append(coherencemodel.get_coherence())\n",
    "\n",
    "    return model_list_its, coherence_values_its   "
   ]
  },
  {
   "cell_type": "code",
   "execution_count": 243,
   "id": "96ec9178",
   "metadata": {},
   "outputs": [],
   "source": [
    "\n",
    "\n",
    "model_list_its, coherence_values_its = compute_coherence_values_iterations(dictionary=id2word,\n",
    "                                                        corpus=corpus,\n",
    "                                                        texts=data_bigrams_trigrams,\n",
    "                                                        start=10, limit=150, step=10)\n"
   ]
  },
  {
   "cell_type": "code",
   "execution_count": 245,
   "id": "0363fa9a",
   "metadata": {},
   "outputs": [
    {
     "name": "stdout",
     "output_type": "stream",
     "text": [
      "43.0\n"
     ]
    },
    {
     "data": {
      "application/vnd.plotly.v1+json": {
       "config": {
        "plotlyServerURL": "https://plot.ly"
       },
       "data": [
        {
         "hovertemplate": "number_of_iterations=%{x}<br>coherence_value=%{y}<extra></extra>",
         "legendgroup": "",
         "line": {
          "color": "#636efa",
          "dash": "solid"
         },
         "marker": {
          "symbol": "circle"
         },
         "mode": "lines",
         "name": "",
         "orientation": "v",
         "showlegend": false,
         "type": "scatter",
         "x": [
          10,
          20,
          30,
          40,
          50,
          60,
          70,
          80,
          90,
          100,
          110,
          120,
          130,
          140
         ],
         "xaxis": "x",
         "y": [
          0.4576927535640297,
          0.4741845641818211,
          0.4824599923684124,
          0.4778660546653461,
          0.4758734719721148,
          0.47561976340043766,
          0.47482489565589764,
          0.47561976340043766,
          0.4758734719721148,
          0.47561976340043766,
          0.47561976340043777,
          0.4748248956558976,
          0.47561976340043766,
          0.47561976340043766
         ],
         "yaxis": "y"
        }
       ],
       "layout": {
        "legend": {
         "tracegroupgap": 0
        },
        "margin": {
         "t": 60
        },
        "template": {
         "data": {
          "bar": [
           {
            "error_x": {
             "color": "#2a3f5f"
            },
            "error_y": {
             "color": "#2a3f5f"
            },
            "marker": {
             "line": {
              "color": "#E5ECF6",
              "width": 0.5
             },
             "pattern": {
              "fillmode": "overlay",
              "size": 10,
              "solidity": 0.2
             }
            },
            "type": "bar"
           }
          ],
          "barpolar": [
           {
            "marker": {
             "line": {
              "color": "#E5ECF6",
              "width": 0.5
             },
             "pattern": {
              "fillmode": "overlay",
              "size": 10,
              "solidity": 0.2
             }
            },
            "type": "barpolar"
           }
          ],
          "carpet": [
           {
            "aaxis": {
             "endlinecolor": "#2a3f5f",
             "gridcolor": "white",
             "linecolor": "white",
             "minorgridcolor": "white",
             "startlinecolor": "#2a3f5f"
            },
            "baxis": {
             "endlinecolor": "#2a3f5f",
             "gridcolor": "white",
             "linecolor": "white",
             "minorgridcolor": "white",
             "startlinecolor": "#2a3f5f"
            },
            "type": "carpet"
           }
          ],
          "choropleth": [
           {
            "colorbar": {
             "outlinewidth": 0,
             "ticks": ""
            },
            "type": "choropleth"
           }
          ],
          "contour": [
           {
            "colorbar": {
             "outlinewidth": 0,
             "ticks": ""
            },
            "colorscale": [
             [
              0,
              "#0d0887"
             ],
             [
              0.1111111111111111,
              "#46039f"
             ],
             [
              0.2222222222222222,
              "#7201a8"
             ],
             [
              0.3333333333333333,
              "#9c179e"
             ],
             [
              0.4444444444444444,
              "#bd3786"
             ],
             [
              0.5555555555555556,
              "#d8576b"
             ],
             [
              0.6666666666666666,
              "#ed7953"
             ],
             [
              0.7777777777777778,
              "#fb9f3a"
             ],
             [
              0.8888888888888888,
              "#fdca26"
             ],
             [
              1,
              "#f0f921"
             ]
            ],
            "type": "contour"
           }
          ],
          "contourcarpet": [
           {
            "colorbar": {
             "outlinewidth": 0,
             "ticks": ""
            },
            "type": "contourcarpet"
           }
          ],
          "heatmap": [
           {
            "colorbar": {
             "outlinewidth": 0,
             "ticks": ""
            },
            "colorscale": [
             [
              0,
              "#0d0887"
             ],
             [
              0.1111111111111111,
              "#46039f"
             ],
             [
              0.2222222222222222,
              "#7201a8"
             ],
             [
              0.3333333333333333,
              "#9c179e"
             ],
             [
              0.4444444444444444,
              "#bd3786"
             ],
             [
              0.5555555555555556,
              "#d8576b"
             ],
             [
              0.6666666666666666,
              "#ed7953"
             ],
             [
              0.7777777777777778,
              "#fb9f3a"
             ],
             [
              0.8888888888888888,
              "#fdca26"
             ],
             [
              1,
              "#f0f921"
             ]
            ],
            "type": "heatmap"
           }
          ],
          "heatmapgl": [
           {
            "colorbar": {
             "outlinewidth": 0,
             "ticks": ""
            },
            "colorscale": [
             [
              0,
              "#0d0887"
             ],
             [
              0.1111111111111111,
              "#46039f"
             ],
             [
              0.2222222222222222,
              "#7201a8"
             ],
             [
              0.3333333333333333,
              "#9c179e"
             ],
             [
              0.4444444444444444,
              "#bd3786"
             ],
             [
              0.5555555555555556,
              "#d8576b"
             ],
             [
              0.6666666666666666,
              "#ed7953"
             ],
             [
              0.7777777777777778,
              "#fb9f3a"
             ],
             [
              0.8888888888888888,
              "#fdca26"
             ],
             [
              1,
              "#f0f921"
             ]
            ],
            "type": "heatmapgl"
           }
          ],
          "histogram": [
           {
            "marker": {
             "pattern": {
              "fillmode": "overlay",
              "size": 10,
              "solidity": 0.2
             }
            },
            "type": "histogram"
           }
          ],
          "histogram2d": [
           {
            "colorbar": {
             "outlinewidth": 0,
             "ticks": ""
            },
            "colorscale": [
             [
              0,
              "#0d0887"
             ],
             [
              0.1111111111111111,
              "#46039f"
             ],
             [
              0.2222222222222222,
              "#7201a8"
             ],
             [
              0.3333333333333333,
              "#9c179e"
             ],
             [
              0.4444444444444444,
              "#bd3786"
             ],
             [
              0.5555555555555556,
              "#d8576b"
             ],
             [
              0.6666666666666666,
              "#ed7953"
             ],
             [
              0.7777777777777778,
              "#fb9f3a"
             ],
             [
              0.8888888888888888,
              "#fdca26"
             ],
             [
              1,
              "#f0f921"
             ]
            ],
            "type": "histogram2d"
           }
          ],
          "histogram2dcontour": [
           {
            "colorbar": {
             "outlinewidth": 0,
             "ticks": ""
            },
            "colorscale": [
             [
              0,
              "#0d0887"
             ],
             [
              0.1111111111111111,
              "#46039f"
             ],
             [
              0.2222222222222222,
              "#7201a8"
             ],
             [
              0.3333333333333333,
              "#9c179e"
             ],
             [
              0.4444444444444444,
              "#bd3786"
             ],
             [
              0.5555555555555556,
              "#d8576b"
             ],
             [
              0.6666666666666666,
              "#ed7953"
             ],
             [
              0.7777777777777778,
              "#fb9f3a"
             ],
             [
              0.8888888888888888,
              "#fdca26"
             ],
             [
              1,
              "#f0f921"
             ]
            ],
            "type": "histogram2dcontour"
           }
          ],
          "mesh3d": [
           {
            "colorbar": {
             "outlinewidth": 0,
             "ticks": ""
            },
            "type": "mesh3d"
           }
          ],
          "parcoords": [
           {
            "line": {
             "colorbar": {
              "outlinewidth": 0,
              "ticks": ""
             }
            },
            "type": "parcoords"
           }
          ],
          "pie": [
           {
            "automargin": true,
            "type": "pie"
           }
          ],
          "scatter": [
           {
            "marker": {
             "colorbar": {
              "outlinewidth": 0,
              "ticks": ""
             }
            },
            "type": "scatter"
           }
          ],
          "scatter3d": [
           {
            "line": {
             "colorbar": {
              "outlinewidth": 0,
              "ticks": ""
             }
            },
            "marker": {
             "colorbar": {
              "outlinewidth": 0,
              "ticks": ""
             }
            },
            "type": "scatter3d"
           }
          ],
          "scattercarpet": [
           {
            "marker": {
             "colorbar": {
              "outlinewidth": 0,
              "ticks": ""
             }
            },
            "type": "scattercarpet"
           }
          ],
          "scattergeo": [
           {
            "marker": {
             "colorbar": {
              "outlinewidth": 0,
              "ticks": ""
             }
            },
            "type": "scattergeo"
           }
          ],
          "scattergl": [
           {
            "marker": {
             "colorbar": {
              "outlinewidth": 0,
              "ticks": ""
             }
            },
            "type": "scattergl"
           }
          ],
          "scattermapbox": [
           {
            "marker": {
             "colorbar": {
              "outlinewidth": 0,
              "ticks": ""
             }
            },
            "type": "scattermapbox"
           }
          ],
          "scatterpolar": [
           {
            "marker": {
             "colorbar": {
              "outlinewidth": 0,
              "ticks": ""
             }
            },
            "type": "scatterpolar"
           }
          ],
          "scatterpolargl": [
           {
            "marker": {
             "colorbar": {
              "outlinewidth": 0,
              "ticks": ""
             }
            },
            "type": "scatterpolargl"
           }
          ],
          "scatterternary": [
           {
            "marker": {
             "colorbar": {
              "outlinewidth": 0,
              "ticks": ""
             }
            },
            "type": "scatterternary"
           }
          ],
          "surface": [
           {
            "colorbar": {
             "outlinewidth": 0,
             "ticks": ""
            },
            "colorscale": [
             [
              0,
              "#0d0887"
             ],
             [
              0.1111111111111111,
              "#46039f"
             ],
             [
              0.2222222222222222,
              "#7201a8"
             ],
             [
              0.3333333333333333,
              "#9c179e"
             ],
             [
              0.4444444444444444,
              "#bd3786"
             ],
             [
              0.5555555555555556,
              "#d8576b"
             ],
             [
              0.6666666666666666,
              "#ed7953"
             ],
             [
              0.7777777777777778,
              "#fb9f3a"
             ],
             [
              0.8888888888888888,
              "#fdca26"
             ],
             [
              1,
              "#f0f921"
             ]
            ],
            "type": "surface"
           }
          ],
          "table": [
           {
            "cells": {
             "fill": {
              "color": "#EBF0F8"
             },
             "line": {
              "color": "white"
             }
            },
            "header": {
             "fill": {
              "color": "#C8D4E3"
             },
             "line": {
              "color": "white"
             }
            },
            "type": "table"
           }
          ]
         },
         "layout": {
          "annotationdefaults": {
           "arrowcolor": "#2a3f5f",
           "arrowhead": 0,
           "arrowwidth": 1
          },
          "autotypenumbers": "strict",
          "coloraxis": {
           "colorbar": {
            "outlinewidth": 0,
            "ticks": ""
           }
          },
          "colorscale": {
           "diverging": [
            [
             0,
             "#8e0152"
            ],
            [
             0.1,
             "#c51b7d"
            ],
            [
             0.2,
             "#de77ae"
            ],
            [
             0.3,
             "#f1b6da"
            ],
            [
             0.4,
             "#fde0ef"
            ],
            [
             0.5,
             "#f7f7f7"
            ],
            [
             0.6,
             "#e6f5d0"
            ],
            [
             0.7,
             "#b8e186"
            ],
            [
             0.8,
             "#7fbc41"
            ],
            [
             0.9,
             "#4d9221"
            ],
            [
             1,
             "#276419"
            ]
           ],
           "sequential": [
            [
             0,
             "#0d0887"
            ],
            [
             0.1111111111111111,
             "#46039f"
            ],
            [
             0.2222222222222222,
             "#7201a8"
            ],
            [
             0.3333333333333333,
             "#9c179e"
            ],
            [
             0.4444444444444444,
             "#bd3786"
            ],
            [
             0.5555555555555556,
             "#d8576b"
            ],
            [
             0.6666666666666666,
             "#ed7953"
            ],
            [
             0.7777777777777778,
             "#fb9f3a"
            ],
            [
             0.8888888888888888,
             "#fdca26"
            ],
            [
             1,
             "#f0f921"
            ]
           ],
           "sequentialminus": [
            [
             0,
             "#0d0887"
            ],
            [
             0.1111111111111111,
             "#46039f"
            ],
            [
             0.2222222222222222,
             "#7201a8"
            ],
            [
             0.3333333333333333,
             "#9c179e"
            ],
            [
             0.4444444444444444,
             "#bd3786"
            ],
            [
             0.5555555555555556,
             "#d8576b"
            ],
            [
             0.6666666666666666,
             "#ed7953"
            ],
            [
             0.7777777777777778,
             "#fb9f3a"
            ],
            [
             0.8888888888888888,
             "#fdca26"
            ],
            [
             1,
             "#f0f921"
            ]
           ]
          },
          "colorway": [
           "#636efa",
           "#EF553B",
           "#00cc96",
           "#ab63fa",
           "#FFA15A",
           "#19d3f3",
           "#FF6692",
           "#B6E880",
           "#FF97FF",
           "#FECB52"
          ],
          "font": {
           "color": "#2a3f5f"
          },
          "geo": {
           "bgcolor": "white",
           "lakecolor": "white",
           "landcolor": "#E5ECF6",
           "showlakes": true,
           "showland": true,
           "subunitcolor": "white"
          },
          "hoverlabel": {
           "align": "left"
          },
          "hovermode": "closest",
          "mapbox": {
           "style": "light"
          },
          "paper_bgcolor": "white",
          "plot_bgcolor": "#E5ECF6",
          "polar": {
           "angularaxis": {
            "gridcolor": "white",
            "linecolor": "white",
            "ticks": ""
           },
           "bgcolor": "#E5ECF6",
           "radialaxis": {
            "gridcolor": "white",
            "linecolor": "white",
            "ticks": ""
           }
          },
          "scene": {
           "xaxis": {
            "backgroundcolor": "#E5ECF6",
            "gridcolor": "white",
            "gridwidth": 2,
            "linecolor": "white",
            "showbackground": true,
            "ticks": "",
            "zerolinecolor": "white"
           },
           "yaxis": {
            "backgroundcolor": "#E5ECF6",
            "gridcolor": "white",
            "gridwidth": 2,
            "linecolor": "white",
            "showbackground": true,
            "ticks": "",
            "zerolinecolor": "white"
           },
           "zaxis": {
            "backgroundcolor": "#E5ECF6",
            "gridcolor": "white",
            "gridwidth": 2,
            "linecolor": "white",
            "showbackground": true,
            "ticks": "",
            "zerolinecolor": "white"
           }
          },
          "shapedefaults": {
           "line": {
            "color": "#2a3f5f"
           }
          },
          "ternary": {
           "aaxis": {
            "gridcolor": "white",
            "linecolor": "white",
            "ticks": ""
           },
           "baxis": {
            "gridcolor": "white",
            "linecolor": "white",
            "ticks": ""
           },
           "bgcolor": "#E5ECF6",
           "caxis": {
            "gridcolor": "white",
            "linecolor": "white",
            "ticks": ""
           }
          },
          "title": {
           "x": 0.05
          },
          "xaxis": {
           "automargin": true,
           "gridcolor": "white",
           "linecolor": "white",
           "ticks": "",
           "title": {
            "standoff": 15
           },
           "zerolinecolor": "white",
           "zerolinewidth": 2
          },
          "yaxis": {
           "automargin": true,
           "gridcolor": "white",
           "linecolor": "white",
           "ticks": "",
           "title": {
            "standoff": 15
           },
           "zerolinecolor": "white",
           "zerolinewidth": 2
          }
         }
        },
        "xaxis": {
         "anchor": "y",
         "domain": [
          0,
          1
         ],
         "title": {
          "text": "number_of_iterations"
         }
        },
        "yaxis": {
         "anchor": "x",
         "domain": [
          0,
          1
         ],
         "title": {
          "text": "coherence_value"
         }
        }
       }
      },
      "text/html": [
       "<div>                            <div id=\"08a834f4-6150-43d1-ad81-514c8737200c\" class=\"plotly-graph-div\" style=\"height:525px; width:100%;\"></div>            <script type=\"text/javascript\">                require([\"plotly\"], function(Plotly) {                    window.PLOTLYENV=window.PLOTLYENV || {};                                    if (document.getElementById(\"08a834f4-6150-43d1-ad81-514c8737200c\")) {                    Plotly.newPlot(                        \"08a834f4-6150-43d1-ad81-514c8737200c\",                        [{\"hovertemplate\":\"number_of_iterations=%{x}<br>coherence_value=%{y}<extra></extra>\",\"legendgroup\":\"\",\"line\":{\"color\":\"#636efa\",\"dash\":\"solid\"},\"marker\":{\"symbol\":\"circle\"},\"mode\":\"lines\",\"name\":\"\",\"orientation\":\"v\",\"showlegend\":false,\"x\":[10,20,30,40,50,60,70,80,90,100,110,120,130,140],\"xaxis\":\"x\",\"y\":[0.4576927535640297,0.4741845641818211,0.4824599923684124,0.4778660546653461,0.4758734719721148,0.47561976340043766,0.47482489565589764,0.47561976340043766,0.4758734719721148,0.47561976340043766,0.47561976340043777,0.4748248956558976,0.47561976340043766,0.47561976340043766],\"yaxis\":\"y\",\"type\":\"scatter\"}],                        {\"template\":{\"data\":{\"bar\":[{\"error_x\":{\"color\":\"#2a3f5f\"},\"error_y\":{\"color\":\"#2a3f5f\"},\"marker\":{\"line\":{\"color\":\"#E5ECF6\",\"width\":0.5},\"pattern\":{\"fillmode\":\"overlay\",\"size\":10,\"solidity\":0.2}},\"type\":\"bar\"}],\"barpolar\":[{\"marker\":{\"line\":{\"color\":\"#E5ECF6\",\"width\":0.5},\"pattern\":{\"fillmode\":\"overlay\",\"size\":10,\"solidity\":0.2}},\"type\":\"barpolar\"}],\"carpet\":[{\"aaxis\":{\"endlinecolor\":\"#2a3f5f\",\"gridcolor\":\"white\",\"linecolor\":\"white\",\"minorgridcolor\":\"white\",\"startlinecolor\":\"#2a3f5f\"},\"baxis\":{\"endlinecolor\":\"#2a3f5f\",\"gridcolor\":\"white\",\"linecolor\":\"white\",\"minorgridcolor\":\"white\",\"startlinecolor\":\"#2a3f5f\"},\"type\":\"carpet\"}],\"choropleth\":[{\"colorbar\":{\"outlinewidth\":0,\"ticks\":\"\"},\"type\":\"choropleth\"}],\"contour\":[{\"colorbar\":{\"outlinewidth\":0,\"ticks\":\"\"},\"colorscale\":[[0.0,\"#0d0887\"],[0.1111111111111111,\"#46039f\"],[0.2222222222222222,\"#7201a8\"],[0.3333333333333333,\"#9c179e\"],[0.4444444444444444,\"#bd3786\"],[0.5555555555555556,\"#d8576b\"],[0.6666666666666666,\"#ed7953\"],[0.7777777777777778,\"#fb9f3a\"],[0.8888888888888888,\"#fdca26\"],[1.0,\"#f0f921\"]],\"type\":\"contour\"}],\"contourcarpet\":[{\"colorbar\":{\"outlinewidth\":0,\"ticks\":\"\"},\"type\":\"contourcarpet\"}],\"heatmap\":[{\"colorbar\":{\"outlinewidth\":0,\"ticks\":\"\"},\"colorscale\":[[0.0,\"#0d0887\"],[0.1111111111111111,\"#46039f\"],[0.2222222222222222,\"#7201a8\"],[0.3333333333333333,\"#9c179e\"],[0.4444444444444444,\"#bd3786\"],[0.5555555555555556,\"#d8576b\"],[0.6666666666666666,\"#ed7953\"],[0.7777777777777778,\"#fb9f3a\"],[0.8888888888888888,\"#fdca26\"],[1.0,\"#f0f921\"]],\"type\":\"heatmap\"}],\"heatmapgl\":[{\"colorbar\":{\"outlinewidth\":0,\"ticks\":\"\"},\"colorscale\":[[0.0,\"#0d0887\"],[0.1111111111111111,\"#46039f\"],[0.2222222222222222,\"#7201a8\"],[0.3333333333333333,\"#9c179e\"],[0.4444444444444444,\"#bd3786\"],[0.5555555555555556,\"#d8576b\"],[0.6666666666666666,\"#ed7953\"],[0.7777777777777778,\"#fb9f3a\"],[0.8888888888888888,\"#fdca26\"],[1.0,\"#f0f921\"]],\"type\":\"heatmapgl\"}],\"histogram\":[{\"marker\":{\"pattern\":{\"fillmode\":\"overlay\",\"size\":10,\"solidity\":0.2}},\"type\":\"histogram\"}],\"histogram2d\":[{\"colorbar\":{\"outlinewidth\":0,\"ticks\":\"\"},\"colorscale\":[[0.0,\"#0d0887\"],[0.1111111111111111,\"#46039f\"],[0.2222222222222222,\"#7201a8\"],[0.3333333333333333,\"#9c179e\"],[0.4444444444444444,\"#bd3786\"],[0.5555555555555556,\"#d8576b\"],[0.6666666666666666,\"#ed7953\"],[0.7777777777777778,\"#fb9f3a\"],[0.8888888888888888,\"#fdca26\"],[1.0,\"#f0f921\"]],\"type\":\"histogram2d\"}],\"histogram2dcontour\":[{\"colorbar\":{\"outlinewidth\":0,\"ticks\":\"\"},\"colorscale\":[[0.0,\"#0d0887\"],[0.1111111111111111,\"#46039f\"],[0.2222222222222222,\"#7201a8\"],[0.3333333333333333,\"#9c179e\"],[0.4444444444444444,\"#bd3786\"],[0.5555555555555556,\"#d8576b\"],[0.6666666666666666,\"#ed7953\"],[0.7777777777777778,\"#fb9f3a\"],[0.8888888888888888,\"#fdca26\"],[1.0,\"#f0f921\"]],\"type\":\"histogram2dcontour\"}],\"mesh3d\":[{\"colorbar\":{\"outlinewidth\":0,\"ticks\":\"\"},\"type\":\"mesh3d\"}],\"parcoords\":[{\"line\":{\"colorbar\":{\"outlinewidth\":0,\"ticks\":\"\"}},\"type\":\"parcoords\"}],\"pie\":[{\"automargin\":true,\"type\":\"pie\"}],\"scatter\":[{\"marker\":{\"colorbar\":{\"outlinewidth\":0,\"ticks\":\"\"}},\"type\":\"scatter\"}],\"scatter3d\":[{\"line\":{\"colorbar\":{\"outlinewidth\":0,\"ticks\":\"\"}},\"marker\":{\"colorbar\":{\"outlinewidth\":0,\"ticks\":\"\"}},\"type\":\"scatter3d\"}],\"scattercarpet\":[{\"marker\":{\"colorbar\":{\"outlinewidth\":0,\"ticks\":\"\"}},\"type\":\"scattercarpet\"}],\"scattergeo\":[{\"marker\":{\"colorbar\":{\"outlinewidth\":0,\"ticks\":\"\"}},\"type\":\"scattergeo\"}],\"scattergl\":[{\"marker\":{\"colorbar\":{\"outlinewidth\":0,\"ticks\":\"\"}},\"type\":\"scattergl\"}],\"scattermapbox\":[{\"marker\":{\"colorbar\":{\"outlinewidth\":0,\"ticks\":\"\"}},\"type\":\"scattermapbox\"}],\"scatterpolar\":[{\"marker\":{\"colorbar\":{\"outlinewidth\":0,\"ticks\":\"\"}},\"type\":\"scatterpolar\"}],\"scatterpolargl\":[{\"marker\":{\"colorbar\":{\"outlinewidth\":0,\"ticks\":\"\"}},\"type\":\"scatterpolargl\"}],\"scatterternary\":[{\"marker\":{\"colorbar\":{\"outlinewidth\":0,\"ticks\":\"\"}},\"type\":\"scatterternary\"}],\"surface\":[{\"colorbar\":{\"outlinewidth\":0,\"ticks\":\"\"},\"colorscale\":[[0.0,\"#0d0887\"],[0.1111111111111111,\"#46039f\"],[0.2222222222222222,\"#7201a8\"],[0.3333333333333333,\"#9c179e\"],[0.4444444444444444,\"#bd3786\"],[0.5555555555555556,\"#d8576b\"],[0.6666666666666666,\"#ed7953\"],[0.7777777777777778,\"#fb9f3a\"],[0.8888888888888888,\"#fdca26\"],[1.0,\"#f0f921\"]],\"type\":\"surface\"}],\"table\":[{\"cells\":{\"fill\":{\"color\":\"#EBF0F8\"},\"line\":{\"color\":\"white\"}},\"header\":{\"fill\":{\"color\":\"#C8D4E3\"},\"line\":{\"color\":\"white\"}},\"type\":\"table\"}]},\"layout\":{\"annotationdefaults\":{\"arrowcolor\":\"#2a3f5f\",\"arrowhead\":0,\"arrowwidth\":1},\"autotypenumbers\":\"strict\",\"coloraxis\":{\"colorbar\":{\"outlinewidth\":0,\"ticks\":\"\"}},\"colorscale\":{\"diverging\":[[0,\"#8e0152\"],[0.1,\"#c51b7d\"],[0.2,\"#de77ae\"],[0.3,\"#f1b6da\"],[0.4,\"#fde0ef\"],[0.5,\"#f7f7f7\"],[0.6,\"#e6f5d0\"],[0.7,\"#b8e186\"],[0.8,\"#7fbc41\"],[0.9,\"#4d9221\"],[1,\"#276419\"]],\"sequential\":[[0.0,\"#0d0887\"],[0.1111111111111111,\"#46039f\"],[0.2222222222222222,\"#7201a8\"],[0.3333333333333333,\"#9c179e\"],[0.4444444444444444,\"#bd3786\"],[0.5555555555555556,\"#d8576b\"],[0.6666666666666666,\"#ed7953\"],[0.7777777777777778,\"#fb9f3a\"],[0.8888888888888888,\"#fdca26\"],[1.0,\"#f0f921\"]],\"sequentialminus\":[[0.0,\"#0d0887\"],[0.1111111111111111,\"#46039f\"],[0.2222222222222222,\"#7201a8\"],[0.3333333333333333,\"#9c179e\"],[0.4444444444444444,\"#bd3786\"],[0.5555555555555556,\"#d8576b\"],[0.6666666666666666,\"#ed7953\"],[0.7777777777777778,\"#fb9f3a\"],[0.8888888888888888,\"#fdca26\"],[1.0,\"#f0f921\"]]},\"colorway\":[\"#636efa\",\"#EF553B\",\"#00cc96\",\"#ab63fa\",\"#FFA15A\",\"#19d3f3\",\"#FF6692\",\"#B6E880\",\"#FF97FF\",\"#FECB52\"],\"font\":{\"color\":\"#2a3f5f\"},\"geo\":{\"bgcolor\":\"white\",\"lakecolor\":\"white\",\"landcolor\":\"#E5ECF6\",\"showlakes\":true,\"showland\":true,\"subunitcolor\":\"white\"},\"hoverlabel\":{\"align\":\"left\"},\"hovermode\":\"closest\",\"mapbox\":{\"style\":\"light\"},\"paper_bgcolor\":\"white\",\"plot_bgcolor\":\"#E5ECF6\",\"polar\":{\"angularaxis\":{\"gridcolor\":\"white\",\"linecolor\":\"white\",\"ticks\":\"\"},\"bgcolor\":\"#E5ECF6\",\"radialaxis\":{\"gridcolor\":\"white\",\"linecolor\":\"white\",\"ticks\":\"\"}},\"scene\":{\"xaxis\":{\"backgroundcolor\":\"#E5ECF6\",\"gridcolor\":\"white\",\"gridwidth\":2,\"linecolor\":\"white\",\"showbackground\":true,\"ticks\":\"\",\"zerolinecolor\":\"white\"},\"yaxis\":{\"backgroundcolor\":\"#E5ECF6\",\"gridcolor\":\"white\",\"gridwidth\":2,\"linecolor\":\"white\",\"showbackground\":true,\"ticks\":\"\",\"zerolinecolor\":\"white\"},\"zaxis\":{\"backgroundcolor\":\"#E5ECF6\",\"gridcolor\":\"white\",\"gridwidth\":2,\"linecolor\":\"white\",\"showbackground\":true,\"ticks\":\"\",\"zerolinecolor\":\"white\"}},\"shapedefaults\":{\"line\":{\"color\":\"#2a3f5f\"}},\"ternary\":{\"aaxis\":{\"gridcolor\":\"white\",\"linecolor\":\"white\",\"ticks\":\"\"},\"baxis\":{\"gridcolor\":\"white\",\"linecolor\":\"white\",\"ticks\":\"\"},\"bgcolor\":\"#E5ECF6\",\"caxis\":{\"gridcolor\":\"white\",\"linecolor\":\"white\",\"ticks\":\"\"}},\"title\":{\"x\":0.05},\"xaxis\":{\"automargin\":true,\"gridcolor\":\"white\",\"linecolor\":\"white\",\"ticks\":\"\",\"title\":{\"standoff\":15},\"zerolinecolor\":\"white\",\"zerolinewidth\":2},\"yaxis\":{\"automargin\":true,\"gridcolor\":\"white\",\"linecolor\":\"white\",\"ticks\":\"\",\"title\":{\"standoff\":15},\"zerolinecolor\":\"white\",\"zerolinewidth\":2}}},\"xaxis\":{\"anchor\":\"y\",\"domain\":[0.0,1.0],\"title\":{\"text\":\"number_of_iterations\"}},\"yaxis\":{\"anchor\":\"x\",\"domain\":[0.0,1.0],\"title\":{\"text\":\"coherence_value\"}},\"legend\":{\"tracegroupgap\":0},\"margin\":{\"t\":60}},                        {\"responsive\": true}                    ).then(function(){\n",
       "                            \n",
       "var gd = document.getElementById('08a834f4-6150-43d1-ad81-514c8737200c');\n",
       "var x = new MutationObserver(function (mutations, observer) {{\n",
       "        var display = window.getComputedStyle(gd).display;\n",
       "        if (!display || display === 'none') {{\n",
       "            console.log([gd, 'removed!']);\n",
       "            Plotly.purge(gd);\n",
       "            observer.disconnect();\n",
       "        }}\n",
       "}});\n",
       "\n",
       "// Listen for the removal of the full notebook cells\n",
       "var notebookContainer = gd.closest('#notebook-container');\n",
       "if (notebookContainer) {{\n",
       "    x.observe(notebookContainer, {childList: true});\n",
       "}}\n",
       "\n",
       "// Listen for the clearing of the current output cell\n",
       "var outputEl = gd.closest('.output');\n",
       "if (outputEl) {{\n",
       "    x.observe(outputEl, {childList: true});\n",
       "}}\n",
       "\n",
       "                        })                };                });            </script>        </div>"
      ]
     },
     "metadata": {},
     "output_type": "display_data"
    }
   ],
   "source": [
    "limit=150; start=10; step=10;\n",
    "x_2 = range(start, limit, step)\n",
    "\n",
    "its_ts = {'coherence_value': coherence_values_its,\n",
    "            'number_of_iterations': x_2}\n",
    "\n",
    "its_track_sheet = pd.DataFrame(data=its_ts)\n",
    "\n",
    "its_fig = px.line(its_track_sheet, x=\"number_of_iterations\", y=\"coherence_value\")\n",
    "its_fig.show()"
   ]
  },
  {
   "cell_type": "markdown",
   "id": "78477218",
   "metadata": {},
   "source": [
    "#  Running LDA Models With Different Values Of Decay"
   ]
  },
  {
   "cell_type": "markdown",
   "id": "bef8dc19",
   "metadata": {},
   "source": [
    "### Decay = 0.5"
   ]
  },
  {
   "cell_type": "code",
   "execution_count": 263,
   "id": "e06e9890",
   "metadata": {},
   "outputs": [],
   "source": [
    "model_2_1 = LdaMulticore(corpus=corpus,\n",
    "                       id2word=id2word,\n",
    "                       num_topics=8,\n",
    "                       random_state=42,\n",
    "                       chunksize=2000,\n",
    "                       passes=20,\n",
    "                       iterations=30,\n",
    "                       decay=0.5)"
   ]
  },
  {
   "cell_type": "code",
   "execution_count": 265,
   "id": "945734df",
   "metadata": {},
   "outputs": [
    {
     "name": "stdout",
     "output_type": "stream",
     "text": [
      "\n",
      "Perplexity:  -6.397354650849029\n",
      "\n",
      "Coherence Score:  0.4824599923684124\n"
     ]
    }
   ],
   "source": [
    "model_2_1_perplexity = model_2_1.log_perplexity(corpus)\n",
    "print('\\nPerplexity: ', model_2_1_perplexity) \n",
    "\n",
    "coherence_model_2_1 = CoherenceModel(model=model_2_1, texts=data_bigrams_trigrams, \n",
    "                                   dictionary=id2word, coherence='c_v')\n",
    "coherence_lda_model_2_1 = coherence_model_2_1.get_coherence()\n",
    "print('\\nCoherence Score: ', coherence_lda_model_2_1)"
   ]
  },
  {
   "cell_type": "code",
   "execution_count": 269,
   "id": "251424c0",
   "metadata": {},
   "outputs": [],
   "source": [
    "model_4_2 = LdaMulticore(corpus=corpus,\n",
    "                       id2word=id2word,\n",
    "                       num_topics=8,\n",
    "                       random_state=42,\n",
    "                       chunksize=2000,\n",
    "                       passes=20,\n",
    "                       iterations=30,\n",
    "                       decay=0.7)"
   ]
  },
  {
   "cell_type": "code",
   "execution_count": 271,
   "id": "2ec9f7b9",
   "metadata": {
    "scrolled": true
   },
   "outputs": [
    {
     "name": "stdout",
     "output_type": "stream",
     "text": [
      "\n",
      "Perplexity:  -6.397683581973082\n",
      "\n",
      "Coherence Score:  0.5005826977541236\n"
     ]
    }
   ],
   "source": [
    "model_4_2_perplexity = model_4_2.log_perplexity(corpus)\n",
    "print('\\nPerplexity: ', model_4_2_perplexity) \n",
    "\n",
    "coherence_model_4_2 = CoherenceModel(model=model_4_2, texts=data_bigrams_trigrams, \n",
    "                                   dictionary=id2word, coherence='c_v')\n",
    "coherence_lda_model_4_2 = coherence_model_4_2.get_coherence()\n",
    "print('\\nCoherence Score: ', coherence_lda_model_4_2)"
   ]
  },
  {
   "cell_type": "code",
   "execution_count": 284,
   "id": "22d14f0e",
   "metadata": {},
   "outputs": [],
   "source": [
    "model_4_3 = LdaMulticore(corpus=corpus,\n",
    "                       id2word=id2word,\n",
    "                       num_topics=8,\n",
    "                       random_state=42,\n",
    "                       chunksize=2000,\n",
    "                       passes=20,\n",
    "                       iterations=30,\n",
    "                       decay=0.9)"
   ]
  },
  {
   "cell_type": "code",
   "execution_count": 286,
   "id": "f572cfc3",
   "metadata": {},
   "outputs": [
    {
     "name": "stdout",
     "output_type": "stream",
     "text": [
      "\n",
      "Perplexity:  -6.402737761538751\n",
      "\n",
      "Coherence Score:  0.501871023626274\n"
     ]
    }
   ],
   "source": [
    "model_4_3_perplexity = model_4_3.log_perplexity(corpus)\n",
    "print('\\nPerplexity: ', model_4_3_perplexity) \n",
    "\n",
    "coherence_model_4_3 = CoherenceModel(model=model_4_3, texts=data_bigrams_trigrams, \n",
    "                                   dictionary=id2word, coherence='c_v')\n",
    "coherence_lda_model_4_3 = coherence_model_4_3.get_coherence()\n",
    "print('\\nCoherence Score: ', coherence_lda_model_4_3)"
   ]
  },
  {
   "cell_type": "markdown",
   "id": "42cda817",
   "metadata": {},
   "source": [
    "### We are getting the highest coherence with decay = 0.9"
   ]
  },
  {
   "cell_type": "markdown",
   "id": "1f53759f",
   "metadata": {},
   "source": [
    "#  Running LDA Models With Different Values Of Alpha"
   ]
  },
  {
   "cell_type": "code",
   "execution_count": 292,
   "id": "557a2902",
   "metadata": {},
   "outputs": [],
   "source": [
    "model_3_1 = LdaMulticore(corpus=corpus,\n",
    "                       id2word=id2word,\n",
    "                       num_topics=8,\n",
    "                       random_state=42,\n",
    "                       chunksize=2000,\n",
    "                       passes=20,\n",
    "                       iterations=30,\n",
    "                       decay=0.9,alpha = 'asymmetric')"
   ]
  },
  {
   "cell_type": "code",
   "execution_count": 294,
   "id": "89a118e6",
   "metadata": {},
   "outputs": [
    {
     "name": "stdout",
     "output_type": "stream",
     "text": [
      "\n",
      "Perplexity:  -6.350832687416609\n",
      "\n",
      "Coherence Score:  0.4229459310150331\n"
     ]
    }
   ],
   "source": [
    "model_3_1_perplexity = model_3_1.log_perplexity(corpus)\n",
    "print('\\nPerplexity: ', model_3_1_perplexity) \n",
    "\n",
    "coherence_model_3_1 = CoherenceModel(model=model_3_1, texts=data_bigrams_trigrams, \n",
    "                                   dictionary=id2word, coherence='c_v')\n",
    "coherence_lda_model_3_1 = coherence_model_3_1.get_coherence()\n",
    "print('\\nCoherence Score: ', coherence_lda_model_3_1)"
   ]
  },
  {
   "cell_type": "code",
   "execution_count": 296,
   "id": "bac8f73c",
   "metadata": {},
   "outputs": [],
   "source": [
    "model_3_2 = LdaMulticore(corpus=corpus,\n",
    "                       id2word=id2word,\n",
    "                       num_topics=8,\n",
    "                       random_state=42,\n",
    "                       chunksize=2000,\n",
    "                       passes=20,\n",
    "                       iterations=30,\n",
    "                       decay=0.9,alpha = 'symmetric')\n"
   ]
  },
  {
   "cell_type": "code",
   "execution_count": 298,
   "id": "09e33d5b",
   "metadata": {},
   "outputs": [
    {
     "name": "stdout",
     "output_type": "stream",
     "text": [
      "\n",
      "Perplexity:  -6.402437916006075\n",
      "\n",
      "Coherence Score:  0.501871023626274\n"
     ]
    }
   ],
   "source": [
    "model_3_2_perplexity = model_3_2.log_perplexity(corpus)\n",
    "print('\\nPerplexity: ', model_3_2_perplexity) \n",
    "\n",
    "coherence_model_3_2 = CoherenceModel(model=model_3_2, texts=data_bigrams_trigrams, \n",
    "                                   dictionary=id2word, coherence='c_v')\n",
    "coherence_lda_model_3_2 = coherence_model_3_2.get_coherence()\n",
    "print('\\nCoherence Score: ', coherence_lda_model_3_2)"
   ]
  },
  {
   "cell_type": "markdown",
   "id": "90258ebd",
   "metadata": {},
   "source": [
    "### Symmetric gives better result"
   ]
  },
  {
   "cell_type": "markdown",
   "id": "295fc962",
   "metadata": {},
   "source": [
    "# Minimum Probability"
   ]
  },
  {
   "cell_type": "code",
   "execution_count": 375,
   "id": "b27593f0",
   "metadata": {},
   "outputs": [],
   "source": [
    "\n",
    "\n",
    "model_4_1 = LdaMulticore(corpus=corpus,\n",
    "                       id2word=id2word,\n",
    "                       num_topics=8,\n",
    "                       random_state=42,\n",
    "                       chunksize=2000,\n",
    "                       passes=20,\n",
    "                       decay=0.9,\n",
    "                       iterations=30,\n",
    "                       alpha = \"symmetric\",\n",
    "                       minimum_probability=0.1)\n",
    "\n",
    "\n"
   ]
  },
  {
   "cell_type": "code",
   "execution_count": 376,
   "id": "faf8d51d",
   "metadata": {},
   "outputs": [
    {
     "name": "stdout",
     "output_type": "stream",
     "text": [
      "\n",
      "Perplexity:  -6.5119233366358795\n",
      "\n",
      "Coherence Score:  0.5173938737057657\n"
     ]
    }
   ],
   "source": [
    "model_4_1_perplexity = model_4_1.log_perplexity(corpus)\n",
    "print('\\nPerplexity: ', model_4_1_perplexity) \n",
    "\n",
    "coherence_model_4_2 = CoherenceModel(model=model_4_1, texts=data_bigrams_trigrams, \n",
    "                                   dictionary=id2word, coherence='c_v')\n",
    "coherence_lda_model_4_2 = coherence_model_4_2.get_coherence()\n",
    "print('\\nCoherence Score: ', coherence_lda_model_4_2)"
   ]
  },
  {
   "cell_type": "code",
   "execution_count": 377,
   "id": "6e7119d9",
   "metadata": {},
   "outputs": [],
   "source": [
    "model_4_3 = LdaMulticore(corpus=corpus,\n",
    "                       id2word=id2word,\n",
    "                       num_topics=8,\n",
    "                       random_state=42,\n",
    "                       chunksize=2000,\n",
    "                       passes=20,\n",
    "                       decay=0.9,\n",
    "                       iterations=30,\n",
    "                       alpha = \"symmetric\",\n",
    "                       minimum_probability=0.7)"
   ]
  },
  {
   "cell_type": "code",
   "execution_count": 378,
   "id": "ae09f14f",
   "metadata": {},
   "outputs": [
    {
     "name": "stdout",
     "output_type": "stream",
     "text": [
      "\n",
      "Perplexity:  -6.511739818375075\n",
      "\n",
      "Coherence Score:  0.5197734587137116\n"
     ]
    }
   ],
   "source": [
    "# Compute Perplexity\n",
    "# a measure of how good the model is. lower the better\n",
    "model_4_3_perplexity = model_4_3.log_perplexity(corpus)\n",
    "print('\\nPerplexity: ', model_4_3_perplexity) \n",
    "\n",
    "# Compute Coherence Score\n",
    "coherence_model_4_3 = CoherenceModel(model=model_4_3, texts=data_bigrams_trigrams, \n",
    "                                   dictionary=id2word, coherence='c_v')\n",
    "coherence_lda_model_4_3 = coherence_model_4_3.get_coherence()\n",
    "print('\\nCoherence Score: ', coherence_lda_model_4_3)"
   ]
  },
  {
   "cell_type": "markdown",
   "id": "1b95bc5c",
   "metadata": {},
   "source": [
    "### Minumum Probability does not show an impact"
   ]
  },
  {
   "cell_type": "code",
   "execution_count": 317,
   "id": "9bc4557e",
   "metadata": {},
   "outputs": [
    {
     "name": "stderr",
     "output_type": "stream",
     "text": [
      "/Users/ayushtripathi/opt/anaconda3/lib/python3.9/site-packages/pyLDAvis/_prepare.py:246: FutureWarning:\n",
      "\n",
      "In a future version of pandas all arguments of DataFrame.drop except for the argument 'labels' will be keyword-only\n",
      "\n"
     ]
    },
    {
     "data": {
      "text/html": [
       "\n",
       "<link rel=\"stylesheet\" type=\"text/css\" href=\"https://cdn.jsdelivr.net/gh/bmabey/pyLDAvis@3.3.1/pyLDAvis/js/ldavis.v1.0.0.css\">\n",
       "\n",
       "\n",
       "<div id=\"ldavis_el501141404599333489127241295855\"></div>\n",
       "<script type=\"text/javascript\">\n",
       "\n",
       "var ldavis_el501141404599333489127241295855_data = {\"mdsDat\": {\"x\": [-0.06847094138474744, -0.16786805400786267, 0.046943807549566285, 0.18210522043295532, -0.1485260450542105, 0.1225097046610301, 0.09379101408783908, -0.06048470628457017], \"y\": [0.16032215331315866, 0.06484427484921097, -0.02348467844263428, 0.018205546133336106, -0.05159133519984277, -0.1552627876618628, 0.1627703107286134, -0.17580348371997925], \"topics\": [1, 2, 3, 4, 5, 6, 7, 8], \"cluster\": [1, 1, 1, 1, 1, 1, 1, 1], \"Freq\": [19.00167558108172, 16.776887561948524, 13.596858986310023, 13.345966569737827, 12.466813500005879, 10.185365637585818, 8.68726065384294, 5.93917150948727]}, \"tinfo\": {\"Term\": [\"co2\", \"history\", \"model\", \"point\", \"science\", \"warming\", \"datum\", \"forget\", \"think\", \"carbon\", \"good\", \"support\", \"earth\", \"scientist\", \"talk\", \"atmosphere\", \"degree\", \"proof\", \"stupid\", \"paper\", \"fact\", \"read\", \"year\", \"meet\", \"warm\", \"heat\", \"brain\", \"build\", \"change\", \"f\", \"create\", \"dioxide\", \"atmosphere\", \"modeling\", \"prove\", \"public\", \"news\", \"rely\", \"warming\", \"carbon\", \"fossil\", \"low\", \"check\", \"long\", \"ocean\", \"today\", \"day\", \"deep\", \"add\", \"claim\", \"fact\", \"explain\", \"global\", \"fake\", \"level\", \"high\", \"fear\", \"bear\", \"crisis\", \"ipcc\", \"climate\", \"model\", \"change\", \"scientist\", \"theory\", \"science\", \"co2\", \"million\", \"datum\", \"year\", \"time\", \"shut\", \"money\", \"leftist\", \"break\", \"believe\", \"guess\", \"ask\", \"fuck\", \"ring\", \"represent\", \"denial\", \"head\", \"stop\", \"continue\", \"stick\", \"ass\", \"power\", \"mann\", \"real\", \"man\", \"michael\", \"truth\", \"action\", \"liberal\", \"dr\", \"large\", \"wind\", \"professor\", \"laugh\", \"yeah\", \"change\", \"emission\", \"gerald\", \"bad\", \"thing\", \"scientist\", \"climate\", \"year\", \"time\", \"global\", \"ago\", \"oil\", \"carbon\", \"good\", \"wrong\", \"idiot\", \"think\", \"island\", \"burn\", \"hell\", \"thinking\", \"imagine\", \"heat\", \"$\", \"tweet\", \"simply\", \"peer\", \"review\", \"spend\", \"control\", \"know\", \"work\", \"main\", \"enjoy\", \"interested\", \"goal\", \"m\", \"area\", \"yr\", \"greenhouse\", \"fight\", \"polar\", \"bet\", \"tire\", \"impact\", \"model\", \"talk\", \"world\", \"climate\", \"time\", \"ice\", \"science\", \"warming\", \"temperature\", \"gerald\", \"scientist\", \"year\", \"co2\", \"change\", \"propaganda\", \"topic\", \"coal\", \"utter\", \"literally\", \"moment\", \"analysis\", \"bury\", \"weather\", \"celebrateco2\", \"snow\", \"word\", \"stupidity\", \"country\", \"lie\", \"gas\", \"warm\", \"hope\", \"natural\", \"denier\", \"crisis\", \"event\", \"dumb\", \"1\", \"nature\", \"80\", \"record\", \"rt\", \"idiotic\", \"disappear\", \"history\", \"earth\", \"10\", \"evidence\", \"theory\", \"climate\", \"real\", \"oil\", \"temperature\", \"datum\", \"co2\", \"science\", \"gerald\", \"emission\", \"assume\", \"surgeon\", \"emit\", \"lot\", \"opposite\", \"answer\", \"challenge\", \"debate\", \"modeler\", \"clue\", \"mental\", \"sea\", \"title\", \"brain\", \"greta\", \"problem\", \"proof\", \"number\", \"natural\", \"coalition\", \"input\", \"attempt\", \"net\", \"demand\", \"solar\", \"sick\", \"produce\", \"4\", \"start\", \"corruption\", \"science\", \"datum\", \"evidence\", \"co2\", \"level\", \"stop\", \"emission\", \"wrong\", \"change\", \"climate\", \"time\", \"year\", \"global\", \"gerald\", \"sign\", \"asshole\", \"induce\", \"design\", \"false\", \"20\", \"build\", \"end\", \"car\", \"narrative\", \"support\", \"grow\", \"live\", \"15\", \"fear\", \"come\", \"share\", \"market\", \"energy\", \"start\", \"good\", \"sick\", \"rt\", \"political\", \"catastrophe\", \"solar\", \"begin\", \"idiotic\", \"critical\", \"push\", \"impact\", \"world\", \"scientist\", \"model\", \"wrong\", \"people\", \"year\", \"history\", \"10\", \"climate\", \"datum\", \"fact\", \"million\", \"change\", \"gas\", \"hot\", \"shit\", \"fn\", \"degree\", \"invest\", \"risk\", \"big\", \"tax\", \"co\", \"market\", \"energy\", \"share\", \"80\", \"demand\", \"net\", \"record\", \"nature\", \"dumb\", \"tire\", \"bet\", \"polar\", \"fight\", \"greenhouse\", \"morning\", \"mission\", \"small\", \"food\", \"response\", \"sensitivity\", \"ppl\", \"avoid\", \"support\", \"warm\", \"year\", \"cause\", \"ice\", \"good\", \"co2\", \"fact\", \"gerald\", \"gore\", \"al\", \"climate\", \"grow\", \"gas\", \"man\", \"drive\", \"increase\", \"economy\", \"project\", \"point\", \"f\", \"meet\", \"forget\", \"stupid\", \"paper\", \"co\", \"come\", \"input\", \"coalition\", \"goal\", \"enjoy\", \"main\", \"interested\", \"laugh\", \"wind\", \"large\", \"professor\", \"yeah\", \"observation\", \"complex\", \"ppm\", \"read\", \"talk\", \"history\", \"close\", \"understand\", \"climatechange\", \"sit\", \"agree\", \"earth\", \"co2\", \"science\", \"predict\", \"climate\", \"hope\", \"world\", \"michael\", \"real\", \"temperature\", \"leave\", \"atmosphere\", \"ocean\"], \"Freq\": [21.0, 6.0, 16.0, 3.0, 19.0, 8.0, 11.0, 3.0, 5.0, 11.0, 8.0, 5.0, 6.0, 15.0, 4.0, 5.0, 3.0, 7.0, 3.0, 3.0, 10.0, 4.0, 16.0, 2.0, 5.0, 4.0, 4.0, 3.0, 23.0, 2.0, 2.6039107498116567, 2.4858974097522335, 4.1517893237667405, 1.7731208007421861, 4.154625372211485, 1.773002085067065, 1.7343640371914653, 1.6777092729390355, 5.889039883369684, 7.471130300462841, 2.6062081074903607, 2.61188473119301, 2.4026468259924565, 4.28180709330453, 1.7760308625820969, 1.776075451691723, 1.7727359084532563, 1.7752391229604116, 1.7685849339558584, 1.768915617657197, 5.482259094767456, 1.6777104046423255, 5.678825091889201, 2.6037581962081644, 2.5897583474888672, 1.7403068375079231, 1.7759274249013908, 1.7726951671348163, 1.776042632296313, 1.7628048725725027, 13.442956542902744, 5.075725470163765, 6.625416127426799, 4.747788639050705, 2.0323777279542434, 4.90045314946538, 4.25095550357513, 2.286926543139235, 2.611727877117016, 2.105171599655061, 1.7834689824556345, 2.51957228430901, 2.5145037464976583, 1.7133016713265916, 1.7131272111480123, 1.7076176268141812, 1.7031330210094842, 1.689572888801573, 3.3263079245944684, 1.6070427327420145, 1.5936475683203777, 2.519610453718069, 2.5195922682928105, 3.3757345115683806, 1.7060189081101316, 1.713372214789408, 1.708700958576013, 1.7050572788096459, 2.5195558974422934, 2.534444964572945, 2.4912280008854, 1.7132313277036135, 1.7106755760153523, 1.707869824689745, 0.9986643187045908, 1.2972342293184063, 0.9069939880542235, 0.9069747035098559, 0.903016675678305, 0.9026162965628596, 0.9027129191245356, 8.920741655725022, 4.113522809823805, 4.216306433705535, 1.7086016381765239, 1.7189721267300178, 4.4828739926610375, 10.892222408966967, 4.113764216348116, 2.820753102406376, 2.7493129582370526, 1.713373813508112, 1.713407786280573, 1.7133814074219562, 1.713059865122604, 1.708353636937558, 2.5108858921061588, 4.118060690844128, 1.707417047866772, 1.7074110553260684, 1.7073940494673145, 1.707352263642948, 1.6961852450218085, 3.3144826851875977, 2.4875256727585042, 2.445621941104526, 1.6991719597006643, 1.7074512215448394, 1.7074470105702908, 1.7074257937369883, 1.7074006898502565, 1.707490416000253, 1.7074627207445683, 0.9038919223329384, 0.9038877113583897, 0.9038839862655199, 0.9038647129589322, 0.9218590979880662, 0.9196508467387381, 0.9173548128661281, 0.9039122483831632, 0.9038969431102847, 0.9038729729474697, 0.9038711913813146, 0.9038482739621367, 0.9039139489690385, 5.725467741024508, 1.6972710286131023, 1.6734354550231378, 8.041059970806977, 2.5109864696136457, 1.7127826392444532, 2.5124219260530305, 1.7073878949660513, 1.7273999036659107, 1.6230582708140713, 1.7019801938428845, 1.622518456269056, 1.7072714453237272, 1.7070262370365525, 2.478294709498503, 2.473608850074823, 2.4684335157846244, 1.6862682583459452, 1.6862502945070634, 1.6862432997379413, 1.6762398260612388, 1.6758158476692264, 2.4588322413324404, 1.685190904929122, 1.6768000434791057, 1.685195674089887, 1.6862844734925462, 1.6833345885873419, 1.6862107104727135, 2.4680578648883644, 2.468865601749937, 1.6836771733022975, 1.6736579613950702, 1.6737205963731177, 1.6849570570796093, 1.673150681661695, 0.8957688924703539, 0.8926841992875242, 0.8927430189369597, 0.8899400241833186, 0.8849729432465266, 0.8926892863923402, 0.8926971555076025, 0.8926970760215899, 2.4796758584560594, 2.470088732514145, 1.4003467372999763, 1.6862334434723603, 1.6832047084425072, 11.642610067899925, 1.6605922095911336, 1.6745356459478635, 2.333096497202599, 2.5575196901833417, 3.2754627928718536, 2.4684279517637315, 1.688932311549298, 1.684065382988572, 1.6847340957302481, 1.6846778142711971, 1.6792946931878194, 1.6091763112041737, 1.4999827071506675, 2.4776538723219512, 2.477648674825733, 2.451346522462511, 1.6848135431724443, 1.68198031373383, 1.6817640978911432, 1.6846203448130104, 1.6812015803004168, 2.474296438264735, 1.6766883715841128, 2.4499120135062236, 3.988202792284911, 1.69563220580106, 1.6846778142711971, 0.8918892373340365, 0.8918887918343605, 0.8918896085837663, 0.8919276245561069, 0.8918936923307951, 0.8918216698831968, 0.888840905801925, 0.9024880458726124, 0.9001389260817724, 0.88521394444081, 0.8918861930862513, 7.15919582915089, 3.949456794475515, 1.6847817641955658, 6.403466217000568, 1.6847903771892991, 1.620956065133524, 2.4845816892814474, 1.6846800417695764, 3.270793874253424, 4.852190310669529, 1.6847508762180392, 2.039626859519284, 1.6847029107529377, 1.6849209085943277, 1.6351457824182358, 1.6350932490562284, 1.6336989917902045, 1.6333909497436996, 1.6311629528386125, 1.5970047417384827, 2.4027177715088377, 1.6351472383081758, 1.6282600296221006, 1.640023499014409, 2.4019517307519913, 1.6240475334044175, 1.6317735773443467, 1.632133788780374, 1.6341612368462044, 0.865771158933396, 0.8658234496470799, 0.8656526858895156, 0.8656523219170306, 0.8721559036038744, 3.1739526583647133, 0.8655686689075524, 0.865680590446702, 0.8656619065258033, 0.8656563862764468, 0.8629915617272317, 0.8625077816325336, 0.8621004964217746, 0.8656683973684531, 0.8656621491741266, 0.8656506840408479, 1.6315297157793702, 3.154571608833017, 3.171767852861184, 1.633893959718024, 1.634761912770681, 2.765986333762069, 1.6280407968619452, 1.1360249754207332, 4.88285443177212, 1.6351139954878757, 1.2901067820781975, 1.1649421040604586, 1.0156493866990606, 0.8725133852462639, 1.577953526433193, 1.5778997171915925, 1.5763739147542841, 2.3078065576066793, 1.578025548033489, 1.4800958326997788, 1.5781397891925795, 1.578119403768358, 0.833202009751894, 0.8353850092919047, 0.8353847505936277, 0.8348274627654741, 0.8379747860025536, 0.8353920976246925, 0.8353460493313997, 0.8353933911160771, 0.8353382366434365, 0.8324963325920958, 0.8354202957368774, 0.8354066882075111, 0.8354049807988834, 0.8353688665194245, 0.8353708326263292, 0.8354408363800653, 0.8353741957039292, 0.835378593574637, 0.8354101547644218, 0.8352952409898114, 0.8288017590200075, 0.8335509937274669, 0.8428402797156633, 1.5778950606226076, 1.5791110460034699, 3.0635370739417436, 1.5761988277604606, 1.5805358526334663, 1.5780523491749787, 2.3185023861265215, 1.5811819774499163, 1.5757779774035576, 0.8406055922599228, 0.8402667492568054, 0.8389254504306005, 0.8383339626902373, 0.8378498864744538, 0.8355424013235864, 0.8354581174249639, 0.8354462690438808, 0.8354273840696651, 0.8354217444472282, 2.6964698289631452, 1.4877622778453152, 1.4878795732689558, 1.8618271466633216, 1.4877611459232536, 1.4878729232268435, 0.7876504426936292, 0.787474570303297, 0.7876517868510774, 0.7876511501449177, 0.7876671385440389, 0.787649593752083, 0.7876482495946348, 0.7876435804161304, 0.7876488155556656, 0.787674354547182, 0.7876566682649684, 0.7876423777489397, 0.7875177248318982, 0.7876589321090918, 0.7876653699158175, 0.7504519464906607, 1.48796022271585, 1.4879375842746165, 2.154093384714121, 0.7951311741089585, 0.787708382954161, 0.7876952243601941, 0.7877460193627116, 0.7878222826116167, 1.4743901750795012, 2.823182561176447, 0.8515828156394131, 0.7954084242689392, 0.7930273554670842, 0.7877547210135607, 0.7877267059425344, 0.7877124861716346, 0.7876907674170762, 0.7876847540811236, 0.7876626108557921, 0.7876619741496325, 0.7876619741496325], \"Total\": [21.0, 6.0, 16.0, 3.0, 19.0, 8.0, 11.0, 3.0, 5.0, 11.0, 8.0, 5.0, 6.0, 15.0, 4.0, 5.0, 3.0, 7.0, 3.0, 3.0, 10.0, 4.0, 16.0, 2.0, 5.0, 4.0, 4.0, 3.0, 23.0, 2.0, 3.287046803082465, 3.2779260939979533, 5.650246969779346, 2.4516410893431493, 5.7453920551855235, 2.4519648299920864, 2.4504907421151545, 2.4486218731159486, 8.93465513300428, 11.44010964304656, 4.079965082492797, 4.094172490729405, 4.06792680089914, 7.374087304589673, 3.1522349123505835, 3.1946782188513656, 3.1941356990974112, 3.221920486984771, 3.244783842294023, 3.25516424568391, 10.444786403236874, 3.2520959183561717, 11.417716313482966, 5.679773317794038, 5.675286135617636, 3.891937213827901, 3.9911138858246082, 3.9979588052311903, 4.039223643001076, 4.013741130864618, 55.38584653891594, 16.0321657202999, 23.406096493165254, 15.291519963982347, 4.85162826501456, 19.204825348065935, 21.926151457547324, 7.219403718077411, 11.172293367013276, 16.543444326465117, 10.377694006440473, 3.199336627416507, 3.1992593902124242, 2.3930544273679653, 2.3930366652858033, 2.392606577151468, 2.39265165309415, 2.392669513743465, 4.799138355992326, 2.3969031825510836, 2.392602513602712, 3.992145290638765, 3.992199923857351, 5.590358730244781, 3.162405377305243, 3.1865698224444796, 3.186743100932612, 3.228846888204387, 4.870701147438939, 5.486657736263423, 5.514604368886112, 3.9287763111372023, 3.979080427024694, 3.9792952048648234, 2.3905440659532013, 3.2440612703435727, 2.286885098999502, 2.286881757091912, 2.2870312511348945, 2.2865384629499674, 2.2870472690007255, 23.406096493165254, 11.1836339955063, 11.777302462417108, 4.732787595914742, 4.8065172209288765, 15.291519963982347, 55.38584653891594, 16.543444326465117, 10.377694006440473, 11.417716313482966, 5.594618382969072, 5.6084723636444345, 11.44010964304656, 8.553146415756668, 6.260057699490071, 3.191012045953, 5.633803425545191, 2.3875126425861817, 2.3875108068569477, 2.3875063697258945, 2.3874948304244787, 2.3878393350393288, 4.800758716808267, 3.985047201988518, 3.933802934961869, 3.1572422382930387, 3.180318197295264, 3.180317860475955, 3.1808607631139303, 3.1937470456137014, 3.963224644589289, 4.028049684112631, 2.2841193813958545, 2.284118025357455, 2.2841149473808007, 2.284114782027141, 2.3543253673063025, 2.354170522842152, 2.354090753877062, 2.3265573779594124, 2.3265507340755263, 2.326553874799584, 2.3265536556570816, 2.3265488680467885, 2.353472959948122, 16.0321657202999, 4.5803868511266765, 5.43308737332077, 55.38584653891594, 10.377694006440473, 7.034828001961734, 19.204825348065935, 8.93465513300428, 9.481473232033501, 11.777302462417108, 15.291519963982347, 16.543444326465117, 21.926151457547324, 23.406096493165254, 3.1611941317157473, 3.160978025644133, 3.16094327551913, 2.367611818336704, 2.3676064670577066, 2.3676057475657184, 2.3677714247681685, 2.367486123878439, 3.996855523078769, 3.109748647335912, 3.137238665808002, 3.1604318066599877, 3.1714303346856236, 3.173663479149651, 3.203363486649325, 5.476350756606606, 5.480538262517903, 3.903298403982876, 3.9529389873283862, 3.9775304791034576, 4.039223643001076, 4.038782684722993, 2.316794003987859, 2.316089544177429, 2.316607151292233, 2.316430841833406, 2.3166910242841645, 2.343522149810502, 2.343693683926979, 2.3438173813425465, 6.8062443651717714, 6.902069350525606, 3.8288408257747113, 4.756729298876574, 4.85162826501456, 55.38584653891594, 5.486657736263423, 5.6084723636444345, 9.481473232033501, 11.172293367013276, 21.926151457547324, 19.204825348065935, 11.777302462417108, 11.1836339955063, 2.3661694991330102, 2.36615616159361, 2.366009257772749, 2.367117893165784, 2.3545600922046432, 3.962480615291984, 3.9947731126876453, 3.9950844191182138, 3.15969395993207, 3.1591424412874383, 3.159734207436626, 3.169631873957463, 3.1696857162014127, 4.665580372931098, 3.201854039130748, 4.7660472143910875, 7.995933865105497, 3.9657465201777464, 3.9529389873283862, 2.273451236241323, 2.2734513858599423, 2.3154737456926364, 2.3158868444262293, 2.31589004481447, 2.3429262669307667, 2.342838064758682, 2.3793930629075133, 2.3794322279625835, 2.3426089316573586, 2.36685642833355, 19.204825348065935, 11.172293367013276, 4.756729298876574, 21.926151457547324, 5.675286135617636, 5.590358730244781, 11.1836339955063, 6.260057699490071, 23.406096493165254, 55.38584653891594, 10.377694006440473, 16.543444326465117, 11.417716313482966, 11.777302462417108, 2.3194998245625142, 2.3194867217887083, 2.3195466429662464, 2.3195560911294515, 2.31983408593153, 2.320671653315162, 3.892534714815869, 3.0620583429856265, 3.062391678710389, 3.122760774378358, 5.377746837217225, 3.8559050229436953, 3.9167545509380877, 3.9616512984197096, 3.9911138858246082, 2.250118701943106, 2.2925280746382812, 2.2925589564154705, 2.292558716692857, 2.3426089316573586, 8.553146415756668, 2.342838064758682, 2.343522149810502, 2.3435486993383305, 2.343538939654937, 2.3429262669307667, 2.3437525678417765, 2.343693683926979, 2.3534694345081544, 2.353473892976824, 2.353472959948122, 5.43308737332077, 15.291519963982347, 16.0321657202999, 6.260057699490071, 6.313889569817651, 16.543444326465117, 6.8062443651717714, 3.8288408257747113, 55.38584653891594, 11.172293367013276, 10.444786403236874, 7.219403718077411, 23.406096493165254, 5.476350756606606, 2.2656669789897554, 2.2656586767671514, 2.265775074256232, 3.810984159534555, 3.071827492438191, 3.1033410078069457, 3.8647149437768666, 3.9063288493767248, 2.223352947379094, 2.2925589564154705, 2.292558716692857, 2.2925280746382812, 2.316430841833406, 2.31589004481447, 2.3158868444262293, 2.3166910242841645, 2.316607151292233, 2.316794003987859, 2.3265488680467885, 2.3265536556570816, 2.326553874799584, 2.3265507340755263, 2.3265573779594124, 2.3293134794134427, 2.329238167701658, 2.329323806669246, 2.3294846057049656, 2.3292971653085854, 2.3152831631371393, 2.3294488067278287, 2.357917255253024, 5.377746837217225, 5.480538262517903, 16.543444326465117, 6.3003017452370385, 7.034828001961734, 8.553146415756668, 21.926151457547324, 10.444786403236874, 11.777302462417108, 3.1644686499864445, 3.1644986514116273, 55.38584653891594, 3.8559050229436953, 5.476350756606606, 5.514604368886112, 3.1221163478146425, 3.1522043148684156, 3.164644190698142, 2.3588418312329673, 3.6171989400763342, 2.180785293053238, 2.9742919840057787, 3.745574038883314, 3.7266457755510745, 3.7906322083900275, 2.223352947379094, 2.250118701943106, 2.2734513858599423, 2.273451236241323, 2.284114782027141, 2.284118025357455, 2.2841193813958545, 2.2841149473808007, 2.2865384629499674, 2.286881757091912, 2.286885098999502, 2.2870312511348945, 2.2870472690007255, 2.3151521787905924, 2.3164125531800437, 2.2623732485367896, 4.572864164149809, 4.5803868511266765, 6.8062443651717714, 3.016269676652273, 3.02943482093277, 3.029435522885669, 3.053699741029491, 3.066936109790624, 6.902069350525606, 21.926151457547324, 19.204825348065935, 3.852014543967696, 55.38584653891594, 3.903298403982876, 5.43308737332077, 3.9287763111372023, 5.486657736263423, 9.481473232033501, 3.0857006869000565, 5.650246969779346, 3.1522349123505835], \"Category\": [\"Default\", \"Default\", \"Default\", \"Default\", \"Default\", \"Default\", \"Default\", \"Default\", \"Default\", \"Default\", \"Default\", \"Default\", \"Default\", \"Default\", \"Default\", \"Default\", \"Default\", \"Default\", \"Default\", \"Default\", \"Default\", \"Default\", \"Default\", \"Default\", \"Default\", \"Default\", \"Default\", \"Default\", \"Default\", \"Default\", \"Topic1\", \"Topic1\", \"Topic1\", \"Topic1\", \"Topic1\", \"Topic1\", \"Topic1\", \"Topic1\", \"Topic1\", \"Topic1\", \"Topic1\", \"Topic1\", \"Topic1\", \"Topic1\", \"Topic1\", \"Topic1\", \"Topic1\", \"Topic1\", \"Topic1\", \"Topic1\", \"Topic1\", \"Topic1\", \"Topic1\", \"Topic1\", \"Topic1\", \"Topic1\", \"Topic1\", \"Topic1\", \"Topic1\", \"Topic1\", \"Topic1\", \"Topic1\", \"Topic1\", \"Topic1\", \"Topic1\", \"Topic1\", \"Topic1\", \"Topic1\", \"Topic1\", \"Topic1\", \"Topic1\", \"Topic2\", \"Topic2\", \"Topic2\", \"Topic2\", \"Topic2\", \"Topic2\", \"Topic2\", \"Topic2\", \"Topic2\", \"Topic2\", \"Topic2\", \"Topic2\", \"Topic2\", \"Topic2\", \"Topic2\", \"Topic2\", \"Topic2\", \"Topic2\", \"Topic2\", \"Topic2\", \"Topic2\", \"Topic2\", \"Topic2\", \"Topic2\", \"Topic2\", \"Topic2\", \"Topic2\", \"Topic2\", \"Topic2\", \"Topic2\", \"Topic2\", \"Topic2\", \"Topic2\", \"Topic2\", \"Topic2\", \"Topic2\", \"Topic2\", \"Topic2\", \"Topic2\", \"Topic2\", \"Topic2\", \"Topic2\", \"Topic2\", \"Topic2\", \"Topic2\", \"Topic3\", \"Topic3\", \"Topic3\", \"Topic3\", \"Topic3\", \"Topic3\", \"Topic3\", \"Topic3\", \"Topic3\", \"Topic3\", \"Topic3\", \"Topic3\", \"Topic3\", \"Topic3\", \"Topic3\", \"Topic3\", \"Topic3\", \"Topic3\", \"Topic3\", \"Topic3\", \"Topic3\", \"Topic3\", \"Topic3\", \"Topic3\", \"Topic3\", \"Topic3\", \"Topic3\", \"Topic3\", \"Topic3\", \"Topic3\", \"Topic3\", \"Topic3\", \"Topic3\", \"Topic3\", \"Topic3\", \"Topic3\", \"Topic3\", \"Topic3\", \"Topic3\", \"Topic3\", \"Topic3\", \"Topic3\", \"Topic3\", \"Topic3\", \"Topic4\", \"Topic4\", \"Topic4\", \"Topic4\", \"Topic4\", \"Topic4\", \"Topic4\", \"Topic4\", \"Topic4\", \"Topic4\", \"Topic4\", \"Topic4\", \"Topic4\", \"Topic4\", \"Topic4\", \"Topic4\", \"Topic4\", \"Topic4\", \"Topic4\", \"Topic4\", \"Topic4\", \"Topic4\", \"Topic4\", \"Topic4\", \"Topic4\", \"Topic4\", \"Topic4\", \"Topic4\", \"Topic4\", \"Topic4\", \"Topic4\", \"Topic4\", \"Topic4\", \"Topic4\", \"Topic4\", \"Topic4\", \"Topic4\", \"Topic4\", \"Topic4\", \"Topic4\", \"Topic4\", \"Topic4\", \"Topic4\", \"Topic4\", \"Topic5\", \"Topic5\", \"Topic5\", \"Topic5\", \"Topic5\", \"Topic5\", \"Topic5\", \"Topic5\", \"Topic5\", \"Topic5\", \"Topic5\", \"Topic5\", \"Topic5\", \"Topic5\", \"Topic5\", \"Topic5\", \"Topic5\", \"Topic5\", \"Topic5\", \"Topic5\", \"Topic5\", \"Topic5\", \"Topic5\", \"Topic5\", \"Topic5\", \"Topic5\", \"Topic5\", \"Topic5\", \"Topic5\", \"Topic5\", \"Topic5\", \"Topic5\", \"Topic5\", \"Topic5\", \"Topic5\", \"Topic5\", \"Topic5\", \"Topic5\", \"Topic5\", \"Topic5\", \"Topic5\", \"Topic5\", \"Topic5\", \"Topic5\", \"Topic6\", \"Topic6\", \"Topic6\", \"Topic6\", \"Topic6\", \"Topic6\", \"Topic6\", \"Topic6\", \"Topic6\", \"Topic6\", \"Topic6\", \"Topic6\", \"Topic6\", \"Topic6\", \"Topic6\", \"Topic6\", \"Topic6\", \"Topic6\", \"Topic6\", \"Topic6\", \"Topic6\", \"Topic6\", \"Topic6\", \"Topic6\", \"Topic6\", \"Topic6\", \"Topic6\", \"Topic6\", \"Topic6\", \"Topic6\", \"Topic6\", \"Topic6\", \"Topic6\", \"Topic6\", \"Topic6\", \"Topic6\", \"Topic6\", \"Topic6\", \"Topic6\", \"Topic6\", \"Topic6\", \"Topic6\", \"Topic6\", \"Topic6\", \"Topic6\", \"Topic7\", \"Topic7\", \"Topic7\", \"Topic7\", \"Topic7\", \"Topic7\", \"Topic7\", \"Topic7\", \"Topic7\", \"Topic7\", \"Topic7\", \"Topic7\", \"Topic7\", \"Topic7\", \"Topic7\", \"Topic7\", \"Topic7\", \"Topic7\", \"Topic7\", \"Topic7\", \"Topic7\", \"Topic7\", \"Topic7\", \"Topic7\", \"Topic7\", \"Topic7\", \"Topic7\", \"Topic7\", \"Topic7\", \"Topic7\", \"Topic7\", \"Topic7\", \"Topic7\", \"Topic7\", \"Topic7\", \"Topic7\", \"Topic7\", \"Topic7\", \"Topic7\", \"Topic7\", \"Topic7\", \"Topic7\", \"Topic7\", \"Topic7\", \"Topic7\", \"Topic7\", \"Topic7\", \"Topic7\", \"Topic7\", \"Topic7\", \"Topic8\", \"Topic8\", \"Topic8\", \"Topic8\", \"Topic8\", \"Topic8\", \"Topic8\", \"Topic8\", \"Topic8\", \"Topic8\", \"Topic8\", \"Topic8\", \"Topic8\", \"Topic8\", \"Topic8\", \"Topic8\", \"Topic8\", \"Topic8\", \"Topic8\", \"Topic8\", \"Topic8\", \"Topic8\", \"Topic8\", \"Topic8\", \"Topic8\", \"Topic8\", \"Topic8\", \"Topic8\", \"Topic8\", \"Topic8\", \"Topic8\", \"Topic8\", \"Topic8\", \"Topic8\", \"Topic8\", \"Topic8\", \"Topic8\", \"Topic8\", \"Topic8\", \"Topic8\", \"Topic8\", \"Topic8\", \"Topic8\"], \"logprob\": [30.0, 29.0, 28.0, 27.0, 26.0, 25.0, 24.0, 23.0, 22.0, 21.0, 20.0, 19.0, 18.0, 17.0, 16.0, 15.0, 14.0, 13.0, 12.0, 11.0, 10.0, 9.0, 8.0, 7.0, 6.0, 5.0, 4.0, 3.0, 2.0, 1.0, -4.5362, -4.5826, -4.0697, -4.9204, -4.069, -4.9205, -4.9425, -4.9758, -3.7201, -3.4821, -4.5353, -4.5331, -4.6166, -4.0388, -4.9188, -4.9188, -4.9207, -4.9193, -4.923, -4.9228, -3.7917, -4.9758, -3.7564, -4.5362, -4.5416, -4.9391, -4.9189, -4.9207, -4.9188, -4.9263, -2.8947, -3.8687, -3.6023, -3.9355, -4.784, -3.9039, -4.046, -4.666, -4.5332, -4.7488, -4.9146, -4.4446, -4.4466, -4.8302, -4.8303, -4.8336, -4.8362, -4.8442, -4.1668, -4.8943, -4.9026, -4.4446, -4.4446, -4.1521, -4.8345, -4.8302, -4.8329, -4.8351, -4.4446, -4.4387, -4.4559, -4.8303, -4.8318, -4.8334, -5.37, -5.1084, -5.4663, -5.4663, -5.4707, -5.4711, -5.471, -3.1803, -3.9544, -3.9297, -4.833, -4.8269, -3.8684, -2.9806, -3.9543, -4.3317, -4.3573, -4.8302, -4.8302, -4.8302, -4.8304, -4.8331, -4.2379, -3.7431, -4.6235, -4.6235, -4.6235, -4.6236, -4.6301, -3.9602, -4.2472, -4.2642, -4.6284, -4.6235, -4.6235, -4.6235, -4.6235, -4.6235, -4.6235, -5.2595, -5.2596, -5.2596, -5.2596, -5.2399, -5.2423, -5.2448, -5.2595, -5.2595, -5.2596, -5.2596, -5.2596, -5.2595, -3.4136, -4.6295, -4.6436, -3.0739, -4.2378, -4.6204, -4.2373, -4.6235, -4.6119, -4.6742, -4.6267, -4.6745, -4.6236, -4.6237, -4.2323, -4.2342, -4.2363, -4.6174, -4.6174, -4.6174, -4.6233, -4.6236, -4.2402, -4.618, -4.623, -4.618, -4.6174, -4.6191, -4.6174, -4.2364, -4.2361, -4.6189, -4.6249, -4.6248, -4.6181, -4.6252, -5.25, -5.2534, -5.2533, -5.2565, -5.2621, -5.2534, -5.2534, -5.2534, -4.2317, -4.2356, -4.8032, -4.6174, -4.6192, -2.6852, -4.6327, -4.6243, -4.2927, -4.2008, -3.9534, -4.2363, -4.6158, -4.6187, -4.5501, -4.5502, -4.5534, -4.596, -4.6663, -4.1644, -4.1644, -4.1751, -4.5501, -4.5518, -4.5519, -4.5502, -4.5522, -4.1658, -4.5549, -4.1757, -3.6884, -4.5437, -4.5502, -5.1861, -5.1861, -5.1861, -5.1861, -5.1861, -5.1862, -5.1896, -5.1743, -5.1769, -5.1937, -5.1862, -3.1033, -3.6982, -4.5501, -3.2149, -4.5501, -4.5887, -4.1616, -4.5502, -3.8867, -3.4923, -4.5501, -4.359, -4.5501, -4.55, -4.3779, -4.3779, -4.3788, -4.379, -4.3803, -4.4015, -3.993, -4.3779, -4.3821, -4.3749, -3.9933, -4.3847, -4.3799, -4.3797, -4.3785, -5.0138, -5.0137, -5.0139, -5.0139, -5.0064, -3.7146, -5.014, -5.0139, -5.0139, -5.0139, -5.017, -5.0175, -5.018, -5.0139, -5.0139, -5.0139, -4.3801, -3.7208, -3.7153, -4.3786, -4.3781, -3.8522, -4.3822, -4.7421, -3.2839, -4.3779, -4.6149, -4.7169, -4.8541, -5.006, -4.2544, -4.2544, -4.2554, -3.8742, -4.2543, -4.3184, -4.2543, -4.2543, -4.893, -4.8904, -4.8904, -4.8911, -4.8873, -4.8904, -4.8904, -4.8904, -4.8904, -4.8938, -4.8903, -4.8904, -4.8904, -4.8904, -4.8904, -4.8903, -4.8904, -4.8904, -4.8904, -4.8905, -4.8983, -4.8926, -4.8815, -4.2544, -4.2537, -3.591, -4.2555, -4.2528, -4.2543, -3.8696, -4.2523, -4.2558, -4.8842, -4.8846, -4.8862, -4.8869, -4.8874, -4.8902, -4.8903, -4.8903, -4.8903, -4.8903, -3.3383, -3.933, -3.9329, -3.7087, -3.933, -3.9329, -4.5689, -4.5692, -4.5689, -4.5689, -4.5689, -4.5689, -4.5689, -4.5689, -4.5689, -4.5689, -4.5689, -4.5689, -4.5691, -4.5689, -4.5689, -4.6173, -3.9328, -3.9328, -3.5629, -4.5595, -4.5689, -4.5689, -4.5688, -4.5687, -3.942, -3.2924, -4.4909, -4.5591, -4.5621, -4.5688, -4.5688, -4.5689, -4.5689, -4.5689, -4.5689, -4.5689, -4.5689], \"loglift\": [30.0, 29.0, 28.0, 27.0, 26.0, 25.0, 24.0, 23.0, 22.0, 21.0, 20.0, 19.0, 18.0, 17.0, 16.0, 15.0, 14.0, 13.0, 12.0, 11.0, 10.0, 9.0, 8.0, 7.0, 6.0, 5.0, 4.0, 3.0, 2.0, 1.0, 1.4277, 1.3841, 1.3525, 1.3366, 1.3365, 1.3364, 1.315, 1.2825, 1.2438, 1.2346, 1.2125, 1.2112, 1.1341, 1.117, 1.0869, 1.0736, 1.0719, 1.0646, 1.0538, 1.0508, 1.0161, 0.9988, 0.9622, 0.8807, 0.8761, 0.8558, 0.8509, 0.8474, 0.839, 0.8378, 0.2448, 0.5105, 0.3986, 0.491, 0.7905, 0.2948, 0.0201, 0.5111, 0.2072, -0.4009, -0.1005, 1.5463, 1.5443, 1.451, 1.4509, 1.4479, 1.4452, 1.4372, 1.4186, 1.3854, 1.3788, 1.3249, 1.3249, 1.2807, 1.168, 1.1647, 1.1619, 1.1466, 1.126, 1.0128, 0.9905, 0.9552, 0.941, 0.9393, 0.9123, 0.8686, 0.8604, 0.8603, 0.8559, 0.8557, 0.8556, 0.8206, 0.785, 0.758, 0.7663, 0.7569, 0.5581, 0.1589, 0.3935, 0.4825, 0.3614, 0.6018, 0.5994, -0.1135, 0.1771, 0.4865, 1.7556, 1.6819, 1.6601, 1.6601, 1.6601, 1.66, 1.6533, 1.6249, 1.5241, 1.52, 1.3758, 1.3734, 1.3733, 1.3732, 1.3691, 1.1533, 1.1371, 1.0683, 1.0683, 1.0683, 1.0683, 1.0577, 1.0554, 1.0529, 1.0499, 1.0499, 1.0499, 1.0499, 1.0499, 1.0384, 0.9657, 1.0026, 0.8177, 0.0656, 0.5763, 0.5826, -0.0386, 0.3404, 0.2926, 0.0135, -0.2002, -0.3267, -0.5575, -0.6229, 1.7706, 1.7688, 1.7667, 1.6746, 1.6746, 1.6746, 1.6686, 1.6684, 1.5281, 1.4013, 1.3875, 1.3851, 1.3823, 1.3798, 1.3722, 1.2169, 1.2165, 1.1731, 1.1545, 1.1483, 1.1396, 1.1327, 1.0637, 1.0606, 1.0604, 1.0573, 1.0516, 1.0488, 1.0487, 1.0487, 1.0042, 0.9864, 1.0081, 0.9769, 0.9553, 0.4543, 0.8188, 0.8052, 0.6118, 0.5396, 0.1127, -0.0376, 0.0719, 0.1207, 1.7424, 1.7424, 1.7393, 1.6961, 1.6312, 1.6125, 1.6044, 1.5937, 1.4533, 1.4518, 1.4515, 1.45, 1.448, 1.4478, 1.4352, 1.4166, 1.3865, 1.2325, 1.2292, 1.1464, 1.1464, 1.1281, 1.1279, 1.1279, 1.1162, 1.1129, 1.1127, 1.11, 1.1089, 1.1061, 1.0953, 1.0422, 1.0442, 0.8513, 0.8676, 0.8441, 0.5778, 0.7695, 0.1141, -0.3528, 0.2641, -0.0111, 0.1685, 0.1376, 1.9346, 1.9346, 1.9337, 1.9335, 1.932, 1.9105, 1.8018, 1.6569, 1.6525, 1.6402, 1.4782, 1.4195, 1.4086, 1.3974, 1.3913, 1.3291, 1.3105, 1.3103, 1.3103, 1.2962, 1.2929, 1.2885, 1.2883, 1.2883, 1.2883, 1.2855, 1.2846, 1.2841, 1.2841, 1.2841, 1.2841, 1.0812, 0.7058, 0.6639, 0.941, 0.933, 0.4956, 0.8538, 1.0692, -0.1444, 0.3625, 0.1928, 0.4601, -0.8533, 0.4474, 2.0816, 2.0815, 2.0805, 1.9417, 1.7772, 1.7029, 1.5477, 1.5369, 1.4618, 1.4338, 1.4338, 1.4331, 1.4265, 1.4237, 1.4236, 1.4233, 1.4233, 1.4198, 1.4191, 1.4191, 1.4191, 1.419, 1.419, 1.4179, 1.4179, 1.4179, 1.4178, 1.4178, 1.416, 1.4156, 1.4146, 1.2171, 1.199, 0.7569, 1.0577, 0.9502, 0.7532, 0.1966, 0.5554, 0.4319, 1.1177, 1.1173, -1.7466, 0.9174, 0.566, 0.5562, 1.125, 1.1154, 1.1115, 1.4053, 2.5298, 2.4412, 2.1309, 2.1246, 1.9054, 1.8884, 1.7859, 1.7737, 1.7636, 1.7636, 1.7589, 1.7589, 1.7589, 1.7589, 1.7579, 1.7577, 1.7577, 1.7576, 1.7575, 1.7454, 1.7449, 1.7201, 1.7009, 1.6992, 1.6731, 1.4903, 1.4766, 1.4766, 1.4687, 1.4644, 1.28, 0.7738, -0.2922, 1.2461, -1.4226, 1.2232, 0.8925, 1.2167, 0.8826, 0.3356, 1.4581, 0.8532, 1.4368]}, \"token.table\": {\"Topic\": [3, 4, 4, 7, 4, 6, 8, 1, 2, 6, 6, 2, 5, 4, 7, 2, 4, 5, 1, 4, 1, 2, 3, 5, 6, 4, 5, 8, 1, 2, 7, 4, 3, 5, 3, 6, 2, 2, 4, 6, 5, 1, 8, 5, 7, 1, 7, 2, 3, 4, 7, 1, 3, 7, 4, 6, 2, 3, 7, 2, 5, 7, 2, 5, 8, 2, 3, 6, 3, 4, 6, 7, 1, 2, 5, 7, 4, 6, 1, 2, 4, 5, 7, 4, 7, 1, 5, 1, 2, 3, 4, 5, 6, 7, 1, 5, 1, 3, 1, 2, 3, 4, 5, 6, 7, 8, 2, 7, 8, 4, 7, 8, 4, 5, 7, 8, 1, 2, 3, 4, 5, 7, 8, 4, 5, 8, 6, 8, 1, 8, 2, 6, 2, 3, 4, 5, 2, 4, 1, 1, 4, 3, 6, 1, 4, 5, 6, 1, 7, 1, 5, 1, 6, 3, 7, 5, 7, 2, 5, 2, 3, 4, 6, 1, 4, 6, 1, 2, 2, 5, 7, 4, 7, 3, 4, 5, 7, 8, 1, 2, 7, 1, 2, 3, 4, 5, 6, 5, 6, 7, 6, 7, 3, 8, 1, 4, 3, 4, 5, 1, 3, 8, 1, 3, 5, 6, 7, 1, 2, 4, 5, 6, 1, 6, 3, 7, 7, 2, 7, 2, 8, 1, 4, 2, 4, 3, 4, 6, 7, 2, 3, 4, 5, 7, 8, 1, 2, 4, 5, 3, 8, 2, 3, 4, 6, 7, 1, 2, 7, 3, 7, 1, 5, 4, 6, 7, 2, 2, 5, 2, 3, 3, 1, 7, 8, 4, 6, 8, 1, 4, 8, 7, 2, 3, 4, 5, 6, 7, 3, 4, 6, 3, 3, 6, 1, 4, 7, 6, 5, 8, 3, 8, 2, 7, 1, 4, 6, 3, 2, 3, 6, 2, 8, 2, 8, 1, 6, 8, 2, 1, 3, 5, 2, 3, 1, 4, 4, 3, 4, 6, 1, 2, 3, 5, 1, 2, 3, 6, 3, 8, 2, 3, 6, 7, 1, 2, 6, 7, 4, 8, 4, 5, 1, 2, 8, 1, 2, 4, 5, 6, 2, 7, 1, 3, 4, 6, 7, 4, 5, 1, 4, 2, 2, 7, 3, 6, 4, 5, 4, 7, 5, 7, 1, 2, 4, 5, 1, 8, 1, 8, 1, 2, 4, 5, 5, 2, 3, 8, 3, 5, 1, 2, 3, 6, 7, 8, 3, 7, 4, 6, 1, 2, 2, 7, 6, 8, 1, 4, 7, 8, 2, 3, 5, 2, 5, 2, 8, 1, 7, 1, 2, 3, 5, 4, 1, 5, 1, 3, 6, 2, 4, 5, 8, 2, 4, 8, 4, 7, 1, 2, 2, 7, 3, 5, 2, 1, 7, 4, 6, 1, 2, 3, 4, 5, 8, 1, 2, 3, 5, 6, 3, 5, 4, 7, 6, 7, 7, 2, 5, 6, 6, 3, 6, 3, 6, 8, 2, 7, 4, 6, 5, 6, 3, 4, 5, 6, 2, 4, 2, 5, 3, 7, 8, 3, 4, 3, 6, 7, 5, 3, 4, 8, 1, 2, 7, 1, 2, 3, 4, 5, 7, 8, 1, 3, 4, 1, 2, 3, 6, 1, 3, 3, 1, 2, 3, 5, 6, 8, 3, 7, 3, 5, 1, 7, 4, 2, 4, 5, 3, 7, 2, 7, 8, 4, 1, 4, 7, 1, 3, 8, 1, 4, 2, 8, 4, 5, 1, 2, 3, 2, 3, 6, 8, 2, 5, 6, 7, 2, 8, 1, 2, 3, 4, 5, 6, 7, 3, 6], \"Freq\": [0.5018761130362547, 0.25093805651812734, 0.43176223584013246, 0.43176223584013246, 0.2611756522413449, 0.2611756522413449, 0.2611756522413449, 0.25241999476301635, 0.25241999476301635, 0.5048399895260327, 0.8618194638362255, 0.42026832630415434, 0.42026832630415434, 0.4316986209735151, 0.4316986209735151, 0.5026015656126572, 0.2513007828063286, 0.2513007828063286, 0.6163738779548483, 0.30818693897742416, 0.17874320133150862, 0.35748640266301723, 0.17874320133150862, 0.17874320133150862, 0.17874320133150862, 0.3260583084230825, 0.3260583084230825, 0.3260583084230825, 0.31600582277193184, 0.31600582277193184, 0.31600582277193184, 0.8446761283960602, 0.25236716518960506, 0.5047343303792101, 0.4247780652663666, 0.4247780652663666, 0.8358864391893758, 0.6276000093684028, 0.3138000046842014, 0.8622597323849601, 0.8452479844460937, 0.7079336569523808, 0.1769834142380952, 0.4318770626789665, 0.4318770626789665, 0.4241030925797656, 0.4241030925797656, 0.4225839337743288, 0.2112919668871644, 0.2112919668871644, 0.2112919668871644, 0.5002552796149549, 0.25012763980747743, 0.25012763980747743, 0.4266661992058492, 0.4266661992058492, 0.8359084268593425, 0.4298203041947782, 0.4298203041947782, 0.2587512959035294, 0.2587512959035294, 0.5175025918070588, 0.21433560673433674, 0.4286712134686735, 0.21433560673433674, 0.835758193350179, 0.25690201199587853, 0.5138040239917571, 0.8376925433200076, 0.844777918581242, 0.6530843242240734, 0.3265421621120367, 0.6118822474970497, 0.17482349928487134, 0.08741174964243567, 0.08741174964243567, 0.42670509249026606, 0.42670509249026606, 0.15872255654357975, 0.3174451130871595, 0.15872255654357975, 0.15872255654357975, 0.3174451130871595, 0.6431387957072924, 0.3215693978536462, 0.25032710789605006, 0.5006542157921001, 0.2990673819551265, 0.3845152053708769, 0.08544782341575043, 0.04272391170787521, 0.12817173512362565, 0.04272391170787521, 0.04272391170787521, 0.4916509312699376, 0.2458254656349688, 0.6144083213778972, 0.3072041606889486, 0.23471700465688047, 0.19860669624812963, 0.14444123363500336, 0.21666185045250505, 0.0902757710218771, 0.0902757710218771, 0.01805515420437542, 0.01805515420437542, 0.3300944986105717, 0.3300944986105717, 0.3300944986105717, 0.33153534239348575, 0.33153534239348575, 0.33153534239348575, 0.31654159905258095, 0.6330831981051619, 0.44977114460338286, 0.44977114460338286, 0.18243055593885982, 0.045607638984714954, 0.09121527796942991, 0.13682291695414486, 0.2736458339082897, 0.09121527796942991, 0.13682291695414486, 0.6327225216249839, 0.4398598852963705, 0.4398598852963705, 0.444420998383971, 0.444420998383971, 0.4317020293415215, 0.4317020293415215, 0.6324299896379019, 0.31621499481895093, 0.31311183563313255, 0.6262236712662651, 0.4225013346940006, 0.4225013346940006, 0.3150932688893465, 0.630186537778693, 0.9126733447137766, 0.4951446556977551, 0.4951446556977551, 0.4249046048091071, 0.4249046048091071, 0.2685214128781868, 0.2685214128781868, 0.3580285505042491, 0.17901427525212454, 0.626147474124269, 0.3130737370621345, 0.25030760181551254, 0.5006152036310251, 0.6207477832178586, 0.3103738916089293, 0.26239941131692673, 0.5247988226338535, 0.4317994294414404, 0.4317994294414404, 0.751475655716925, 0.250491885238975, 0.2514122783605675, 0.2514122783605675, 0.502824556721135, 0.8622339453865712, 0.6101418832053902, 0.426654400620238, 0.426654400620238, 0.3082555835618024, 0.3082555835618024, 0.32029555871611265, 0.32029555871611265, 0.32029555871611265, 0.43163095133996227, 0.43163095133996227, 0.14488408464395508, 0.28976816928791016, 0.14488408464395508, 0.14488408464395508, 0.14488408464395508, 0.3159912899337329, 0.3159912899337329, 0.3159912899337329, 0.08941637399809493, 0.35766549599237973, 0.08941637399809493, 0.17883274799618987, 0.17883274799618987, 0.08941637399809493, 0.845305230074504, 0.6531554189950286, 0.3265777094975143, 0.4361938443358848, 0.4361938443358848, 0.43780574773210507, 0.43780574773210507, 0.4951987160797619, 0.4951987160797619, 0.21022848624919147, 0.42045697249838293, 0.42045697249838293, 0.6149880108735952, 0.3074940054367976, 0.45855041447016387, 0.4787077310121424, 0.09574154620242849, 0.09574154620242849, 0.09574154620242849, 0.19148309240485697, 0.5281900935379525, 0.17606336451265084, 0.17606336451265084, 0.17606336451265084, 0.8621306205167252, 0.5011132373604964, 0.5011132373604964, 0.4298208439444834, 0.4298208439444834, 0.8827001509214343, 0.429279505668754, 0.429279505668754, 0.2669817735863352, 0.5339635471726704, 0.7353004105042599, 0.24510013683475326, 0.6251122133734952, 0.20837073779116505, 0.18260335110814654, 0.3652067022162931, 0.18260335110814654, 0.18260335110814654, 0.3396363482015102, 0.1698181741007551, 0.1698181741007551, 0.1698181741007551, 0.1698181741007551, 0.08490908705037754, 0.525499130935204, 0.262749565467602, 0.08758318848920067, 0.17516637697840134, 0.4378063693946697, 0.4378063693946697, 0.23383207801933398, 0.11691603900966699, 0.11691603900966699, 0.350748117029001, 0.23383207801933398, 0.3160088187330545, 0.3160088187330545, 0.3160088187330545, 0.42981961651729583, 0.42981961651729583, 0.31231904633338126, 0.6246380926667625, 0.25934248744451044, 0.5186849748890209, 0.25934248744451044, 0.835892678908617, 0.7514653717796113, 0.2504884572598704, 0.20830040812066458, 0.6249012243619937, 0.8376941001542193, 0.5138829046095805, 0.25694145230479026, 0.25694145230479026, 0.29384780984858533, 0.29384780984858533, 0.29384780984858533, 0.25619358206885046, 0.5123871641377009, 0.25619358206885046, 0.8827422646605309, 0.14214988621202107, 0.28429977242404214, 0.14214988621202107, 0.14214988621202107, 0.14214988621202107, 0.28429977242404214, 0.9401406064275907, 0.42667691894123666, 0.42667691894123666, 0.837577290336018, 0.4249039683132978, 0.4249039683132978, 0.3172383196365695, 0.3172383196365695, 0.3172383196365695, 0.8622374575069511, 0.4398598563486529, 0.4398598563486529, 0.4378063377006057, 0.4378063377006057, 0.3255391139188853, 0.6510782278377706, 0.49828823902481495, 0.24914411951240747, 0.24914411951240747, 0.8376918992284692, 0.2523197874652979, 0.5046395749305957, 0.2523197874652979, 0.43727601375228414, 0.43727601375228414, 0.437342304187551, 0.437342304187551, 0.32407550228230847, 0.32407550228230847, 0.32407550228230847, 0.835751990062227, 0.5286077086355598, 0.17620256954518662, 0.35240513909037324, 0.41831481554441113, 0.41831481554441113, 0.31217187939105423, 0.6243437587821085, 0.8447349793251149, 0.2553134200764492, 0.2553134200764492, 0.5106268401528984, 0.5424400111876052, 0.2712200055938026, 0.1356100027969013, 0.8449093328956251, 0.7327488049888023, 0.2442496016629341, 0.4247501275255545, 0.4247501275255545, 0.4378054878151278, 0.4378054878151278, 0.3626733426760726, 0.1813366713380363, 0.1813366713380363, 0.1813366713380363, 0.4106185001827959, 0.6159277502741938, 0.4361937987250498, 0.4361937987250498, 0.33621446898202617, 0.33621446898202617, 0.31648231602722765, 0.6329646320544553, 0.25453218020207047, 0.5090643604041409, 0.25453218020207047, 0.2770311895692983, 0.2770311895692983, 0.13851559478464914, 0.13851559478464914, 0.13851559478464914, 0.42932492428918745, 0.42932492428918745, 0.31187302372186737, 0.3742476284662409, 0.06237460474437348, 0.18712381423312044, 0.06237460474437348, 0.3164863473111487, 0.6329726946222974, 0.8157800946858195, 0.8447352360317267, 0.9377170257522652, 0.4293110432915262, 0.4293110432915262, 0.3202294611245295, 0.640458922249059, 0.5059526611493971, 0.5059526611493971, 0.43166576579122934, 0.43166576579122934, 0.43180002615704405, 0.43180002615704405, 0.8161630507829175, 0.25215933366189514, 0.25215933366189514, 0.5043186673237903, 0.43193704895994695, 0.43193704895994695, 0.6344704806624403, 0.31723524033122014, 0.1783016720350194, 0.3566033440700388, 0.3566033440700388, 0.1783016720350194, 0.42470778440131923, 0.26380823699715356, 0.26380823699715356, 0.26380823699715356, 0.6288678918043238, 0.3144339459021619, 0.15838097719990382, 0.31676195439980764, 0.15838097719990382, 0.31676195439980764, 0.15838097719990382, 0.8293710270568339, 0.42982026370919213, 0.42982026370919213, 0.4267033154814903, 0.4267033154814903, 0.30970808917982356, 0.6194161783596471, 0.4292861028376484, 0.4292861028376484, 0.4420137130982958, 0.4420137130982958, 0.2596044196058431, 0.2596044196058431, 0.2596044196058431, 0.2596044196058431, 0.2098174766251787, 0.2098174766251787, 0.4196349532503574, 0.42027524396412425, 0.42027524396412425, 0.4372480697427154, 0.4372480697427154, 0.42393686035205663, 0.42393686035205663, 0.1250635656660482, 0.2501271313320964, 0.1250635656660482, 0.5002542626641928, 0.632672312002077, 0.6962101039544875, 0.17405252598862186, 0.8156723846673016, 0.4249037998612069, 0.4249037998612069, 0.21868132621121075, 0.21868132621121075, 0.21868132621121075, 0.21868132621121075, 0.546780962875058, 0.3645206419167053, 0.18226032095835265, 0.4316501378551292, 0.4316501378551292, 0.8167859733503634, 0.8359098465496709, 0.42931405013216506, 0.42931405013216506, 0.6288679584061095, 0.31443397920305477, 0.8344100064447952, 0.3222333599447633, 0.3222333599447633, 0.4267081495606348, 0.4267081495606348, 0.26035123513911756, 0.05207024702782352, 0.15621074108347055, 0.10414049405564704, 0.36449172919476464, 0.05207024702782352, 0.3269786137530476, 0.2615828910024381, 0.13079144550121904, 0.06539572275060952, 0.19618716825182855, 0.31549405097048194, 0.6309881019409639, 0.43191261264347036, 0.43191261264347036, 0.43619967452646424, 0.43619967452646424, 0.8827454993590573, 0.9376943877339119, 0.4268327440304768, 0.4268327440304768, 0.8622548615097327, 0.6334642225872725, 0.31673211129363626, 0.3274716196107974, 0.3274716196107974, 0.3274716196107974, 0.42930913990439273, 0.42930913990439273, 0.6375032992540579, 0.31875164962702895, 0.4268166754176178, 0.4268166754176178, 0.6287606245430508, 0.3143803122715254, 0.4268744930006375, 0.4268744930006375, 0.6276341368430337, 0.31381706842151685, 0.5366381917084311, 0.35775879447228737, 0.26833781910815657, 0.26833781910815657, 0.26833781910815657, 0.31531514000578786, 0.6306302800115757, 0.1859514830782665, 0.371902966156533, 0.371902966156533, 0.8452527489364846, 0.4366443414071113, 0.21832217070355564, 0.21832217070355564, 0.2559948326315526, 0.2559948326315526, 0.5119896652631052, 0.21093768352822295, 0.10546884176411148, 0.21093768352822295, 0.21093768352822295, 0.10546884176411148, 0.10546884176411148, 0.10546884176411148, 0.4122327372898999, 0.20611636864494995, 0.4122327372898999, 0.20805085138272872, 0.41610170276545744, 0.20805085138272872, 0.20805085138272872, 0.17749998082391888, 0.7099999232956755, 0.8376981489188879, 0.19272104176118368, 0.28908156264177554, 0.28908156264177554, 0.19272104176118368, 0.09636052088059184, 0.09636052088059184, 0.4298211886860265, 0.4298211886860265, 0.3154886917932076, 0.6309773835864152, 0.6260411418584412, 0.3130205709292206, 0.6327155658073412, 0.5026286944130642, 0.2513143472065321, 0.2513143472065321, 0.5084138766141285, 0.25420693830706426, 0.33009457509704654, 0.33009457509704654, 0.33009457509704654, 0.8447330700541279, 0.18246382966416402, 0.36492765932832805, 0.36492765932832805, 0.6715424278477437, 0.2238474759492479, 0.11192373797462395, 0.2501966844249857, 0.5003933688499714, 0.4372766527604116, 0.4372766527604116, 0.6328249183498893, 0.31641245917494465, 0.2482591026481585, 0.2482591026481585, 0.496518205296317, 0.18405741179692967, 0.36811482359385933, 0.36811482359385933, 0.18405741179692967, 0.3194858731354689, 0.3194858731354689, 0.3194858731354689, 0.15974293656773444, 0.43724500737447713, 0.43724500737447713, 0.12089380908427462, 0.24178761816854924, 0.12089380908427462, 0.06044690454213731, 0.12089380908427462, 0.18134071362641194, 0.18134071362641194, 0.4247924589793547, 0.4247924589793547], \"Term\": [\"$\", \"$\", \"1\", \"1\", \"10\", \"10\", \"10\", \"15\", \"15\", \"15\", \"20\", \"4\", \"4\", \"80\", \"80\", \"action\", \"action\", \"action\", \"add\", \"add\", \"ago\", \"ago\", \"ago\", \"ago\", \"ago\", \"agree\", \"agree\", \"agree\", \"al\", \"al\", \"al\", \"analysis\", \"answer\", \"answer\", \"area\", \"area\", \"ask\", \"ass\", \"ass\", \"asshole\", \"assume\", \"atmosphere\", \"atmosphere\", \"attempt\", \"attempt\", \"avoid\", \"avoid\", \"bad\", \"bad\", \"bad\", \"bad\", \"bear\", \"bear\", \"bear\", \"begin\", \"begin\", \"believe\", \"bet\", \"bet\", \"big\", \"big\", \"big\", \"brain\", \"brain\", \"brain\", \"break\", \"build\", \"build\", \"burn\", \"bury\", \"car\", \"car\", \"carbon\", \"carbon\", \"carbon\", \"carbon\", \"catastrophe\", \"catastrophe\", \"cause\", \"cause\", \"cause\", \"cause\", \"cause\", \"celebrateco2\", \"celebrateco2\", \"challenge\", \"challenge\", \"change\", \"change\", \"change\", \"change\", \"change\", \"change\", \"change\", \"check\", \"check\", \"claim\", \"claim\", \"climate\", \"climate\", \"climate\", \"climate\", \"climate\", \"climate\", \"climate\", \"climate\", \"climatechange\", \"climatechange\", \"climatechange\", \"close\", \"close\", \"close\", \"clue\", \"clue\", \"co\", \"co\", \"co2\", \"co2\", \"co2\", \"co2\", \"co2\", \"co2\", \"co2\", \"coal\", \"coalition\", \"coalition\", \"come\", \"come\", \"complex\", \"complex\", \"continue\", \"continue\", \"control\", \"control\", \"corruption\", \"corruption\", \"country\", \"country\", \"create\", \"crisis\", \"crisis\", \"critical\", \"critical\", \"datum\", \"datum\", \"datum\", \"datum\", \"day\", \"day\", \"debate\", \"debate\", \"deep\", \"deep\", \"degree\", \"degree\", \"demand\", \"demand\", \"denial\", \"denial\", \"denier\", \"denier\", \"denier\", \"design\", \"dioxide\", \"disappear\", \"disappear\", \"dr\", \"dr\", \"drive\", \"drive\", \"drive\", \"dumb\", \"dumb\", \"earth\", \"earth\", \"earth\", \"earth\", \"earth\", \"economy\", \"economy\", \"economy\", \"emission\", \"emission\", \"emission\", \"emission\", \"emission\", \"emission\", \"emit\", \"end\", \"end\", \"energy\", \"energy\", \"enjoy\", \"enjoy\", \"event\", \"event\", \"evidence\", \"evidence\", \"evidence\", \"explain\", \"explain\", \"f\", \"fact\", \"fact\", \"fact\", \"fact\", \"fact\", \"fake\", \"fake\", \"fake\", \"fake\", \"false\", \"fear\", \"fear\", \"fight\", \"fight\", \"fn\", \"food\", \"food\", \"forget\", \"forget\", \"fossil\", \"fossil\", \"fuck\", \"fuck\", \"gas\", \"gas\", \"gas\", \"gas\", \"gerald\", \"gerald\", \"gerald\", \"gerald\", \"gerald\", \"gerald\", \"global\", \"global\", \"global\", \"global\", \"goal\", \"goal\", \"good\", \"good\", \"good\", \"good\", \"good\", \"gore\", \"gore\", \"gore\", \"greenhouse\", \"greenhouse\", \"greta\", \"greta\", \"grow\", \"grow\", \"grow\", \"guess\", \"head\", \"head\", \"heat\", \"heat\", \"hell\", \"high\", \"high\", \"high\", \"history\", \"history\", \"history\", \"hope\", \"hope\", \"hope\", \"hot\", \"ice\", \"ice\", \"ice\", \"ice\", \"ice\", \"ice\", \"idiot\", \"idiotic\", \"idiotic\", \"imagine\", \"impact\", \"impact\", \"increase\", \"increase\", \"increase\", \"induce\", \"input\", \"input\", \"interested\", \"interested\", \"invest\", \"invest\", \"ipcc\", \"ipcc\", \"ipcc\", \"island\", \"know\", \"know\", \"know\", \"large\", \"large\", \"laugh\", \"laugh\", \"leave\", \"leave\", \"leave\", \"leftist\", \"level\", \"level\", \"level\", \"liberal\", \"liberal\", \"lie\", \"lie\", \"literally\", \"live\", \"live\", \"live\", \"long\", \"long\", \"long\", \"lot\", \"low\", \"low\", \"m\", \"m\", \"main\", \"main\", \"man\", \"man\", \"man\", \"man\", \"mann\", \"mann\", \"market\", \"market\", \"meet\", \"meet\", \"mental\", \"mental\", \"michael\", \"michael\", \"michael\", \"million\", \"million\", \"million\", \"million\", \"million\", \"mission\", \"mission\", \"model\", \"model\", \"model\", \"model\", \"model\", \"modeler\", \"modeler\", \"modeling\", \"moment\", \"money\", \"morning\", \"morning\", \"narrative\", \"narrative\", \"natural\", \"natural\", \"nature\", \"nature\", \"net\", \"net\", \"news\", \"number\", \"number\", \"number\", \"observation\", \"observation\", \"ocean\", \"ocean\", \"oil\", \"oil\", \"oil\", \"oil\", \"opposite\", \"paper\", \"paper\", \"paper\", \"peer\", \"peer\", \"people\", \"people\", \"people\", \"people\", \"people\", \"point\", \"polar\", \"polar\", \"political\", \"political\", \"power\", \"power\", \"ppl\", \"ppl\", \"ppm\", \"ppm\", \"predict\", \"predict\", \"predict\", \"predict\", \"problem\", \"problem\", \"problem\", \"produce\", \"produce\", \"professor\", \"professor\", \"project\", \"project\", \"proof\", \"proof\", \"proof\", \"proof\", \"propaganda\", \"prove\", \"prove\", \"public\", \"push\", \"push\", \"read\", \"read\", \"read\", \"read\", \"real\", \"real\", \"real\", \"record\", \"record\", \"rely\", \"represent\", \"response\", \"response\", \"review\", \"review\", \"ring\", \"risk\", \"risk\", \"rt\", \"rt\", \"science\", \"science\", \"science\", \"science\", \"science\", \"science\", \"scientist\", \"scientist\", \"scientist\", \"scientist\", \"scientist\", \"sea\", \"sea\", \"sensitivity\", \"sensitivity\", \"share\", \"share\", \"shit\", \"shut\", \"sick\", \"sick\", \"sign\", \"simply\", \"simply\", \"sit\", \"sit\", \"sit\", \"small\", \"small\", \"snow\", \"snow\", \"solar\", \"solar\", \"spend\", \"spend\", \"start\", \"start\", \"stick\", \"stick\", \"stop\", \"stop\", \"stupid\", \"stupid\", \"stupid\", \"stupidity\", \"stupidity\", \"support\", \"support\", \"support\", \"surgeon\", \"talk\", \"talk\", \"talk\", \"tax\", \"tax\", \"tax\", \"temperature\", \"temperature\", \"temperature\", \"temperature\", \"temperature\", \"temperature\", \"temperature\", \"theory\", \"theory\", \"theory\", \"thing\", \"thing\", \"thing\", \"thing\", \"think\", \"think\", \"thinking\", \"time\", \"time\", \"time\", \"time\", \"time\", \"time\", \"tire\", \"tire\", \"title\", \"title\", \"today\", \"today\", \"topic\", \"truth\", \"truth\", \"truth\", \"tweet\", \"tweet\", \"understand\", \"understand\", \"understand\", \"utter\", \"warm\", \"warm\", \"warm\", \"warming\", \"warming\", \"warming\", \"weather\", \"weather\", \"wind\", \"wind\", \"word\", \"word\", \"work\", \"work\", \"work\", \"world\", \"world\", \"world\", \"world\", \"wrong\", \"wrong\", \"wrong\", \"wrong\", \"yeah\", \"yeah\", \"year\", \"year\", \"year\", \"year\", \"year\", \"year\", \"year\", \"yr\", \"yr\"]}, \"R\": 30, \"lambda.step\": 0.01, \"plot.opts\": {\"xlab\": \"PC1\", \"ylab\": \"PC2\"}, \"topic.order\": [7, 5, 1, 2, 8, 6, 3, 4]};\n",
       "\n",
       "function LDAvis_load_lib(url, callback){\n",
       "  var s = document.createElement('script');\n",
       "  s.src = url;\n",
       "  s.async = true;\n",
       "  s.onreadystatechange = s.onload = callback;\n",
       "  s.onerror = function(){console.warn(\"failed to load library \" + url);};\n",
       "  document.getElementsByTagName(\"head\")[0].appendChild(s);\n",
       "}\n",
       "\n",
       "if(typeof(LDAvis) !== \"undefined\"){\n",
       "   // already loaded: just create the visualization\n",
       "   !function(LDAvis){\n",
       "       new LDAvis(\"#\" + \"ldavis_el501141404599333489127241295855\", ldavis_el501141404599333489127241295855_data);\n",
       "   }(LDAvis);\n",
       "}else if(typeof define === \"function\" && define.amd){\n",
       "   // require.js is available: use it to load d3/LDAvis\n",
       "   require.config({paths: {d3: \"https://d3js.org/d3.v5\"}});\n",
       "   require([\"d3\"], function(d3){\n",
       "      window.d3 = d3;\n",
       "      LDAvis_load_lib(\"https://cdn.jsdelivr.net/gh/bmabey/pyLDAvis@3.3.1/pyLDAvis/js/ldavis.v3.0.0.js\", function(){\n",
       "        new LDAvis(\"#\" + \"ldavis_el501141404599333489127241295855\", ldavis_el501141404599333489127241295855_data);\n",
       "      });\n",
       "    });\n",
       "}else{\n",
       "    // require.js not available: dynamically load d3 & LDAvis\n",
       "    LDAvis_load_lib(\"https://d3js.org/d3.v5.js\", function(){\n",
       "         LDAvis_load_lib(\"https://cdn.jsdelivr.net/gh/bmabey/pyLDAvis@3.3.1/pyLDAvis/js/ldavis.v3.0.0.js\", function(){\n",
       "                 new LDAvis(\"#\" + \"ldavis_el501141404599333489127241295855\", ldavis_el501141404599333489127241295855_data);\n",
       "            })\n",
       "         });\n",
       "}\n",
       "</script>"
      ],
      "text/plain": [
       "PreparedData(topic_coordinates=              x         y  topics  cluster       Freq\n",
       "topic                                                \n",
       "6     -0.068471  0.160322       1        1  19.001676\n",
       "4     -0.167868  0.064844       2        1  16.776888\n",
       "0      0.046944 -0.023485       3        1  13.596859\n",
       "1      0.182105  0.018206       4        1  13.345967\n",
       "7     -0.148526 -0.051591       5        1  12.466814\n",
       "5      0.122510 -0.155263       6        1  10.185366\n",
       "2      0.093791  0.162770       7        1   8.687261\n",
       "3     -0.060485 -0.175803       8        1   5.939172, topic_info=            Term       Freq      Total Category  logprob  loglift\n",
       "28           co2  21.000000  21.000000  Default  30.0000  30.0000\n",
       "61       history   6.000000   6.000000  Default  29.0000  29.0000\n",
       "94         model  16.000000  16.000000  Default  28.0000  28.0000\n",
       "227        point   3.000000   3.000000  Default  27.0000  27.0000\n",
       "32       science  19.000000  19.000000  Default  26.0000  26.0000\n",
       "..           ...        ...        ...      ...      ...      ...\n",
       "92          real   0.787691   5.486658   Topic8  -4.5689   0.8826\n",
       "134  temperature   0.787685   9.481473   Topic8  -4.5689   0.3356\n",
       "234        leave   0.787663   3.085701   Topic8  -4.5689   1.4581\n",
       "9     atmosphere   0.787662   5.650247   Topic8  -4.5689   0.8532\n",
       "211        ocean   0.787662   3.152235   Topic8  -4.5689   1.4368\n",
       "\n",
       "[386 rows x 6 columns], token_table=      Topic      Freq  Term\n",
       "term                       \n",
       "288       3  0.501876     $\n",
       "288       4  0.250938     $\n",
       "111       4  0.431762     1\n",
       "111       7  0.431762     1\n",
       "308       4  0.261176    10\n",
       "...     ...       ...   ...\n",
       "64        5  0.120894  year\n",
       "64        6  0.181341  year\n",
       "64        7  0.181341  year\n",
       "231       3  0.424792    yr\n",
       "231       6  0.424792    yr\n",
       "\n",
       "[578 rows x 3 columns], R=30, lambda_step=0.01, plot_opts={'xlab': 'PC1', 'ylab': 'PC2'}, topic_order=[7, 5, 1, 2, 8, 6, 3, 4])"
      ]
     },
     "execution_count": 317,
     "metadata": {},
     "output_type": "execute_result"
    }
   ],
   "source": [
    "vis = pyLDAvis.gensim_models.prepare(model_6_3,corpus,id2word,mds=\"mmds\",R=30) # use gensim_models instead of gensim\n",
    "vis"
   ]
  },
  {
   "cell_type": "code",
   "execution_count": 309,
   "id": "d4ed1de0",
   "metadata": {},
   "outputs": [
    {
     "name": "stdout",
     "output_type": "stream",
     "text": [
      "------ Topic 0 ------\n",
      "climate model think heat science time idiot $ tweet temperature\n",
      "\n",
      "------ Topic 1 ------\n",
      "climate co2 datum history propaganda topic earth warm coal science\n",
      "\n",
      "------ Topic 2 ------\n",
      "year co2 degree fact ice warm big tax good invest\n",
      "\n",
      "------ Topic 3 ------\n",
      "co2 point history forget read talk meet paper f stupid\n",
      "\n",
      "------ Topic 4 ------\n",
      "climate change scientist gerald year emission stop fuck time global\n",
      "\n",
      "------ Topic 5 ------\n",
      "climate good model scientist year build support narrative end sign\n",
      "\n",
      "------ Topic 6 ------\n",
      "climate carbon change warming global fact model science scientist long\n",
      "\n",
      "------ Topic 7 ------\n",
      "science co2 climate proof datum change emission answer challenge brain\n",
      "\n"
     ]
    }
   ],
   "source": [
    "# Filtering for words \n",
    "words_6_3 = [re.findall(r'\"([^\"]*)\"',t[1]) for t in model_6_3.print_topics()]\n",
    "\n",
    "# Create Topics\n",
    "topics_6_3 = [' '.join(t[0:10]) for t in words_6_3]\n",
    "\n",
    "# Getting the topics\n",
    "for id, t in enumerate(topics_6_3): \n",
    "    print(f\"------ Topic {id} ------\")\n",
    "    print(t, end=\"\\n\\n\")\n",
    "\n",
    "  "
   ]
  },
  {
   "cell_type": "markdown",
   "id": "46a5a3fa",
   "metadata": {},
   "source": [
    "https://towardsdatascience.com/twitter-topic-modeling-e0e3315b12e2"
   ]
  },
  {
   "cell_type": "markdown",
   "id": "f40c2111",
   "metadata": {},
   "source": [
    "https://www.youtube.com/watch?v=UkmIljRIG_M"
   ]
  },
  {
   "cell_type": "code",
   "execution_count": 379,
   "id": "e7718298",
   "metadata": {},
   "outputs": [],
   "source": [
    "!pip3 freeze > requirements.txt\n"
   ]
  },
  {
   "cell_type": "code",
   "execution_count": null,
   "id": "d9987db5",
   "metadata": {},
   "outputs": [],
   "source": []
  }
 ],
 "metadata": {
  "kernelspec": {
   "display_name": "Python 3 (ipykernel)",
   "language": "python",
   "name": "python3"
  },
  "language_info": {
   "codemirror_mode": {
    "name": "ipython",
    "version": 3
   },
   "file_extension": ".py",
   "mimetype": "text/x-python",
   "name": "python",
   "nbconvert_exporter": "python",
   "pygments_lexer": "ipython3",
   "version": "3.9.7"
  }
 },
 "nbformat": 4,
 "nbformat_minor": 5
}
